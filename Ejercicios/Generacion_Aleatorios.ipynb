{
 "cells": [
  {
   "cell_type": "markdown",
   "metadata": {},
   "source": [
    "# Cuaderno Jupyter"
   ]
  },
  {
   "cell_type": "markdown",
   "metadata": {},
   "source": [
    "<p>Jupyter es una aplicación web de código abierto que ha sido desarrollada utilizando lenguaje HTML. Con esto se ha conseguido que los usuarios podamos crear, compartir y editar documentos en los que se puede ejecutar código Python en nuestro navegador. También podremos hacer anotaciones, insertar ecuaciones, visualizar resultados y documentar funcionalidades.</p>\n",
    "<p>Si con anterioridad hemos instalado Anaconda Distribution ya tendremos instalado Jupyter Notebook. Por lo que podremos ejecutarlo desde la terminal (Ctrl+Alt+T) escribiendo:</p>\n",
    "<br>\n",
    "<code style=\"margin-left:23px\">jupyter-notebook</code>\n",
    "<p>En caso de que no querer instalar Anaconda Distribution tendremos la opción de poder instalar Jupyter Notebook utilizando pip de Python. Para ello, solo tendremos que abrir una terminal (Ctrl+Alt+T) y ejecutar el siguiente comando:</p>\n",
    "<br>\n",
    "<code style=\"margin-left:23px\">pip install notebook</code>\n",
    "<p>Una vez terminada la instalación, ya podremos lanzar el programa utilizando el siguiente comando en la misma terminal:</p>\n",
    "<br>\n",
    "<code style=\"margin-left:23px\">jupyter-notebook</code>\n",
    "<p>Sólo queda importar el archivo con extensión \".ipynb\" y podra ser modificado y ejecutado el código que contiene. La forma más rápida y cómoda, y que evita errores, es seleccionar en el menú superior \"Kernel\" la opción \"Restart & Run All\"</p>"
   ]
  },
  {
   "cell_type": "markdown",
   "metadata": {},
   "source": [
    "<h1>Generación de Aleatorios</h1>"
   ]
  },
  {
   "cell_type": "markdown",
   "metadata": {},
   "source": [
    "<p>Para la generación de la secuencia de bits (binario) se han recogido una serie de valores, y se han colocado en forma matricial, que corresponden a los resultados de la temporada 2017/2018 de la NBA del equipo ganador de dicha competición, los Golden State Warriors</p>\n",
    "<p>En concreto, se han escogido las anotaciones del equipo local y visitante de cada partido, siendo siempre uno de los dos el equipo elegido, y se le ha aplicado el módulo 2. Además, existe una tercera columna que indica con 1 que los Warriors ganaron el partido o 0, que significa que lo perdieron.</p>"
   ]
  },
  {
   "cell_type": "code",
   "execution_count": 1,
   "metadata": {},
   "outputs": [],
   "source": [
    "import numpy as np\n",
    "\n",
    "data = np.array([[121, 122, 0], [128, 120, 1], [101, 111, 0], \n",
    "                 [133, 103, 1], [117, 112, 1], [120, 117, 1], \n",
    "                 [107, 115, 0], [141, 113, 1], [112, 92, 1], \n",
    "                 [127, 108, 1], [97, 80, 1], [125, 101, 1], \n",
    "                 [135, 114, 1], [110, 100, 1], [88, 92, 0], \n",
    "                 [124, 116, 1], [118, 111, 1], [91, 108, 0], \n",
    "                 [143, 94, 1], [110, 95, 1], [106, 110, 0], \n",
    "                 [127, 123, 1], [133, 112, 1], [123, 95, 1], \n",
    "                 [125, 115, 1], [101, 87, 1], [102, 98, 1], \n",
    "                 [111, 104, 1], [112, 97, 1], [116, 114, 1], \n",
    "                 [97, 84, 1], [113, 106, 1], [81, 96, 0], \n",
    "                 [99, 92, 1], [126, 101, 1], [100, 111, 0], \n",
    "                 [141, 128, 1], [125, 122, 1], [124, 114, 1], \n",
    "                 [121, 105, 1], [124, 114, 1], [106, 125, 0], \n",
    "                 [108, 94, 1], [127, 125, 1], [118, 108, 1], \n",
    "                 [119, 112, 1], [108, 116, 0], [123, 112, 1], \n",
    "                 [126, 113, 1], [109, 105, 1], [99, 129, 0], \n",
    "                 [119, 104, 1], [108, 115, 0], [105, 125, 0], \n",
    "                 [121, 103, 1], [122, 103, 1], [129, 83, 1], \n",
    "                 [117, 123, 0], [134, 127, 1], [112, 80, 1], \n",
    "                 [125, 111, 1], [109, 101, 1], [114, 109, 1], \n",
    "                 [114, 101, 1], [110, 107, 1], [108, 125, 0], \n",
    "                 [103, 109, 0], [117, 106, 1], [93, 98, 0], \n",
    "                 [124, 109, 1], [75, 89, 0], [106, 94, 1], \n",
    "                 [91, 110, 0], [81, 92, 0], [107, 116, 0], \n",
    "                 [112, 96, 1], [117, 107, 1], [111, 107, 1], \n",
    "                 [106, 126, 0], [120, 126, 0], [117, 100, 1], \n",
    "                 [79, 119, 0], [113, 92, 1], [116, 101, 1], \n",
    "                 [110, 97, 1], [90, 103, 0], [99, 91, 1], \n",
    "                 [123, 101, 1], [121, 116, 1], [100, 119, 0], \n",
    "                 [118, 92, 1], [113, 104, 1], [119, 106, 1], \n",
    "                 [105, 127, 0], [126, 85, 1], [92, 95, 0], \n",
    "                 [94, 98, 0], [115, 86, 1], [101, 92, 1], \n",
    "                 [124, 114, 1], [122, 103, 1], [110, 102, 1], \n",
    "                 [108, 85, 1]])"
   ]
  },
  {
   "cell_type": "markdown",
   "metadata": {},
   "source": [
    "<p>La aleatoriedad reside en la propia esencia del baloncesto. Existen canastas por valor de 1, 2 y 3 puntos. Además en cada jugada puede obtenerse un numero variable de puntos, dependiendo de la canasta y de las faltas cometidas/recibidas.</p>\n",
    "<p>Los bits mas constantes corresponden a las victorias ya que el equipo escogido tuvo un promedio muy alto de victorias en la temporada.</p>\n",
    "<p>Se eligió el equipo de los Golden State Warriors ya que, al ser el ganador, fue uno de los dos equipos que más partidos disputaron, consiguiendo así una cadena de bits más larga.</p>"
   ]
  },
  {
   "cell_type": "code",
   "execution_count": 2,
   "metadata": {},
   "outputs": [
    {
     "name": "stdout",
     "output_type": "stream",
     "text": [
      "100001110111101011110111001101101111101001000001011100101011000111101111111111001101011001101101100101011010101101001111001010001111001101000101011111110101010110111011111110011001111111011011011010110101100011110001100100100001111111000000101110101011011010111111101010001101101110011010000101101001011001011\n"
     ]
    }
   ],
   "source": [
    "binary = ''\n",
    "for i in range(0, len(data)):\n",
    "    binary = binary + str(data[i][0]%2) + str(data[i][1]%2) + str(data[i][2])\n",
    "print(binary)"
   ]
  },
  {
   "cell_type": "markdown",
   "metadata": {},
   "source": [
    "<p>El procesamiento es simple. A la primera y segunda columna de la matriz se le aplica el módulo 2, de manera que devuelva siempre 0 ó 1, mientras que la tercera columna se deja tal cual. Esto significa que cada pareja de 3 bits representa un partido. En total hay 309 bits.</p>\n",
    "<p>A pesar de escoger cada 0 ó 1 de forma aleatoria, debido a que los resultados se anotan y quedan registrados es posible reproducir la misma cadena con facilidad. Esto se haría tomando los datos y aplicándoles las operaciones correspondientes.</p>"
   ]
  }
 ],
 "metadata": {
  "kernelspec": {
   "display_name": "Python 3",
   "language": "python",
   "name": "python3"
  },
  "language_info": {
   "codemirror_mode": {
    "name": "ipython",
    "version": 3
   },
   "file_extension": ".py",
   "mimetype": "text/x-python",
   "name": "python",
   "nbconvert_exporter": "python",
   "pygments_lexer": "ipython3",
   "version": "3.7.1"
  }
 },
 "nbformat": 4,
 "nbformat_minor": 2
}
