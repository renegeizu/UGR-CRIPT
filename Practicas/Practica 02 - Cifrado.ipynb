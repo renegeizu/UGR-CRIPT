{
 "cells": [
  {
   "cell_type": "markdown",
   "metadata": {},
   "source": [
    "# Cuaderno Jupyter"
   ]
  },
  {
   "cell_type": "markdown",
   "metadata": {},
   "source": [
    "<p style=\"color:blue;text-align:justify;\">Jupyter es una aplicación web de código abierto que ha sido desarrollada utilizando lenguaje HTML. Con esto se ha conseguido que los usuarios podamos crear, compartir y editar documentos en los que se puede ejecutar código Python en nuestro navegador. También podremos hacer anotaciones, insertar ecuaciones, visualizar resultados y documentar funcionalidades.</p>\n",
    "<p style=\"color:blue;text-align:justify;\">Si con anterioridad hemos instalado Anaconda Distribution ya tendremos instalado Jupyter Notebook. Por lo que podremos ejecutarlo desde la terminal (Ctrl+Alt+T) escribiendo:</p>\n",
    "<br>\n",
    "<code style=\"margin-left:23px\">jupyter-notebook</code>\n",
    "<p style=\"color:blue;text-align:justify;\">En caso de que no querer instalar Anaconda Distribution tendremos la opción de poder instalar Jupyter Notebook utilizando pip de Python. Para ello, solo tendremos que abrir una terminal (Ctrl+Alt+T) y ejecutar el siguiente comando:</p>\n",
    "<br>\n",
    "<code style=\"margin-left:23px\">pip install notebook</code>\n",
    "<p style=\"color:blue;text-align:justify;\">Una vez terminada la instalación, ya podremos lanzar el programa utilizando el siguiente comando en la misma terminal:</p>\n",
    "<br>\n",
    "<code style=\"margin-left:23px\">jupyter-notebook</code>\n",
    "<p style=\"color:blue;text-align:justify;\">Sólo queda importar el archivo con extensión \".ipynb\" y podra ser modificado y ejecutado el código que contiene. La forma más rápida y cómoda, y que evita errores, es seleccionar en el menú superior \"Kernel\" la opción \"Restart & Run All\"</p>"
   ]
  },
  {
   "cell_type": "markdown",
   "metadata": {},
   "source": [
    "# Practica 02 - Cifrado"
   ]
  },
  {
   "cell_type": "markdown",
   "metadata": {},
   "source": [
    "<p style=\"color:blue;text-align:justify;\">Las siguientes funciones son las proporcionadas. El \"import\" es necesario para la lectura de los archivos. La variable \"dataPath\" contiene la dirección de donde estan los archivos para mayor comodidad.</p>"
   ]
  },
  {
   "cell_type": "code",
   "execution_count": 1,
   "metadata": {
    "scrolled": true
   },
   "outputs": [],
   "source": [
    "import io\n",
    "\n",
    "dataPath = \"dataFiles/\"\n",
    "\n",
    "def cadenatolista(cadena):\n",
    "    l = []\n",
    "    for s in cadena:\n",
    "        x = ord(s)\n",
    "        if x == 32:\n",
    "            l.append(-1)\n",
    "        elif x < 79:\n",
    "            l.append(x-65)\n",
    "        elif x == 209:\n",
    "            l.append(14)\n",
    "        else:\n",
    "            l.append(x-64)\n",
    "    return l\n",
    "\n",
    "def frecuencias(texto):\n",
    "    tabla = [0, 0, 0, 0, 0, 0, 0, 0, 0, 0, 0, 0, 0, 0, 0, 0, 0, \n",
    "             0, 0, 0, 0, 0, 0, 0, 0, 0, 0]\n",
    "    lista = cadenatolista(texto)\n",
    "    for x in lista:\n",
    "        tabla[x] = tabla[x] + 1\n",
    "    return tabla\n",
    "\n",
    "def indice_coincidencia(texto):\n",
    "    tabla = frecuencias(texto)\n",
    "    num_caracteres = 0\n",
    "    aux = 0\n",
    "    for x in tabla:\n",
    "        num_caracteres += x\n",
    "        aux = aux + x * (x-1)\n",
    "    ic = aux/(num_caracteres * (num_caracteres-1))\n",
    "    return ic\n",
    "\n",
    "def listatocadena(l):\n",
    "    s = ''\n",
    "    for x in l:\n",
    "        if x == -1:\n",
    "            s = s + ' '\n",
    "        elif x <= 13:\n",
    "            s = s + chr(x+65)\n",
    "        elif x == 14:\n",
    "            s = s + 'Ñ'\n",
    "        else:\n",
    "            s = s + chr(x+64)\n",
    "    return s"
   ]
  },
  {
   "cell_type": "markdown",
   "metadata": {},
   "source": [
    "<p style=\"color:blue;text-align:justify;\">Las siguientes funciones se han implementado para ayudar a descifrar los archivos y realizar los análisis necesarios.</p>"
   ]
  },
  {
   "cell_type": "code",
   "execution_count": 2,
   "metadata": {
    "scrolled": true
   },
   "outputs": [],
   "source": [
    "def apariciones(cadena, texto):\n",
    "    m = len(cadena)\n",
    "    n = len(texto)\n",
    "    posicion = []\n",
    "    for i in range(n-m):\n",
    "        if cadena == texto[i:i+m]:\n",
    "            posicion.append(i)\n",
    "    return (posicion, len(posicion))\n",
    "\n",
    "def cifra_sustitucion(texto, permutacion):\n",
    "    texto_cifrado = ''\n",
    "    for x in texto:\n",
    "        y = permutacion.get(x)\n",
    "        texto_cifrado = texto_cifrado + y\n",
    "    return texto_cifrado\n",
    "\n",
    "def cifra_transposicion(texto, n):\n",
    "    m = len(texto)\n",
    "    k = m%n\n",
    "    texto_cif = ''\n",
    "    for i in range(n):\n",
    "        if i < k:\n",
    "            aux = m//n+1\n",
    "        else: \n",
    "            aux = m//n\n",
    "        for j in range(aux):\n",
    "            texto_cif = texto_cif + texto[i+n*j]\n",
    "    return texto_cif\n",
    "\n",
    "def cifra_vigenere(texto, clave):\n",
    "    lista_texto = cadenatolista(texto)\n",
    "    lista_clave = cadenatolista(clave)\n",
    "    (n, m) = (len(lista_texto), len(lista_clave))\n",
    "    for i in range(n):\n",
    "        lista_texto[i] = (lista_texto[i] + lista_clave[i%m])%27\n",
    "    texto_cifrado = listatocadena(lista_texto)\n",
    "    return texto_cifrado\n",
    "\n",
    "def descifra_sustitucion(texto, permutacion):\n",
    "    texto_des = ''\n",
    "    p0 = permutacion[0]\n",
    "    p1 = permutacion[1]\n",
    "    for x in texto:\n",
    "        if x in p0:\n",
    "            pos = p0.index(x)\n",
    "            texto_des = texto_des + p1[pos]\n",
    "        else:\n",
    "            texto_des = texto_des + x\n",
    "    return texto_des\n",
    "\n",
    "def divide_cadena(cadena, n):\n",
    "    subcadenas = []\n",
    "    for i in range(n):\n",
    "        subcadenas.append('')\n",
    "    j = 0\n",
    "    for x in cadena:\n",
    "        subcadenas[j] = subcadenas[j] + x\n",
    "        j = (j+1)%n\n",
    "    return subcadenas\n",
    "\n",
    "def ngramas_repetidos(texto, n, m = 5):\n",
    "    ngramas = []\n",
    "    ngramasrep = []\n",
    "    frecuencias = []\n",
    "    for i in range(m):\n",
    "        frecuencias.append(0)\n",
    "        ngramasrep.append(texto[i:i+n])\n",
    "    minimo = 0\n",
    "    for i in range(len(texto)-n):\n",
    "        aux = texto[i:i+n]\n",
    "        if aux not in ngramas:\n",
    "            f = 1\n",
    "            ngramas.append(aux)\n",
    "            for j in range(i+1, len(texto)-n):\n",
    "                if aux == texto[j:j+n]:\n",
    "                    f += 1\n",
    "            if f > minimo:\n",
    "                k = frecuencias.index(minimo)\n",
    "                ngramasrep[k] = aux\n",
    "                frecuencias[k] = f\n",
    "                minimo = min(frecuencias)\n",
    "    return (ngramasrep, frecuencias)\n",
    "\n",
    "def ocurrencias(cadena, texto, n):\n",
    "    l = len(texto)\n",
    "    k = len(cadena)\n",
    "    ocur = 0\n",
    "    for i in range(l):\n",
    "        contador = i\n",
    "        cadenab = ''\n",
    "        for j in range(k):\n",
    "            if contador == -1:\n",
    "                cadenab = cadenab + ' '\n",
    "                contador = 0\n",
    "            else:\n",
    "                cadenab = cadenab + texto[contador]\n",
    "                contador = siguiente(l, n, contador)\n",
    "        if cadena == cadenab:\n",
    "            ocur +=1\n",
    "    return ocur\n",
    "\n",
    "def siguiente(m, n, x):\n",
    "    aux = m%n\n",
    "    aux2 = m//n\n",
    "    if aux == 0:\n",
    "        ultimo = -1\n",
    "    else: \n",
    "        ultimo = aux * (aux2 + 1) - 1\n",
    "    if ultimo == -1 and x == m-1:\n",
    "        return -1\n",
    "    elif x < ultimo:\n",
    "        return x + 1 + aux2\n",
    "    elif x >= m - aux2:\n",
    "        return x + aux2 + 1 - m\n",
    "    elif x > ultimo:\n",
    "        return x + aux2\n",
    "    else:\n",
    "        return -1"
   ]
  },
  {
   "cell_type": "code",
   "execution_count": 3,
   "metadata": {},
   "outputs": [],
   "source": [
    "def analisis_vigenere(text, n):\n",
    "    partition = cifra_transposicion(text, n)\n",
    "    start = 0\n",
    "    for i in range(0, n-1):\n",
    "        end = siguiente(len(partition), n, start)\n",
    "        freq = frecuencias(partition[start:end-1])\n",
    "        print('\\nFrecuencias (Digito {}): {}'.format(i+1, freq))\n",
    "        maxim = max(partition[start:end-1])\n",
    "        print('La posible A se encuentra desplazada {} ó {}'.format(freq.index(max(freq))-4, freq.index(max(freq))))\n",
    "        start = end\n",
    "    freq = frecuencias(partition[start:len(partition)])\n",
    "    print('\\nFrecuencias (Digito {}): {}'.format(n, freq))\n",
    "    maxim = max(partition[start:len(partition)])\n",
    "    print('La posible A se encuentra desplazada {} ó {}'.format(freq.index(max(freq))-4, freq.index(max(freq))))\n",
    "    \n",
    "def descifra_escitalo(text, rango = 100):\n",
    "    position = 0\n",
    "    value = 0\n",
    "    for i in range(1, rango):\n",
    "        aux = ocurrencias('QUE', text, i)\n",
    "        if(aux > value):\n",
    "            value = aux\n",
    "            position = i\n",
    "    index = 0\n",
    "    textResult = text[0]\n",
    "    for i in range(0, len(text)):\n",
    "        index = siguiente(len(text), position, index)\n",
    "        textResult += text[index]\n",
    "    return textResult\n",
    "    \n",
    "def descifra_vigenere(text, password):\n",
    "    clave = ''\n",
    "    diccionario = [\"A\", \"B\", \"C\", \"D\", \"E\", \"F\", \"G\", \"H\", \"I\", \"J\", \"K\",\n",
    "                   \"L\", \"M\", \"N\", \"Ñ\", \"O\", \"P\", \"Q\", \"R\", \"S\", \"T\", \"U\",\n",
    "                   \"V\", \"W\", \"X\", \"Y\", \"Z\"]\n",
    "    for i in range(0, len(password)):\n",
    "        position = ord(password[i])-65\n",
    "        if position > 13:\n",
    "            position += 1\n",
    "        position = 27 - position\n",
    "        if position == 27:\n",
    "            position = 0\n",
    "        clave += diccionario[position]\n",
    "    return cifra_vigenere(text, clave)\n",
    "\n",
    "def get_analisis(text):\n",
    "    print('\\nFrecuencias: {}'.format(frecuencias(text)))\n",
    "    print('\\nIndice de Coincidencia: {}'.format(indice_coincidencia(text)))\n",
    "\n",
    "def get_clave(text, n = 2):\n",
    "    while True:\n",
    "        cadenas = divide_cadena(text, n)\n",
    "        for i in range(0, n):\n",
    "            flag = True\n",
    "            ic = indice_coincidencia(cadenas[i])\n",
    "            if(ic > 0.08 or ic < 0.06):\n",
    "                flag = False\n",
    "                break\n",
    "        if flag == True:\n",
    "            break\n",
    "        n += 1\n",
    "    return n\n",
    "\n",
    "def read_text(uri):\n",
    "    with io.open(uri, 'r', encoding='utf8') as file:\n",
    "        text = file.read()\n",
    "        file.close()\n",
    "    return text "
   ]
  },
  {
   "cell_type": "markdown",
   "metadata": {},
   "source": [
    "## Primer Texto Encriptado"
   ]
  },
  {
   "cell_type": "markdown",
   "metadata": {},
   "source": [
    "<p style=\"color:blue;text-align:justify;\"> Todos los textos a analizar se comienzan de la misma forma. Lo primero es utilizar la función \"indice_coincidencias()\" que devuelve el índice de coincidencia para descubrir si la distribución de las letras corresponde al idioma español o para averiguar si las frecuencias han sido atenuadas. El índice en español es más o menos de 0,07.</p>\n",
    "<p style=\"color:blue;text-align:justify;\">Con la función \"frecuencias()\" obtenemos el número de apariciones de cada letra en el texto. En el idioma español, unas letras aparecen más que otras. Con las frecuencias podemos intentar ver el cambio utilizado localizando la posible posición de las dos letras más frecuentes, \"A\" y \"E\".</p>"
   ]
  },
  {
   "cell_type": "code",
   "execution_count": 4,
   "metadata": {
    "scrolled": true
   },
   "outputs": [
    {
     "name": "stdout",
     "output_type": "stream",
     "text": [
      "\n",
      "Frecuencias: [49, 0, 7, 45, 23, 598, 59, 178, 237, 576, 28, 55, 37, 271, 13, 1, 256, 146, 328, 31, 431, 105, 25, 327, 421, 189, 176]\n",
      "\n",
      "Indice de Coincidencia: 0.07540558297656552\n"
     ]
    }
   ],
   "source": [
    "text1 = read_text(dataPath + \"Texto1.txt\")\n",
    "get_analisis(text1)"
   ]
  },
  {
   "cell_type": "markdown",
   "metadata": {},
   "source": [
    "<p style=\"color:blue;text-align:justify;\">Podemos ver, por el índice de coincidencia, que se trata de un texto en español sin atenuación de frecuencias. Además, vemos que la F y la J son las que más veces aparecen. Si nos fijamos, la distancia entre ambas es la misma que la distancia entre A y E, las dos letras más frecuentes en español.</p>\n",
    "<p style=\"color:blue;text-align:justify;\">Podemos deducir que se ha utiliza una sustitución simple basada en el cifrado César. Si tenemos en cuenta la sutitución anterior, podemos decir la correspondencia del resto de letras y comprobar si el texto, tras la sustitución, es legible. En caso de ser así, la calve usada sería k = 5.</p>"
   ]
  },
  {
   "cell_type": "code",
   "execution_count": 5,
   "metadata": {
    "scrolled": true
   },
   "outputs": [
    {
     "name": "stdout",
     "output_type": "stream",
     "text": [
      "enelmundoesilegalreclutaryusaramenoresdequinceañoscomocombatientesmensajerosesposasdemilitaresocomococinerosenlosejercitossinembargovemoscomoconfrecuencialosadultosutilizanalosniñosyniñasparalucharsusguerrassehanutilizadoamenoresenlasguerrasrecientesdeangolaafganistansierraleonaysrilankahoydiatrescientosmilniñosyniñasmenoresdequinceañosestanrelacionadosdealgunmodoconlasfuerzasarmadasalgunosdeellostienentansolosieteañoslosadultosprefierenreclutaramenoresporquesonfacilesdecontrolarydemanipularademasdequeaprendenrapidosonusadosparamatarparacolocarlastemiblesminasparalaboresdeespionajeocomomerosporteadoreslasniñassoldadosufrenabusossexualesporpartedesuscompañerosparaaumentarlamoraldelatropasonconcedidascomoesposasalossoldadosadultossoportandounaviolenciahorribleamanosdeunoshombresqueestanespecialmenteembrutecidosporlaguerraelembarazoprematuroesunconstanteriesgodesaludparaellasyaseamedianteelreclutamientoforzosoopersuadiendolesparapresentarsecomovoluntarioslosderechosaavidaaldesarrolloyalasupervivenciadeestosmenoreslesestansiendobrutalmentenegadosencuantocomienzanaestarinvolucradosenlaguerraactualmentesavethechildrentrabajaenelsurdesudandondelaguerrallevaañosdevastandolascomunidadeslocalesyobligandoalosmenoresaentrarencombatepracticamentenoexisteeducacionyparalosniñosyniñasnohayotraalternativaquelaguerramuchosniñossoldadosonsecuestradosporlosadultosperotambiensepresentanvoluntariosparalucharpormuchasrazonesincluyendoeldeseodevenganzaydepoderlalealtadaunacausaounanecesidaddesesperadadeproteccionlarealidadesespantosatrasserapartadosalafuerzadesusfamiliaslosniñosyniñassoldadovivenenlacallesonasesinadoscapturadoscomoprisionerosotorturadossonobligadosasertestigosoaparticiparenasesinatosdesuspropiosvecinosyfamiliaresaveceslesdroganantesdeentrarencombateylesestimulanparamatarinclusocuandohansidodesmovilizadosestosniñosyniñasestanacostumbradosavivirconelfusilysonfacilmentereclutadosporotrasfuerzasdecombatesavethechildrentrabajaactualmenteparaliberaralosmenoresasociadosafuerzasdecombatetambienestamosayudandoamejorarlasexpectativasdevidadeniñosexcombatientesatravesdelaeducacionytrabajandoparareducirlapobrezaylainseguridadquehacealosmenoresvulnerablesalreclutamientolahistoriaddedaviddavidesunadolescentedelnortedebahralghazelalsurdesudantieneañoscuandoerapequeñonadieibaalaescuelaenvezdeesotrabajabamoscuandocomenzolaguerraentreelgobiernomuyahidinyelsplaejercitodeliberacionpopulardesudanlosmuyahidinatacaronnuestraaldeaysellevaronalosniñosensuscaballosdosdemishermanosfueronsecuestradosyasesinadospensequelaunicaopcionquemequedabaeraalistarmeenelsplamepresentevoluntariocononceañosrecibiadiestramientomilitarcomomarcharydispararlucharydefendermenorecibiningunaeducacionymegolpeabansicometiaalgunerrorlucheenelfrentetresvecesyaunqueviaotrosniñosmorirjamastuvemiedosinembargoestabaagotadodelucharunaguerraparanadadespuesdedosañostuvequehuirapesardesaberquesimecogianmecastigarianduramenteoinclusomematarianqueriairalaescuelatresdenosotrosescapamosanduvimosdurantesemanasatravesdelbosquehastaquelogramosllegaracasaalliconvenciamispadresparaquemedejaraniralcolegioperoalprincipiolosdemasestudiantesmerechazarontenianmiedodemiporquehabiasidosoldadolaescuelanosiempreesbuenanormalmentenotenemosnadadecomeryllegamosacasahambrientostodoestomeenseñoquenoesbuenocogerelfusilyalistarseparairalaguerralaescuelamehacambiadolavidadatosmasdeveintemilexniñossoldadoenafricaoccidentalestanenvueltosenprogramasdedesmovilizaciondesarmeyreintegracionddroalaesperadeserdesmovilizadosdelasniñasquepasaronporloscentrosdecuidadointernoenliberaelsetentaycincoporcientoasegurohabersufridoabusossexualesdurantelaguerraenlarepublicademocraticadelcongolasmiliciashanreclutadoaunosoncemilmenorescomoejemploaseguirthomaslubangodyiloliderdelasmiliciasdelardcserajuzgadoporeltribunalcriminalinternacionalporreclutaryalistaraniñossoldadocombatiendoelusodenniñossoldadoensavethechildrencreemosqueesnecesariorealizarunaaproximacionintegradaparaprevenirelreclutamientobasadoenelapoyoalacomunidadenconocimientosclarosdelosriesgosquecorrenlosmenoresenareasconflictivasyenunaampliapromociondealternativaspositivaslosgobiernosnacionalesylosdonantesdebenasegurarsedequelosmenoressonapartadosinmediatamentedelosgruposyfuerzasarmadasydebenasignarlosfondosnecesariosparasupermanentereintegracionensuscomunidadeslosprogramasdereintegraciondeberianayudaratodoslosmenoresafectadosporlosconflictosarmadosnosoloalosniñossoldadoesprioritarioprevenirlautilizaciondeniñasdurantelosconflictosporpartedemilitaresadultosunaprevencionbasadaenelapoyodelascomunidadeslocalesenlareintegracionyenlosfondosespecificosparalaspersonasquedependendeellas\n"
     ]
    }
   ],
   "source": [
    "text1_decrypt = descifra_sustitucion(text1, ['FGHIJKLMNÑOPQRSTUVWXYZABCDE', 'abcdefghijklmnñopqrstuvwxyz'])\n",
    "print(text1_decrypt)"
   ]
  },
  {
   "cell_type": "markdown",
   "metadata": {},
   "source": [
    "## Segundo Texto Encriptado"
   ]
  },
  {
   "cell_type": "markdown",
   "metadata": {},
   "source": [
    "<p style=\"color:blue;text-align:justify;\">Comenzamos realizando los dos análisis antes mencionados: frecuencia de aparición de las letras e índice de coincidencias.</p>"
   ]
  },
  {
   "cell_type": "code",
   "execution_count": 6,
   "metadata": {},
   "outputs": [
    {
     "name": "stdout",
     "output_type": "stream",
     "text": [
      "\n",
      "Frecuencias: [326, 38, 94, 133, 313, 17, 33, 18, 160, 15, 0, 130, 84, 174, 7, 261, 61, 32, 166, 223, 115, 117, 42, 0, 2, 35, 8]\n",
      "\n",
      "Indice de Coincidencia: 0.07251764919716291\n"
     ]
    }
   ],
   "source": [
    "text2 = read_text(dataPath + \"Texto2.txt\")\n",
    "get_analisis(text2)"
   ]
  },
  {
   "cell_type": "markdown",
   "metadata": {},
   "source": [
    "<p style=\"color:blue;text-align:justify;\">Por los datos obtenidos sabemos que es un texto en español y que las frecuencias no han sido atenuadas. Al examinar el texto se puede ver como comienza con \"EEEENNLOHNCNSZASSEE\". La sucesión de letras \"E\" hace pensar que se ha encriptado usando un escítalo, ya que si, simplemente, se hubieran cambiado de posición las letras, esas 4 \"E\" seguidas representarían a la misma letra, cosa que en español no corresponde.</p>\n",
    "<p style=\"color:blue;text-align:justify;\">Lo que hacemos para resolverlo es buscar las ocurrencias de una palabra común en español recorriendo el texto de n en n (el valor de n se va variando). La palabra elegida es \"QUE\". Lo que hacemos es quedarnos con el n con el que se obtenga un mayor número de ocurrencias de \"QUE\". Una vez hecho esto, se reconstruye el texto recorriéndolo con el n obtenido.</p>"
   ]
  },
  {
   "cell_type": "code",
   "execution_count": 7,
   "metadata": {
    "scrolled": true
   },
   "outputs": [
    {
     "name": "stdout",
     "output_type": "stream",
     "text": [
      "ELSILENCIOESCUDAYSUELEENCUBRIRLAFALTADEINGENIOYTORPEZADELENGUASBLASONQUEESCONTRARIOPUBLICASUSMENGUASAQUIENMUCHOHABLASINMUCHOSENTIRCOMOHORMIGAQUEDEJADEIRHOLGANDOPORTIERRACONLAPROVISIONJACTOSECONALASDESUPERDICIONLLEVARONLAENALTONOSABEDONDEIRELAIREGOZANDOAJENOYEXTRAÑORAPIÑAESYAHECHADEAVESQUEVUELANFUERTESMASQUEELLAPORCEBOLALLEVANENLASNUEVASALASESTABASUDAÑORAZONESQUEAPLIQUEAMIPLUMAESTEENGAÑONODESPRECIANDOALOSQUEMEARGUYENASIQUEAMIMISMOMISALASDESTRUYENNUBLOSASYFLACASNACIDASDEHOGAÑODONDEESTAGOZARPENSABAVOLANDOOYODEESCRIBIRCOBRARMASHONORDELUNOYDELOTRONACIODISFAVORELLAESCOMIDAYAMIESTANCORTANDOREPROCHESREVISTASYTACHASCALLANDOOBSTARAYLOSDAÑOSDEENVIDIAYMURMUROSINSISTOREMANDOYLOSPUERTOSSEGUROSATRASQUEDANTODOSYACUANTOMASANDOSIBIENQUEREISVERMILIMPIOMOTIVOACUALSEENDEREZADEAQUESTOSEXTREMOSCONCUALPARTICIPAQUIENRIGESUSREMOSAPOLODIANAOCUPIDOALTIVOBUSCADBIENELFINDEAQUESTOQUEESCRIBOODELPRINCIPIOLEEDSUARGUMENTOLEEDLOVEREISQUEAUNQUEDULCECUENTOAMANTESQUEOSMUESTRASALIRDECATIVOCOMOELDOLIENTEQUEPILDORAAMARGAOLARECELAONOPUEDETRAGARMETELADENTRODELDULCEMANJARENGAÑASEELGUSTOLASALUDSEALARGADEESTAMANERAMIPLUMASEEMBARGAIMPONIENDODICHOSLASCIVOSRIENTESATRAELOSOIDOSDEPENADASGENTESDEGRADOESCARMIENTANYARROJANSUCARGAESTANDOCERCADODEDUDASYANTOJOSCOMPUSETALFINQUEELPRINCIPIODESATAACORDEDORARCONORODELATALOMASFINOTIBARQUEVICONMISOJOSYENCIMADEROSASSEMBRARMILABROJOSSUPLICOPUESSUPLANDISCRETOSMIFALTATEMANGROSEROSYENOBRATANALTAOVEANYCALLENONODENENOJOSYOVIENSALAMANCALAOBRAPRESENTEMOVIMEACABARLAPORESTASRAZONESESLAPRIMERAQUEESTOYENVACACIONESLAOTRAIMITARLAPERSONAPRUDENTEYESLAFINALVERLAMASGENTEVUELTAYMEZCLADAENVICIOSDEAMORESTOSAMANTESLESPONDRANTEMORAFIARDEALCAHUETANIFALSOSIRVIENTEYASIQUEESTAOBRAENELPROCEDERFUETANTOBREVECUANTOMUYSUTILVIQUEPORTABASENTENCIASDOSMILENFORRODEGRACIASLABORDEPLACERNOHIZODEDALOCIERTOAMIVERALGUNAMASPRIMAENTRETALLADURASIFINDIERAENESTASUPROPIAESCRITURACOTAOMENACONSUGRANSABERJAMASYONOVIENLENGUAROMANADESPUESQUEMEACUERDONINADIELAVIOOBRADEESTILOTANALTOYSUBIDOENTUSCANIGRIEGANIENCASTELLANANOTRAESENTENCIADEDONDENOMANALOABLEASUAUTORYETERNAMEMORIAALCUALJESUCRISTORECIBAENSUGLORIAPORSUPASIONSANTAQUEATODOSNOSSANAVOSLOSQUEAMAISTOMADESTEEJEMPLOESTEFINOARNESCONQUEOSDEFENDAISVOLVEDYALASRIENDASPORQUENOOSPERDAISLOADSIEMPREADIOSVISITANDOSUTEMPLOANDADSOBREAVISONOSEAISDEEJEMPLODEMUERTOSYVIVOSYPROPIOSCULPADOSESTANDOENELMUNDOYACEISSEPULTADOSMUYGRANDOLORSIENTOCUANDOESTOCONTEMPLOOHDAMASMATRONASMANCEBOSCASADOSNOTADBIENLAVIDAQUEAQUESTOSHICIERONTENEDPORESPEJOSUFINCUALHUBIERONAOTROQUEAMORESDADVUESTROSCUIDADOSLIMPIADYALOSOJOSLOSCIEGOSERRADOSVIRTUDESSEMBRANDOCONCASTOVIVIRATODOCORRERDEBEISDEHUIRNOOSLANCECUPIDOSUSTIROSDORADOSO\n"
     ]
    }
   ],
   "source": [
    "text2_decrypt = descifra_escitalo(text2)\n",
    "print(text2_decrypt)"
   ]
  },
  {
   "cell_type": "markdown",
   "metadata": {},
   "source": [
    "<p style=\"color:blue;text-align:justify;\">El texto corresponde a \"La Celestina\" de Fernando de Rojas. Concretamente a la \"Tragicomedia de Calisto y Melibea\".</p>"
   ]
  },
  {
   "cell_type": "markdown",
   "metadata": {},
   "source": [
    "## Tercer Texto Encriptado"
   ]
  },
  {
   "cell_type": "markdown",
   "metadata": {},
   "source": [
    "<p style=\"color:blue;text-align:justify;\">Comenzamos realizando los dos análisis antes mencionados: frecuencia de aparición de las letras e índice de coincidencias.</p>"
   ]
  },
  {
   "cell_type": "code",
   "execution_count": 8,
   "metadata": {
    "scrolled": true
   },
   "outputs": [
    {
     "name": "stdout",
     "output_type": "stream",
     "text": [
      "\n",
      "Frecuencias: [892, 840, 616, 513, 1393, 741, 642, 625, 1279, 451, 313, 1004, 1133, 819, 562, 1082, 788, 618, 421, 991, 1025, 753, 721, 874, 961, 770, 600]\n",
      "\n",
      "Indice de Coincidencia: 0.0408215990165798\n"
     ]
    }
   ],
   "source": [
    "text3 = read_text(dataPath + \"Texto3.txt\")\n",
    "get_analisis(text3)"
   ]
  },
  {
   "cell_type": "markdown",
   "metadata": {},
   "source": [
    "<p style=\"color:blue;text-align:justify;\">Este texto ha sido, probablemente, cifrado mediante un cifrado polialfabético dado que la distribución de las letras no se corresponde con la distribución estándar del español. Las frecuencias han sido uniformadas, por ello el índice de coincidencia se encuentra mas próximo a 0,037. Esto significa que las letras estan distribuidas con una frecuencia similar.</p>\n",
    "<p style=\"color:blue;text-align:justify;\">Esto coincide con el cifrado de Vigenère en el que tenemos una clave para encriptar usando el cifrado César, aprovechando la posición de las letras. Para averiguar el tamaño de la clave particionamos el texto hasta que cada una de las partes devuelva una frecuencia de unos 0,07. En ese momento, el número de particiones nos dirá el tamaño de la clave.</p>"
   ]
  },
  {
   "cell_type": "code",
   "execution_count": 9,
   "metadata": {
    "scrolled": true
   },
   "outputs": [
    {
     "name": "stdout",
     "output_type": "stream",
     "text": [
      "La Clave es de 13 Digitos\n"
     ]
    }
   ],
   "source": [
    "print('La Clave es de {} Digitos'.format(get_clave(text3)))"
   ]
  },
  {
   "cell_type": "markdown",
   "metadata": {},
   "source": [
    "<p style=\"color:blue;text-align:justify;\">El siguiente paso es coger las letras usando como saltos el tamaño de la clave. De esta forma elegimos todas las letras que estan cifradas con la misma letra de la clave y podemos descifrar usando el mismo método que en el cifrado César (vulnerable al análisis de frecuencias).</p>"
   ]
  },
  {
   "cell_type": "code",
   "execution_count": 10,
   "metadata": {
    "scrolled": true
   },
   "outputs": [
    {
     "name": "stdout",
     "output_type": "stream",
     "text": [
      "\n",
      "Frecuencias (Digito 1): [65, 79, 18, 0, 1, 24, 13, 184, 38, 51, 83, 230, 8, 7, 21, 71, 9, 0, 88, 45, 121, 8, 181, 41, 39, 103, 120]\n",
      "La posible A se encuentra desplazada 7 ó 11\n",
      "\n",
      "Frecuencias (Digito 2): [219, 27, 50, 81, 235, 5, 16, 23, 90, 10, 0, 87, 44, 109, 2, 177, 31, 33, 92, 127, 59, 78, 14, 0, 0, 31, 8]\n",
      "La posible A se encuentra desplazada 0 ó 4\n",
      "\n",
      "Frecuencias (Digito 3): [9, 210, 22, 57, 92, 238, 8, 20, 25, 76, 9, 0, 88, 37, 103, 2, 171, 44, 41, 97, 125, 50, 70, 32, 0, 0, 22]\n",
      "La posible A se encuentra desplazada 1 ó 5\n",
      "\n",
      "Frecuencias (Digito 4): [118, 76, 102, 26, 0, 1, 29, 8, 202, 22, 57, 72, 200, 3, 20, 21, 78, 9, 0, 82, 37, 117, 4, 186, 36, 37, 104]\n",
      "La posible A se encuentra desplazada 4 ó 8\n",
      "\n",
      "Frecuencias (Digito 5): [23, 89, 11, 0, 81, 39, 99, 7, 182, 33, 39, 114, 124, 64, 83, 17, 0, 0, 33, 7, 197, 21, 63, 88, 209, 8, 16]\n",
      "La posible A se encuentra desplazada 20 ó 24\n",
      "\n",
      "Frecuencias (Digito 6): [11, 26, 100, 10, 0, 77, 42, 92, 2, 161, 33, 34, 101, 128, 66, 92, 18, 0, 1, 27, 2, 224, 22, 70, 96, 208, 4]\n",
      "La posible A se encuentra desplazada 17 ó 21\n",
      "\n",
      "Frecuencias (Digito 7): [205, 28, 68, 67, 244, 7, 15, 19, 85, 11, 0, 83, 39, 96, 1, 156, 41, 42, 107, 136, 76, 75, 12, 0, 0, 31, 3]\n",
      "La posible A se encuentra desplazada 0 ó 4\n",
      "\n",
      "Frecuencias (Digito 8): [41, 37, 124, 117, 62, 84, 25, 0, 0, 33, 8, 191, 24, 47, 95, 223, 5, 20, 19, 83, 15, 0, 87, 41, 96, 6, 164]\n",
      "La posible A se encuentra desplazada 11 ó 15\n",
      "\n",
      "Frecuencias (Digito 9): [178, 27, 35, 107, 130, 65, 78, 24, 0, 0, 19, 6, 209, 34, 57, 86, 246, 5, 13, 19, 98, 7, 0, 64, 35, 103, 2]\n",
      "La posible A se encuentra desplazada 12 ó 16\n",
      "\n",
      "Frecuencias (Digito 10): [0, 1, 18, 5, 192, 16, 67, 78, 232, 3, 12, 23, 77, 12, 0, 89, 50, 123, 3, 165, 51, 36, 93, 130, 61, 97, 13]\n",
      "La posible A se encuentra desplazada 4 ó 8\n",
      "\n",
      "Frecuencias (Digito 11): [3, 167, 29, 38, 73, 120, 64, 84, 24, 0, 1, 23, 5, 212, 24, 53, 92, 243, 6, 19, 23, 84, 13, 0, 81, 49, 117]\n",
      "La posible A se encuentra desplazada 13 ó 17\n",
      "\n",
      "Frecuencias (Digito 12): [20, 72, 11, 0, 67, 45, 108, 11, 175, 43, 38, 108, 124, 66, 88, 16, 0, 0, 15, 8, 191, 21, 66, 92, 242, 5, 15]\n",
      "La posible A se encuentra desplazada 20 ó 24\n",
      "\n",
      "Frecuencias (Digito 13): [0, 1, 28, 5, 215, 19, 78, 75, 224, 7, 14, 33, 90, 4, 0, 79, 47, 99, 2, 173, 30, 32, 96, 128, 66, 92, 11]\n",
      "La posible A se encuentra desplazada 4 ó 8\n"
     ]
    }
   ],
   "source": [
    "analisis_vigenere(text3, 13)"
   ]
  },
  {
   "cell_type": "markdown",
   "metadata": {},
   "source": [
    "<p style=\"color:blue;text-align:justify;\">Al comprobar manualmente si, desde las posibles posiciones encontradas de la A, se puede situar la E, obtenemos que la clave debería ser \"HABITUALMENTE\". Sólo queda implementar una función que descifre el texto usando esta clave.</p>\n",
    "<p style=\"color:blue;text-align:justify;\">Para reutilizar la función de cifrado de Vigenère, se ha realizado el inverso de todas las cifras de la clave. De esta forma, al encriptar con Vigenère, en realidad, lo que estamos haciendo es descifrar el texto. Sólo hay que tener en cuenta la \"Ñ\" que tiene un código ASCII diferente al del resto de letras por ser un carácter especial.</p>"
   ]
  },
  {
   "cell_type": "code",
   "execution_count": 11,
   "metadata": {
    "scrolled": true
   },
   "outputs": [
    {
     "name": "stdout",
     "output_type": "stream",
     "text": [
      "NOESPOSIBLESEÑORMIOSINOQUEESTASYERBASDANTESTIMONIODEQUEPORAQUICERCADEBEDEESTARALGUNAFUENTEOARROYOQUEHUMEDECEYASISERABIENQUEVAYAMOSUNPOCOMASADELANTEQUEYATOPAREMOSDONDEPODAMOSMITIGARESTATERRIBLESEDQUENOSFATIGAQUESINDUDACAUSAMAYORPENAQUELAHAMBREPARECIOLEBIENELCONSEJOADONQUIJOTEYTOMANDODELARIENDAAROCINANTEYSANCHODELCABESTROASUASNODESPUESDEHABERPUESTOSOBREELLOSRELIEVESQUEDELACENAQUEDARONCOMENZARONACAMINARSOBREELPRADOARRIBAATIENTOPORQUELAOSCURIDADDELANOCHENOLESDEJABAVERCOSAALGUNAMASNOHUBIERONANDADODOSCIENTOSPASOSCUANDOLLEGOASUSOIDOSUNGRANRUIDODEAGUACOMOQUEDEALGUNOSGRANDESYLEVANTADOSRISCOSSEDESPEÑABAALEGROLESELRUIDOENGRANMANERAYPARANDOSEAESCUCHARHACIAQUEPARTESONABAOYERONADESHORAOTROESTRUENDOQUELESAGUOELCONTENTODELAGUAESPECIALMENTEASANCHOQUENATURALMENTEERAMEDROSOYDEPOCOANIMODIGOQUEOYERONQUEDABANUNOSGOLPESACOMPASCONUNCIERTOCRUJIRDEHIERROSYCADENASQUEACOMPAÑADOSDELFURIOSOESTRUENDODELAGUAPUSIERONPAVORACUALQUIEROTROCORAZONQUENOFUERAELDEDONQUIJOTEERALANOCHECOMOSEHADICHOOSCURAYELLOSACERTARONAESTARENTREUNOSARBOLESALTOSCUYASHOJASMOVIDASDELBLANDOVIENTOHACIANUNTEMEROSOYMANSORUIDODEMANERAQUELASOLEDADELSITIOLAOSCURIDADELRUIDODELAAGUACONSUSURRODELASHOJASTODOCAUSABAHORRORYESPANTOYMASCUANDOVIERONQUENILOSGOLPESCESABANNIELVIENTODORMIANILAMAÑANALLEGABAAÑADIENDOSEATODOESTOELIGNORARELLUGARDONDESEHALLABANPERODONQUIJOTEACOMPAÑADODESUINTREPIDOCORAZONSALTOSOBREROCINANTEYEMBRAZANDOSURODELATERCIOSULANZONYDIJOSANCHOAMIGOHASDESABERQUEYONACIPORQUERERDELCIELOENNUESTRAEDADDEHIERROPARARESUCITARENELLALADEOROOLADORADACOMOSUELELLAMARSEYOSOYAQUELPARAQUIENESTANGUARDADOSLOSPELIGROSLASGRANDESHAZAÑASLOSVALEROSOSHECHOSYOSOYDIGOOTRAVEZQUIENHADERESUCITARLOSDELATABLAREDONDALOSDOCEDEFRANCIAYLOSNUEVEDELAFAMAYELQUEHADEPONERENOLVIDOLOSPLATIRESLOSTABLANTESLOSOLIVANTEYTIRANTESFEBOSYBELIANISESCONTODALACATERVADELOSFAMOSOSCABALLEROSANDANTESDELPASADOTIEMPOHACIENDOENESTEENQUEMEHALLOTALESGRANDEZASESTRAÑEZASYFECHOSDEARMASQUEESCUREZCANLASMASCLARASQUEELLOSFICIERONBIENNOTASESCUDEROFIELYLEALLASTINIEBLASDESTANOCHESUEXTRAÑOSILENCIOELSORDOYCONFUSOESTRUENDODESTOSARBOLESELTEMEROSORUIDODEAQUELLAAGUAENCUYABUSCAVENIMOSQUEPARECEQUESEDESPEÑAYDERRUMBADESDELOSALTOSMONTESDELALUNAYAQUELINCESANTEGOLPEARQUENOSHIEREYLASTIMALOSOIDOSLASCUALESCOSASTODASJUNTASYCADAUNAPORSISONBASTANTESAINFUNDIRMIEDOTEMORYESPANTOENELPECHODELMISMOMARTECUANTOMASENAQUELQUENOESTAACOSTUMBRADOASEMEJANTESACONTECIMIENTOSYAVENTURASPUESTODOESTOQUEYOTEPINTOSONINCENTIVOSYDESPERTADORESDEMIANIMOQUEYAHACEQUEELCORAZONMEREVIENTEENELPECHOCONELDESEOQUETIENEDEACOMETERESTAAVENTURAPORMASDIFICULTOSAQUESEMUESTRAASIQUEAPRIETAUNPOCOLASCINCHASAROCINANTEYQUEDATEADIOSYESPERAMEAQUIHASTATRESDIASNOMASENLOSCUALESSINOVOLVIEREPUEDESTUVOLVERTEANUESTRAALDEAYDESDEALLIPORHACERMEMERCEDYBUENAOBRAIRASALTOBOSODONDEDIRASALAINCOMPARABLESEÑORAMIADULCINEAQUESUCAUTIVOCABALLEROMURIOPORACOMETERCOSASQUELEHICIESENDIGNODEPODERLLAMARSESUYOCUANDOSANCHOOYOLASPALABRASDESUAMOCOMENZOALLORARCONLAMAYORTERNURADELMUNDOYADECIRLESEÑORYONOSEPORQUEQUIEREVUESTRAMERCEDACOMETERESTATANTENEBROSAAVENTURAAHORAESDENOCHEAQUINONOSVENADIEBIENPODEMOSTORCERELCAMINOYDESVIARNOSDELPELIGROAUNQUENOBEBAMOSENTRESDIASYPUESNOHAYQUIENNOSVEAMENOSHABRAQUIENNOSNOTEDECOBARDESCUANTOMASQUEYOHEOIDOMUCHASVECESPREDICARALCURADENUESTROLUGARQUEVUESTRAMERCEDMUYBIENCONOCEQUEQUIENBUSCAELPELIGROPERECEENELASIQUENOESBIENTENTARADIOSACOMETIENDOTANDESAFORADOHECHODONDENOSEPUEDEESCAPARSINOPORMILAGROYBASTALOQUEHAHECHOELCIELOCONVUESTRAMERCEDENLIBRARLEDESERMANTEADOCOMOYOLOFUIYENSACARLEVENCEDORLIBREYSALVOENTRETANTOSENEMIGOSCOMOACOMPAÑABANALDIFUNTOYCUANDOTODOESTONOMUEVANIABLANDEESEDUROCORAZONMUEVALEELPENSARQUEAPENASSEHABRAVUESTRAMERCEDAPARTADODEAQUICUANDOYODEMIEDODEMIANIMAAQUIENQUISIERALLEVARLAYOSALIDEMITIERRAYDEJEHIJOSYMUJERPORVENIRASERVIRAVUESTRAMERCEDCREYENDOVALERMASYNOMENOSPEROCOMOLACODICIAROMPEELSACOAMIMEHARASGADOMISESPERANZASPUESCUANDOMASVIVASLASTENIADEALCANZARAQUELLANEGRAYMALHADADAINSULAQUETANTASVECESVUESTRAMERCEDMEHAPROMETIDOVEOQUEENPAGOYTRUECODELLAMEQUIEREAHORADEJARENUNLUGARTANAPARTADODELTRATOHUMANOPORUNSOLODIOSSEÑORMIOQUENONSEMEFAGATALDESAGUISADOYYAQUEDELTODONOQUIERAVUESTRAMERCEDDESISTIRDEACOMETERESTEFECHODILATELOALOMENOSHASTALAMAÑANAQUEALOQUEAMIMEMUESTRALACIENCIAQUEAPRENDICUANDOERAPASTORNODEBEDEHABERDESDEAQUIALALBATRESHORASPORQUELABOCADELABOCINAESTAENCIMADELACABEZAYHACELAMEDIANOCHEENLALINEADELBRAZOIZQUIERDOCOMOPUEDESTUSANCHODIJODONQUIJOTEVERDONDEHACEESALINEANIDONDEESTAESABOCAOESECOLODRILLOQUEDICESSIHACELANOCHETANOSCURAQUENOPARECEENTODOELCIELOESTRELLAALGUNAASIESDIJOSANCHOPEROTIENEELMIEDOMUCHOSOJOSYVELASCOSASDEBAJODETIERRACUANTOMASENCIMAENELCIELOPUESTOQUEPORBUENDISCURSOBIENSEPUEDEENTENDERQUEHAYPOCODEAQUIALDIAFALTELOQUEFALTARERESPONDIODONQUIJOTEQUENOSEHADEDECIRPORMIAHORANIENNINGUNTIEMPOQUELAGRIMASYRUEGOSMEAPARTARONDEHACERLOQUEDEBIAAESTILODECABALLEROYASITERUEGOSANCHOQUECALLESQUEDIOSQUEMEHAPUESTOENCORAZONDEACOMETERAHORAESTATANNOVISTAYTANHERMOSAAVENTURATENDRACUIDADODEMIRARPORMISALUDYDECONSOLARTUTRISTEZALOQUEHASDEHACERESAPRETARBIENLASCINCHASAROCINANTEYQUEDARTEAQUIQUEYODARELAVUELTAPRESTOOVIVOOMUERTOVIENDOPUESSANCHOLAULTIMARESOLUCIONDESUAMOYCUANPOCOVALIANCONELSUSLAGRIMASCONSEJOSYRUEGOSDETERMINODEAPROVECHARSEDESUINDUSTRIAYHACERLEESPERARHASTAELDIASIPUDIESEYASICUANDOAPRETABALASCINCHASALCABALLOBONITAMENTEYSINSERSENTIDOATOCONELCABESTRODESUASNOAMBOSPIESAROCINANTEDEMANERAQUECUANDODONQUIJOTESEQUISOPARTIRNOPUDOPORQUEELCABALLONOSEPODIAMOVERSINOASALTOSVIENDOSANCHOPANZAELBUENSUCESODESUEMBUSTEDIJOEASEÑORQUEELCIELOCONMOVIDODEMISLAGRIMASYPLEGARIASHAORDENADOQUENOSEPUEDAMOVERROCINANTEYSIVOSQUEREISPORFIARYESPOLEARYDALESERAENOJARALAFORTUNAYDARCOCESCOMODICENCONTRAELAGUIJONDESESPERABASECONESTODONQUIJOTEYPORMASQUEPONIALASPIERNASALCABALLONOLEPODIAMOVERYSINCAERENLACUENTADELALIGADURATUVOPORBIENDESOSEGARSEYESPERARAQUEAMANECIESEOAQUEROCINANTESEMENEASECREYENDOSINDUDAQUEAQUELLOVENIADEOTRAPARTEQUEDELAINDUSTRIADESANCHOYASILEDIJOPUESASIESSANCHOQUEROCINANTENOPUEDEMOVERSEYOSOYCONTENTODEESPERARAQUERIAELALBAAUNQUEYOLLORELOQUEELLATARDAREENVENIRNOHAYQUELLORARRESPONDIOSANCHOQUEYOENTRETENDREAVUESTRAMERCEDCONTANDOCUENTOSDESDEAQUIALDIASIYANOESQUESEQUIEREAPEARYECHARSEADORMIRUNPOCOSOBRELAVERDEYERBAAUSODECABALLEROSANDANTESPARAHALLARSEMASDESCANSADOCUANDOLLEGUEELDIAAPUNTODEACOMETERESTATANDESEMEJABLEAVENTURAQUELEESPERAAQUELLAMASAPEAROAQUEDORMIRDIJODONQUIJOTESOYYOPORVENTURADEAQUELLOSCABALLEROSQUETOMANREPOSOENLOSPELIGROSDUERMETUQUENACISTEPARADORMIROHAZLOQUEQUISIERESQUEYOHARELOQUEVIEREQUEMASVIENECONMIPRETENSIONNOSEENOJEVUESTRAMERCEDSEÑORMIORESPONDIOSANCHOQUENOLODIJEPORTANTOYLLEGANDOSEAELPUSOLAUNAMANOENELARZONDELANTEROYLAOTRAENELOTRODEMODOQUEQUEDOABRAZADOCONELMUSLOIZQUIERDODESUAMOSINOSARSEAPARTARDELUNDEDOTALERAELMIEDOQUETENIAALOSGOLPESQUETODAVIAALTERNATIVAMENTESONABANDIJOLEDONQUIJOTEQUCONTASEALGUNCUENTOPARAENTRETENERLECOMOSELOHABIAPROMETIDOALOQUESANCHODIJOQUESIHICIERASILEDEJARAELTEMORDELOQUEOIAPEROCONTODOESOYOMEESFORZAREADECIRUNAHISTORIAQUESILAACIERTOACONTARYNOMEVANALAMANOESLAMEJORDELASHISTORIASYESTEMEVUESTRAMERCEDATENTOQUEYACOMIENZOERASEQUESEERAELBIENQUEVINIERAPARATODOSSEAYELMALPARAQUIENLOFUEREABUSCARYADVIERTAVUESTRAMERCEDSEÑORMIOQUEELPRINCIPIOQUELOSANTIGUOSDIERONASUSCONSEJASNOFUEASICOMOQUIERAQUEFUEUNASENTENCIADECATONZONZORINOROMANOQUEDICEYELMALPARAQUIENLOFUEREABUSCARQUEVIENEAQUICOMOANILLOALDEDOPARAQUEVUESTRAMERCEDSEESTEQUEDOYNOVAYAABUSCARELMALANINGUNAPARTESINOQUENOSVOLVAMOSPOROTROCAMINOPUESNADIENOSFUERZAAQUESIGAMOSESTEDONDETANTOSMIEDOSNOSSOBRESALTANSIGUETUCUENTOSANCHODIJODONQUIJOTEYDELCAMINOQUEHEMOSDESEGUIRDEJAMEAMIELCUIDADODIGOPUESPROSIGUIOSANCHOQUEENUNLUGARDEEXTREMADURAHABIAUNPASTORCABRERIZOQUIERODECIRQUEGUARDABACABRASELCUALPASTOROCABRERIZOCOMODIGODEMICUENTOSELLAMABALOPERUIZYESTELOPERUIZANDABAENAMORADODEUNAPASTORAQUESELLAMABATORRALVALACUALPASTORALLAMDATORRALVAERAHIJADEUNGANADERORICOYESTEGANADERORICOSIDESAMANERACUENTASTUCUENTOSANCHODIJODONQUIJOTEREPITIENDODOSVECESLOQUEVASDICIENDONOACABARASENDOSDIASDILOSEGUIDAMENTEYCUENTALOCOMOHOMBREDEENTENDIMIENTOYSINONODIGASNADADELAMISMAMANERAQUEYOLOCUENTORESPONDIOSANCHOSECUENTANENMITIERRATODASLASCONSEJASYYONOSECONTARLODEOTRANIESBIENQUEVUESTRAMERCEDMEPIDAQUEHAGAUSOSNUEVOSDICOMOQUISIERESRESPONDIODONQUIJOTEQUEPUESLASUERTEQUIEREQUENOPUEDADEJARDEESCUCHARTEPROSIGUEASIQUESEÑORMIODEMIANIMAPROSIGUIOSANCHOQUECOMOYATENGODICHOESTEPASTORANDABAENAMORADODETORRALVALAPASTORAQUEERAUNAMOZAROLLIZAZAHAREÑAYTIRABAALGOAHOMBRUNAPORQUETENIAUNOSPOCOSBIGOTESQUEPARECEQUEAHORALAVEOLUEGOCONOCISTELATUDIJODONQUIJOTENOLACONOCIYORESPONDIOSANCHOPEROQUIENMECONTOESTECUENTOMEDIJOQUEERATANCIERTOYVERDADEROQUEPODIABIENCUANDOLOCONTASEAOTROAFIRMARYJURARQUELOHABIAVISTOTODOASIQUEYENDODIASYVINIENDODIASELDIABLOQUENODUERMEYQUETODOLOAÑASCAHIZODEMANERAQUEELAMORQUEELPASTORTENIAALAPASTORASEVOLVIESEENHOMECILLOYMALAVOLUNTADYLACAUSAFUESEGUNMALASLENGUASUNACIERTACANTIDADDECELILLOSQUEELLALEDIOTALESQUEPASABANDELARAYAYLLEGABANALOVEDADOYFUETANTOLOQUEELPASTORLAABORRECIODEALLIADELANTEQUEPORNOVERLASEQUISOAUSENTARDEAQUELLATIERRAEIRSEDONDESUSOJOSNOLAVIESENJAMASLATORRALVAQUESEVIODESDEÑADADELLOPELUEGOLEQUISOBIENMASQUENUNCALEHABIAQUERIDOESAESNATURALCONDICIONDEMUJERESDIJODONQUIJOTEDESDEÑARAQUIENLASQUIEREYAMARAQUIENLASABORRECEPASAADELANTESANCHOSUCEDIODIJOSANCHOQUELEPASTORPUSOPOROBRASUDETERMINACIONYANTECOGIENDOSUSCABRASSEENCAMINOPORLOSCAMPOSDEEXTREMADURAPARAPASARSEALOSREINOSDEPORTUGALLATORRALVAQUELOSUPOFUETRASELYSEGUIALEAPIEYDESCALZADESDELEJOSCONUNBORDONENLAMANOYCONUNASALFORJASALCUELLODONDELLEVABASEGUNESFAMAUNPEDAZODEESPEJOYOTRODEUNPEINEYNOSEQUEBOTECILLODEMUDASPARALACARAMASLLEVASELOQUELLEVASEQUEYONOMEQUIEROMETERAHORAENAVERIGUALLOSOLODIREQUEDICENQUEELPASTORLLEGOCONSUGANADOAPASARELRIOGUADIANAYENAQUELLASAZONIBACRECIDOYCASIFUERADEMADREYPORLAPARTEQUELLEGONOHABIABARCANIBARCONIQUIENLEPASASEAELNIASUGANADODELAOTRAPARTEDELOQUESECONGOJOMUCHOPORQUEVEIAQUELATORRALVAVENIAYAMUYCERCAYLEHABIADEDARMUCHAPESADUMBRECONSUSRUEGOSYLAGRIMASMASTANTOANDUVOMIRANDOQUEVIOUNPESCADORQUETENIAJUNTOASIUNBARCOTANPEQUEÑOQUESOLAMENTEPODIANCABERENELUNAPERSONAYUNACABRAYCONTODOESTOLEHABLOYCONCERTOCONELQUELEPASASEAELYATRESCIENTASCABRASQUELLEVABAENTROELPESCADORENELBARCOYPASOUNACABRAVOLVIOYPASOOTRATORNOAVOLVERYTORNOAPASAROTRATENGAVUESTRAMERCEDCUENTACONLASCABRASQUEELPESCADORVAPASANDOPORQUESISEPIERDEUNADELAMEMORIASEACABARAELCUENTOYNOSERAPOSIBLECONTARMASPALABRADELSIGOPUESYDIGOQUEELDESEMBARCADERODELAOTRAPARTEESTABALLENODECIENOYRESBALOSOYTARDABAELPESCADORMUCHOTIEMPOENIRYVOLVERCONTODOESTOVOLVIOPOROTRACABRAYOTRAYOTRAHAZCUENTAQUELASPASOTODASDIJODONQUIJOTENOANDESYENDOYVINIENDODESAMANERAQUENOACABARASDEPASARLASENUNAÑOCUANTASHANPASADOHASTAAHORADIJOSANCHOYOQUEDIABLOSSERESPONDIODONQUIJOTEHEAHILOQUEYODIJEQUETUVIESEBUENACUENTAPUESPORDIOSQUESEHAACABADOELCUENTOQUENOHAYPASARADELANTECOMOPUEDESERESORESPONDIODONQUIJOTETANDEESENCIADELAHISTORIAESSABERLASCABRASQUEHANPASADOPOREXTENSOQUESISEYERRAUNADELNUMERONOPUEDESSEGUIRADELANTECONLAHISTORIANOSEÑORENNINGUNAMANERARESPONDIOSANCHOPORQUEASICOMOYOPREGUNTEAVUESTRAMERCEDQUEMEDIJESECUANTASCABRASHABIANPASADOYMERESPONDIOQUENOSABIAENAQUELMISMOINSTANTESEMEFUEAMIDELAMEMORIACUANTOMEQUEDABAPORDECIRYAFEQUEERADEMUCHAVIRTUDYCONTENTODEMODODIJODONQUIJOTEQUEYALAHISTORIAESACABADATANACABADAESCOMOMIMADREDIJOSANCHODIGOTEDEVERDADRESPONDIODONQUIJOTEQUETUHASCONTADOUNADELASMASNUEVASCONSEJASCUENTOOHISTORIAQUENADIEPUDOPENSARENELMUNDOYQUETALMODODECONTARLANIDEJARLAJAMASSEPODRAVERNIHABRAVISTOENTODALAVIDAAUNQUENOESPERABAYOOTRACOSADETUBUENDISCURSOMASNOMEMARAVILLOPUESQUIZAESTOSGOLPESQUENOCESANTEDEBENTENERTURBADOELENTENDIMIENTOTODOPUEDESERRESPONDIOSANCHOMASYOSEQUEENLODEMICUENTONOHAYMASQUEDECIRQUEALLISEACABADOCOMIENZAELYERRODELACUENTADELPASAJEDELASCABRASACABENORABUENADONDEQUISIEREDIJODONQUIJOTEYVEAMOSSISEPUEDEMOVERROCINANTETORNOLEAMOVERLASPIERNASYELTORNOADARSALTOSYAESTARSEQUEDOTANTOESTABADEBIENATADOENESTOPARECESEROQUEELFRIODELAMAÑANAQUEYAVENIAOQUESANCHOHUBIESECENADOALGUNASCOSASLENITIVASOQUEFUESEUNACOSANATURALQUEESLOQUEMASSEDEBECREERAELLEVINOENVOLUNTADYDESEODEHACERLOQUEOTRONOPODIAHACERPORELMASERATANTOELMIEDOQUEHABIAENTRADOENSUCORAZONQUENOOSABAAPARTARSEUNNEGRODEUÑADESUAMOPUESPENSARDENOHACERLOQUETENIAGANATAMPOCOERAPOSIBLEYASILOQUEHIZOPORBIENDEPAZFUESOLTARLAMANODERECHAQUETENIAASIDAALARZONTRASEROCONLOCUALBONITAMENTEYSINRUMORALGUNOSESOLTOLALAZADACORREDIZACONQUELOSCALZONESSESOSTENIANSINAYUDADEOTRAALGUNAYENQUITANDOSELADIERONLUEGOABAJOYSELEQUEDARONCOMOGRILLOSTRASESTOALZOLACAMISALOMEJORQUEPUDOYECHOALAIREENTRAMBASPOSADERASQUENOERANMUYPEQUEÑASHECHOESTOQUEELPENSOQUEERALOMASQUETENIAQUEHACERPARASALIRDEAQUELTERIBLEAPRIETOYANGUSTIALESOBREVINOOTRAMAYORQUEFUEQUELEPARECIOQUENOPODIAMUDARSESINHACERESTREPITOYRUIDOYCOMENZOAAPRETARLOSDIENTESYAENCOGERLOSHOMBROSRECOGIENDOENSIELALIENTOTODOCUANTOPODIAPEROCONTODASESTASDILIGENCIASFUETANDESDICHADOQUEALCABOVINOAHACERUNPOCODERUIDOBIENDIFERENTEDEAQUELQUEAELLEPONIATANTOMIEDOOYOLODONQUIJOTEYDIJOQUERUMORESESESANCHONOSESEÑORRESPONDIOELALGUNACOSANUEVADEBESERQUELASAVENTURASYDESVENTURASNUNCACOMIENZANPORPOCOTORNOOTRAVEZAPROBARVENTURAYSUCEDIOLETANBIENQUESINMASRUIDOYALBOROTOQUEELPASADOSEHALLOLIBREDELACARGAQUETANTAPESADUMBRELEHABIADADOMASCOMODONQUIJOTETENIAELSENTIDODELOLFATOTANVIVOCOMOELDELOSOIDOSYSANCHOESTABATANJUNTOYCOSIDOCONELQUECASIPORLINEARECTASUBIANLOSVAPORESHACIAARRIBANOSEPUDOEXCUSARDEQUEALGUNOSNOSELLEGASENASUSNARICESYAPENASHUBIERONLLEGADOCUANDOELFUEALSOCORROAPRETANDOLASENTRELOSDOSDEDOSYCONTONOALGOGANGOSODIJOPARECEMESANCHOQUETIENESMUCHOMIEDOSITENGORESPONDIOSANCHOMASENQUELOECHADEVERVUESTRAMERCEDAHORAMASQUENUNCAENQUEAHORAMASQUENUNCAHUELESYNOAAMBARRESPONDIODONQUIJOTEBIENPODRASERDIJOSANCHOMASYONOTENGOLACULPASINOVUESTRAMERCEDQUEMETRAEADESHORASYPORESTOSNOACOSTUMBRADOSPASOSRETIRATETRESOCUATROALLAAMIGODIJODONQUIJOTETODOESTOSINQUITARSELOSDEDOSDELASNARICESYDESDEAQUIADELANTETENMASENCUENTACONTUPERSONAYCONLOQUEDEBESALAMIAQUELAMUCHACONVERSACIONQUETENGOCONTIGOHAENGENDRADOESTEMENOSPRECIOAPOSTAREREPLICOSANCHOQUEPIENSAVUESTRAMERCEDQUEYOHEHECHODEMIPERSONAALGUNACOSAQUENODEBAPEORESMENEALLOAMIGOSANCHORESPONDIODONQUIJOTEENESTOSCOLOQUIOSYOTROSSEMEJANTESPASARONLANOCHEAMOYMOZOMASVIENDOSANCHOQUEAMASANDARSEVENIALAMAÑANACONMUCHOTIENTODESLIGOAROCINANTEYSEATOLOSCALZONESCOMOROCINANTESEVIOLIBREAUNQUEELDESUYONOERANADABRIOSOPARECEQUESERESINTIOYCOMENZOADARMANOTADASPORQUECORBETASCONPERDONSUYONOLASSABIAHACERVIENDOPUESDONQUIJOTEQUEYAROCINANTESEMOVIALOTUVOABUENASEÑALYCREYOQUELOERADEQUEACOMETIESEAQUELLATEMEROSAAVENTURAACABOENESTODEDESCUBRIRSEELALBAYDEPARECERDISTINTAMENTELASCOSASYVIODONQUIJOTEQUEESTABAENTREUNOSARBOLESALTOSQUEERANCASTAÑOSQUEHACENLASOMBRAMUYOSCURASINTIOTAMBIENQUEELGOLPEARNOCESABAPERONOVIOQUIENLOPODIACAUSARYASISINMASDETENERSEHIZOSENTIRLASESPUELASAROCINANTEYTORNANDOADESPEDIRSEDESANCHOLEMANDOQUEALLILEAGUARDASETRESDIASALOMASLARGOCOMOYAOTRAVEZSELOHABIADICHOYQUESIALCABODELLOSNOHUBIESEVUELTOTUVIESEPORCIERTOQUEDIOSHABIASIDOSERVIDODEQUEENAQUELLAPELIGROSAAVENTURASELEACABASENSUSDIASTORNOLEAREFERIRELRECADOYEMBAJADAQUEHABIADELLEVARDESUPARTEASUSEÑORADULCINEAYQUEENLOQUETOCABAALAPAGADESUSSERVICIOSNOTUVIESEPENAPORQUEELHABIADEJADOHECHOSUTESTAMENTOANTESDEQUESALIERADESULUGARDONDESEHALLARIAGRATIFICADODETODOLOTOCANTEASUSALARIORATAPORCANTIDADDELTIEMPOQUEHUBIESESERVIDOPEROQUESIDIOSLESACABADEAQUELPELIGROSANOYSALVOYSINCAUTELASEPODIATENERPORMUYMASQUECIERTALAPROMETIDAINSULADENUEVOTORNOALLORARSANCHOOYENDODENUEVOLASLASTIMERASRAZONESDESUBUENSEÑORYDETERMINODENODEJARLEHASTAELULTIMOTRANCEYFINDEAQUELNEGOCIODESTASLAGRIMASYDETERMINACIONTANHONRADADESANCHOPANZASACAELAUTORDESTAHISTORIAQUEDEBIADESERBIENNACIDOYPORLOMENOSCRISTIANOVIEJOCUYOSENTIMIENTOENTERNECIOALGOASUAMOPERONOTANTOQUEMOSTRASEFLAQUEZAALGUNAANTESDISIMULANDOLOMEJORQUEPUDOCOMENZOACAMINARHACIALAPARTEPORDONDELEPARECIOQUEELRUIDODELAGUAYDELGOLPEARVENIASEGUIALESANCHOAPIELLEVANDOCOMOTENIADECOSTUMBREDELCABESTROASUJUMENTOPERPETUOCOMPAÑERODESUSPROSPERASYADVERSASFORTUNASYHABIENDOANDADOUNABUENAPIEZAPORENTREAQUELLOSCASTAÑOSYARBOLESSOMBRIOSDIERONENUNPRADILLOQUEALPIEDEUNASALTASPEÑASSEHACIADELASCUALESSEPRECIPITABAUNGRANDISIMOGOLPEDEAGUAALPIEDELASPEÑASESTABANUNASCASASMALHECHASQUEMASPARECIANRUINASDEEDIFICIOSQUECASASDEENTRELASCUALESADVIRTIERONQUESALIAELRUIDOYESTRUENDODEAQUELGOLPEARQUEAUNNOCESABAALBOROTOSEROCINANTECONELESTRUENDODELAGUAYDELOSGOLPESYSOSEGANDOLEDONQUIJOTESEFUELLEGANDOLEPOCOAPOCOALASCASASENCOMENDOSEDETODOCORAZONASUSEÑORASUPLICANDOLEQUEENAQUELLATEMEROSAJORNADAYEMPRESALEFAVORECIESEYDECAMINOSEENCOMENDABATAMBIENADIOSQUENOLEOLVIDASENOSELEQUITABASANCHODELLADOELCUALALARGABACUANTOPODIAELCUELLOYLAVISTAPORENTRELASPIERNASDEROCINANTEPORVERSIVERIAYALOQUETANSUSPENSOYMEDROSOLETENIAOTROSCIENPASOSSERIANLOSQUEANDUVIERONCUANDOALDOBLARDEUNAPUNTAPARECIODESCUBIERTAYPATENTELAMISMACAUSASINQUEPUDIESESEROTRADEAQUELHORRISONOYPARAELLOSESPANTABLERUIDOQUETANSUSPENSOSYMEDROSOSTODALANOCHELESHABIATENIDOYERANSINOLOHASOHLECTORPORPESADUMBREYENOJOSEISMAZOSDEBATANQUECONSUSALTERNATIVOSGOLPESAQUELESTRUENDOFORMABANCUANDODONQUIJOTEVIOLOQUEERAENMUDECIOYPASMOSEDEARRIBAABAJOMIROLESANCHOYVIOQUETENIALACABEZAINCLINADASOBREELPECHOCONMUESTRASDEESTARCORRIDOMIROTAMBIENDONQUIJOTEASANCHOYVIOLEQUETENIALOSCARRILLOSHINCHADOSYLABOCALLENADERISACONEVIDENTESSEÑALESDEQUERERREVENTARCONELLAYNOPUDOSUMELANCOLIATANTOCONELQUEALAVISTADESANCHOPUDIESEDEJARDEREIRSEYCOMOVIOSANCHOQUESUAMOHABIACOMENZADOSOLTOLAPRESADEMANERAQUETUVONECESIDADDEAPRETARSELASHIJADASCONLOSPUÑOSPORNOREVENTARRIENDOCUATROVECESSOSEGOYOTRASTANTASVOLVIOASURISACONELMISMOIMPETUQUEPRIMERODELOCUALYASEDABAALDIABLODONQUIJOTEYMASCUANDOLEOYODECIRCOMOPORMODODEFISGAHASDESABEROHSANCHOAMIGOQUEYONONACIPORQUERERDELCIELOENESTANUESTRAEDADDELHIERROPARARESUCITARENELLALADORADAODEOROYOSOYAQUELPARAQUIENESTANGUARDADOSLOSPELIGROSLASHAZAÑASGRANDESLOSVALEROSOSFECHOSYPORAQUIFUEREPITIENDOTODASOLASMASRAZONESQUEDONQUIJOTEDIJOLAVEZPRIMERAQUEOYERONLOSTEMEROSOSGOLPESVIENDOPUESDONQUIJOTEQUESANCHOHACIABURLADELSECORRIOYENOJOENTANTAMANERAQUEALZOELLANZONYLEASENTODOSPALOSTALESQUESICOMOLOSRECIBIOENLASESPALDASLOSRECIBIERAENLACABEZAQUEDARALIBREDEPAGARLEELSALARIOSINOFUERAASUSHEREDEROSVIENDOSANCHOQUESACABATANMALASVERASDESUSBURLASCONTEMORDEQUESUAMONOPASASEADELANTEENELLASCONMUCHAHUMILDADLEDIJOSOSIEGUESEVUESTRAMERCEDQUEPORDIOSQUEMEBURLOPUESPORQUEOSBURLAISNOMEBURLOYORESPONDIODONQUIJOTEVENIDACASEÑORALEGREPARECEOSAVOSQUECOMOSIESTOSFUERONMAZOSDEBATANFUERANOTRAPELIGROSAAVENTURANOHABIAYOMOSTRADOELANIMOQUECONVENIAPARAEMPRENDELLAYACABALLAESTOYYOOBLIGADOADICHASIENDOCOMOSOYCABALLEROACONOCERYDISTINGUIRLOSSONESYSABERCUALESSONLOSDELOSBATANESONOYMASQUEPODRIASERCOMOESVERDADQUENOLOSHEVISTOENMIVIDACOMOVOSLOSHABREISVISTOCOMOVILLANORUINQUESOISCRIADOYNACIDOENTREELLOSSINOHACEDVOSQUEESTOSSEISMAZOSSEVUELVANENSEISJAYANESYECHADMELOSALASBARBASUNOAUNOOTODOSJUNTOSYCUANDOYONODIERECONTODOSPATASARRIBAHACEDDEMILABURLAQUEQUISIEREDESNOHAYAMASSEÑORMIOREPLICOSANCHOQUEYOCONFIESOQUEHEANDADOALGORISUEÑOENDEMASIAPERODIGAMEVUESTRAMERCEDAHORAQUEESTAMOSENPAZASIDIOSLESAQUEDETODASLASAVENTURASQUELESUCEDIERENTANSANOYSALVOCOMOLEHASACADODESTANOHASIDOCOSADEREIRYLOESDECONTARELGRANMIEDOQUEHEMOSTENIDOALOMENOSELQUEYOTUVEQUEDEVUESTRAMERCEDYAYOSEQUENOLOCONOCENISABEQUEESTEMORNIESPANTONONIEGOYORESPONDIODONQUIJOTEQUELOQUENOSHASUCEDIDONOSEACOSADIGNADERISAPERONOESDIGNADECONTARSEQUENOSONTODASLASPERSONASTANDISCRETASQUESEPANPONERENSUPUNTOLASCOSASALOMENOSRESPONDIOSANCHOSUPOVUESTRAMERCEDPONERENSUPUNTOELLANZONAPUNTANDOMEALACABEZAYDANDOMEENLASESPALDASGRACIASADIOSYALADILIGENCIAQUEPUSEENLADEARMEPEROVAYAQUETODOSALDRAENLACOLADAQUEYOHEOIDODECIRESETEQUIEREBIENQUETEHACELLORARYMASQUESUELENLOSPRINCIPALESSEÑORESTRASUNAMALAPALABRAQUEDICENAUNCRIADODARLELUEGOLASCALZASAUNQUENOSELOQUESUELENDARTRASHABERLEDADODEPALOSSIYANOESQUELOSCABALLEROSANDANTESDANTRASPALOSINSULASOREINOSENTIERRAFIRMETALPODRIACORRERELDADODIJODONQUIJOTEQUETODOLOQUEDICESVINIESEASERVERDADYPERDONALOPASADOPUESERESDISCRETOYSABESQUELOSPRIMEROSMOVIMIENTOSNOSONENMANOSDELHOMBREYESTAADVERTIDODEAQUIENADELANTEENUNACOSAPARAQUETEABSTENGASYREPORTESENELHABLARDEMASIADOCONMIGOQUEENCUANTOSLIBROSDECABALLERIASHELEIDOQUESONINFINITOSJAMASHEHALLADOQUENINGUNESCUDEROHABLASETANTOCONSUSEÑORCOMOTUCONELTUYOYENVERDADQUELOTENGOAGRANFALTATUYAYMIATUYAENQUEMEESTIMASENPOCOMIAENQUENOMEDEJOESTIMARENMASSIQUEGALADINESCUDERODEAMADISDEGAULACONDEFUEDELAINSULAFIRMEYSELEDELQUESIEMPREHABLABAASUSEÑORCONLAGORRAENLAMANOINCLINADALACABEZAYDOBLADOELCUERPOMORETURQUESCOPUESQUEDIREMOSDEGASABALESCUDERODEDONGALAORQUEFUETANCALLADOQUEPARADECLARARNOSLAEXCELENCIADESUMARAVILLOSOSILENCIOSOLOUNAVEZSENOMBRASUNOMBREENTODAAQUELLATANGRANDECOMOMARAVILLOSAHISTORIADETODOLOQUEHEDICHOHASDEINFERIRSANCHOQUEESMENESTERHACERDIFERENCIADEAMOAMOZODESEÑORACRIADOYDECABALLEROAESCUDEROASIQUEDESDEHOYENADELANTENOSHEMOSDETRATARCONMASRESPETOSINDARNOSCORDELEJOPORQUEDECUALQUIERAMANERAQUEYOMEENOJECONVOSHADESERMALPARAELCANTAROLASMERCEDESYBENEFICIOSQUEYOOSHEPROMETIDOLLEGARANASUTIEMPOYSINOLLEGARENELSALARIOALOMENOSNOSEHADEPERDERCOMOYAOSHEDICHOESTABIENCUANTOVUESTRAMERCEDDICEDIJOSANCHOPEROYOQUERRIASABERPORSIACASONOLLEGASEELTIEMPODELASMERCEDESYFUESENECESARIOACUDIRALDELOSSALARIOSCUANTOGANABAUNESCUDERODEUNCABALLEROANDANTEENAQUELLOSTIEMPOSYSISECONCERTABAPORMESESOPORDIASCOMOPEONESDEALBAÑILNOCREOYORESPONDIODONQUIJOTEQUEJAMASLOSTALESESCUDEROSESTUVIERONASALARIOSINOAMERCEDYSIYOAHORATELEHESEÑALADOATIENELTESTAMENTOCERRADOQUEDEJEENMICASAFUEPORLOQUEPODIASUCEDERQUEAUNNOSECOMOPRUEBAENESTOSTANCALAMITOSOSTIEMPOSNUESTROSDELACABALLERIAYNOQUERRIAQUEPORPOCASCOSASPENASEMIANIMAENELOTROMUNDOPORQUEQUIEROQUESEPASSANCHOQUEENELNOHAYESTADOMASPELIGROSOQUEELDELOSAVENTUREROSASIESVERDADDIJOSANCHOPUESSOLOELRUIDODELOSMAZOSDEUNBATANPUDOALBOROTARYDESASOSEGARELCORAZONDEUNTANVALEROSOANDANTEAVENTUREROCOMOESVUESTRAMERCEDMASBIENPUEDEESTARSEGUROQUEDEAQUIADELANTENODESPLIEGUEMISLABIOSPARAHACERDONAIREDELASCOSASDEVUESTRAMERCEDSINOFUEREPARAHONRARLECOMOAMIAMOYSEÑORNATURALDESAMANERAREPLICODONQUIJOTEVIVIRASSOBRELAHAZDELATIERRAPORQUEDESPUESDEALOSPADRESALOSAMOSSEHADERESPETARCOMOSILOFUESEN\n"
     ]
    }
   ],
   "source": [
    "print(descifra_vigenere(text3, \"HABITUALMENTE\"))"
   ]
  },
  {
   "cell_type": "markdown",
   "metadata": {},
   "source": [
    "<p style=\"color:blue;text-align:justify;\">El texto corresponde a \"Don Quijote de la Mancha\" de Miguel de Cervantes. Concretamente al capítulo XX.</p>"
   ]
  },
  {
   "cell_type": "markdown",
   "metadata": {},
   "source": [
    "## Cuarto Texto Encriptado"
   ]
  },
  {
   "cell_type": "markdown",
   "metadata": {},
   "source": [
    "<p style=\"color:blue;text-align:justify;\">Comenzamos realizando los dos análisis antes mencionados: frecuencia de aparición de las letras e índice de coincidencias.</p>"
   ]
  },
  {
   "cell_type": "code",
   "execution_count": 12,
   "metadata": {
    "scrolled": true
   },
   "outputs": [
    {
     "name": "stdout",
     "output_type": "stream",
     "text": [
      "\n",
      "Frecuencias: [2308, 259, 1550, 288, 1733, 2040, 326, 2, 152, 1385, 4454, 2087, 542, 2440, 1240, 0, 2273, 123, 346, 874, 863, 59, 25, 226, 3240, 4207, 348]\n",
      "\n",
      "Indice de Coincidencia: 0.07554311523475472\n"
     ]
    }
   ],
   "source": [
    "text4 = read_text(dataPath + \"Texto4.txt\")\n",
    "get_analisis(text4)"
   ]
  },
  {
   "cell_type": "markdown",
   "metadata": {},
   "source": [
    "<p style=\"color:blue;text-align:justify;\">El análisis arroja los resultados esperados para un texto en idioma español sin atenuación de frencuencias. Al revisar el texto encontramos conque las letras siguen una secuencia sin muchas repeticiones lo que nos hace suponer que han sido desordenadas. También podemos apoyar esta teoría gracias a que las frecuencias obtenidas no muestran una separación viable para situar las letras \"A\" y \"E\" ya que las letras como mayor número de ocurrencias estan muy separadas entre sí.</p>"
   ]
  },
  {
   "cell_type": "markdown",
   "metadata": {},
   "source": [
    "<p style=\"color:blue;text-align:justify;\">El primer paso será situar las letras más frecuencias para ir desvelando palabras del texto. Para empezar que trío de letras aparece más veces en el texto. Este trío podría ser la palabra \"QUE\". De ser así podríamos situar 3 letras en el texto, y añadir la \"A\" intercambiándola por la letra con mas ocurrencias que reste.</p>"
   ]
  },
  {
   "cell_type": "code",
   "execution_count": 13,
   "metadata": {},
   "outputs": [
    {
     "name": "stdout",
     "output_type": "stream",
     "text": [
      "(['XNY', 'AEX', 'JXA', 'YAÑ', 'GCY'], [177, 166, 209, 183, 282])\n"
     ]
    }
   ],
   "source": [
    "triagramas = ngramas_repetidos(text4, 3)\n",
    "print(triagramas)"
   ]
  },
  {
   "cell_type": "markdown",
   "metadata": {},
   "source": [
    "<p style=\"color:blue;text-align:justify;\">Los triagramas más repetidos son: \"JXA\" y \"GCY\". En las frecuencias podemos ver que la \"Y\" es la segunda letra que más se repite así que podría encajar con la \"E\". Por lo cual, podría cambiar \"GCY\" por \"QUE\". La \"K\" quedaría como la letra con más apariciones así que, ya situada la \"E\", podría intercambiarse con la \"A\".</p>"
   ]
  },
  {
   "cell_type": "code",
   "execution_count": 14,
   "metadata": {
    "scrolled": true
   },
   "outputs": [
    {
     "name": "stdout",
     "output_type": "stream",
     "text": [
      "aUoNEeNTueNenNuleJDoEeaRoniaaurelianoNeRunEoDaMiaEereJorEarlalluZioNaÑarEeEeIunioenqueenÑroenelEorSiÑorioaJonoJeraNuTriSerDiIoaunqueeralanRuiEoBlloronNinninRunraNRoEeunMuenEianoÑuZoqueTenNarEoNZeJeNTaraTonerlenoSMreNellaSaraIoNearJaEioEiIoWernanEaEelJarTiolaDerSoNaSuIerJonquienNeDaMiaJaNaEoelaUoanÑerioreNÑuZoEeaJuerEoenJaSMiourNulanoTuEooJulÑarunZaRoNenÑiSienÑoEeQoQoMraenlalarRaDiNÑoriaEelaWaSilialaÑenaQreTeÑiJionEeloNnoSMreNleDaMiaTerSiÑiEoNaJarJonJluNioneNqueleTareJianÑerSinanÑeNSienÑraNloNaurelianoNeranreÑraiEoNTeroEeSenÑaliEaEluJiEaloNIoNearJaEioeraniSTulNiZoNBeSTrenEeEoreNTeroeNÑaManSarJaEoNTorunNiRnoÑraRiJoloNuniJoNJaNoNEeJlaNiWiJaJioniSToNiMleeranloNEeIoNearJaEioNeRunEoBaurelianoNeRunEoWueronÑanTareJiEoNBÑraZieNoNEuranÑelainWanJiaquenilaTroTiaNanÑaNoWiaEelaTieEaEToEiaEiNÑinRuirloNelEiaEelMauÑiNSoaSaranÑaleNTuNoeNJlaZaNJonNuNreNTeJÑiZoNnoSMreNBloNZiNÑioJonroTaNEeJoloreNEiNÑinÑoNSarJaEaNJonlaNiniJialeNEeJaEaunoTeroJuanEoeSTeQaronaaNiNÑiralaeNJuelaoTÑaronTorJaSMiarNelaroTaBlaNeNJlaZaNBTorllaSarNeelloNSiNSoNJonloNnoSMreNJruQaEoNelSaeNÑroSelJDoreNJalonaaJoNÑuSMraEoaJonoJeraIoNearJaEioNeRunEoTorlaJaSiNaZerEeTerEioloNeNÑriMoNJuanEoEeNJuMrioqueeNÑeÑenialaeNJlaZaEeaurelianoNeRunEoBqueeloÑroEeJiallaSarNeNineSMarRoaurelianoNeRunEoaTeNarEequeÑenialaJaSiNaMlanJaBlaeNJlaZaSarJaEaJonelnoSMreEeIoNearJaEioNeRunEoEeNEeenÑonJeNnoNeNaMiaJonJerÑeQaquieneraquienaunJuanEoJreJieronBlaZiEaloNDiQoEiWerenÑeNurNulaNeRuiaTreRunÑanEoNeNielloNSiNSoNnoDaMrianJoSeÑiEounerrorenalRunSoSenÑoEeNuinÑrinJaEoIueRoEeJonWuNioneNBDaMianqueEaEoJaSMiaEoNTaraNieSTreDaNÑaelTrinJiTioEelaaEoleNJenJiaWueronEoNSeJaniNSoNNinJroniJoNEeNTerÑaManalSiNSoÑieSToNenÑianEeNeoNEeiralMaUoalaSiNSaDoraNuWrianloNSiNSoNÑraNÑornoNEeNaluEBDaNÑaNonaManlaNSiNSaNJoNaNenlaJaNaEonEeNeJreiaqueJoorEinaManNuNaJÑoNTorelNiSTleEeNeoEeJonWunEirnaEieNeEioJuenÑaEelarealiEaEDaNÑaunEiaenqueNanÑaNoWiaEelaTieEaEleEioaunounZaNoEeliSonaEaBSaNÑarEoenTroMarloqueeloÑroenEeJirqueleWalÑaMaaQuJarNanÑaNoWiaEelaTieEaEqueeneWeJÑoDaMiaolZiEaEoTonerleaQuJaralaliSonaEaNeloJonÑoaurNulaaNiNonÑoEoNEiIoellaNinNorTreNaloJoNEenaJiSienÑoelÑieSToaJaMoEeEeNorEenarlaNJoNaNelqueenloNIueRoNEeJonWuNionNequeEoJonelnoSMreEeaurelianoNeRunEoNeZolZioSonuSenÑalJoSoelaMueloBelqueNequeEoJonelnoSMreEeIoNearJaEioNeRunEoNeZolZiooNeoJoSoelJoronelBlouniJoqueJonNerZaronenJoSunWueelaireNoliÑarioEelaWaSiliaÑalZeQWueeNeenÑreJruQaSienÑoEeeNÑaÑuraNnoSMreNBJaraJÑereNloqueleDiQoNoNTeJDaraurNulaqueeNÑaManMaraIaEoNEeNEelainWanJialaEiWerenJiaEeJiNiZaNereZeloenTlenaRuerraJuanEoIoNearJaEioNeRunEoleTiEioalJoronelRerinelEoSarqueQquelolleZaraaZerloNWuNilaSienÑoNJonÑraelTareJerEeurNulaNuNEeNeoNWueronNaÑiNWeJDoNaurelianoNeRunEoenJaSMioNeeNÑreSeJioanÑelaNolaiEeaEeTreNenJiarunaeIeJuJionTreWerialaJaNaaloNEoJeaUoNleTreRunÑoaurNulaqueDaMiaenelJuarÑoJlauNuraEoTaTeleNleJonÑeNÑoellaNonloNliMroNEeSelquiaEeNBlaNJoNaNraraNqueeNJriMiaenNuNulÑiSoNaUoNlareNTueNÑaenZeQEeÑranquiliQarloauSenÑoNuJurioNiEaEinNiNÑioÑanÑoTroSeÑioJonÑanÑoaDinJonoSalÑraÑarlaNJoNaNqueurNulaleEiolaNllaZeNnaEieDaMiaZuelÑoaenÑraralJuarÑoEeNEequeNaJaronelJaEaZerEeSelquiaEeNBTuNieronenlaTuerÑaelJanEaEoJuBaNTieQaNNeNolEaronJonlaDerruSMreTeroJuanEoaurelianoNeRunEoaMriolaNZenÑanaNenÑrounaluQWaSiliarqueTareJiaaJoNÑuSMraEaailuSinarelJuarÑoÑoEoNloNEiaNBnoDaMiaelSenorraNÑroEeTolZooÑelaraUaNinoqueÑoEoeNÑaMaMarriEoBliSTioSeIorMarriEoBSaNliSTioqueelEiaEelenÑierroBlaÑinÑanoNeDaMiaNeJaEoenelÑinÑeronieloViEoDaMiaalÑeraEoelMrilloEeloNSeÑaleNniNeDaMiaeVÑinRuiEoelreNJolEoEelaÑanorEonEeIoNearJaEioMuenEiaZaToriQoelSerJurioenloNanaqueleNeNÑaManloNliMroNeSTaNÑaEoNenunaSaÑeriaaJarÑonaEaBTaliEaJoSolaTielDuSanaJurÑiEaBeNÑaManloNSanuNJriÑoNinÑaJÑoNaTeNarEelenJierroEeSuJDoNaUoNelaireTareJiaSaNTuroqueenelreNÑoEelaJaNaÑoEoeraÑanreJienÑequeZariaNNeSanaNEeNTueNJuanEourNulaenÑroalJuarÑoJonunJuMoEeaRuaBunaeNJoMaTaralaZarloNTiNoNnoÑuZonaEaqueDaJeraurelianoNeRunEoeNÑaMaaMNÑraiEoenlaleJÑuraEeunliMroaunqueJareJiaEeTaNÑaNBelÑiÑulonoaTareJiaTorninRunaTarÑeelniUoRoQaMaJonlaDiNÑoriaEeunaSuIerqueNeNenÑaMaalaSeNaBNoloJoSiaRranoNEearroQqueTrenEiaJonalWilereNBJonlaDiNÑoriaEelTeNJaEorqueleTiEioTreNÑaEoaNuZeJinounTloSoTaraNureEBelTeNJaEoJonqueloreJoSTenNoSaNÑarEeÑeniaunEiaSanÑeeneleNÑoSaRoBJonlalaSTaraqueNaÑiNWaJialoNEeNeoNBlaNalWoSMraNqueZolaManaNoSMraEoleTreRunÑoaurNulaNiÑoEoaquelloeraZerEaEBellaleJonÑenÑoqueNiqueSuJDoNaUoNanÑeNloNRiÑanoNlleZaManaSaJonEolaNlaSTaraNSaraZilloNaNBlaNeNÑeraNZolaEoraNloqueTaNaNuNTiroeNqueelSunEoNeZaaJaManEoToJoaToJoBBanoZieneneNaNJoNaNJuanEoÑerSinoelliMroSuJDoNEeJuBoNJuenÑoNeNÑaManinJonJluNoNTorqueWalÑaManTaRinaNaurelianoNeRunEoNeEioalaÑareaEeEeNJiWrarloNSanuNJriÑoNWueiSToNiMlelaNleÑraNTareJianroTaTueNÑaaNeJarenunalaSMreBNeaNeSeIaManSaNalaeNJriÑuraSuNiJalquealaliÑerariaunSeEioEiaarEienÑeSienÑraNeNJruÑaMaloNSanuNJriÑoNNinÑioquenoeNÑaMaNoloenelJuarÑoJonÑralareZerMeraJionEelaZenÑanaNenÑaEoJonlaNSanoNenlaNroEillaNeNÑaMaSelquiaEeNnoÑeniaSaNEeJuarenÑaaUoNlleZaMaelSiNSoJDaleJoanaJroniJoBelNoSMreroEealaNEeJuerZoBTorNuNNieneNTaliEaNJDorreaMalaRraNaEelJaMelloEerreÑiEaTorelJalorJoSoloZieronaurelianoBIoNearJaEioJuanEoeranniUoNaurelianoNeRunEoloreJonoJioEeinSeEiaÑoTorqueaquelreJuerEoDereEiÑarioNeDaMiaÑranNSiÑiEoEeReneraJionenReneraJionBDaMialleRaEoaelEeNEelaSeSoriaEeNuaMueloNaluEEiIoaurelianoNeRunEoNaluEIoZenEiIoSelquiaEeNEeNEeenÑonJeNEuranÑeZarioNaUoNNeZieronJaNiÑoEaNlaNÑarEeNSelquiaEeNleDaMlaMaEelSunEoÑraÑaMaEeinWunEirleNuZieIaNaMiEuriaTeroNeneRoaÑraEuJirloNSanuNJriÑoNnaEieEeMeJonoJerNuNenÑiEoSienÑraNnoDaBanJuSTliEoJienaUoNeVTliJoaurelianoNeRunEoRuarEoTaraNieSTreelNeJreÑoEeaquellaNenÑreZiNÑaNenunaoJaNionNinÑioqueNuSunEoTriZaEoNeEerruSMaMaTorqueurNulaenÑroenelSoSenÑoenqueSelquiaEeNeNÑaMaenelJuarÑoTeroellanoloZioJonquienDaMlaNleTreRunÑoJonnaEieEiIoaurelianoNeRunEoaNieraÑuMiNaMueloEiIourNulaÑaSMienelDaMlaMaNoloIoNearJaEioNeRunEoSienÑraNÑanÑoDaMiaNaÑiNWeJDolailuNionEeZerunWuNilaSienÑoTorelreNÑoEeNuZiEareJorEariaelWoRonaQoliZiEoEeloNNeiNEiNTaroNNiSulÑaneoNBeleJoEeleNÑaSTiEoqueNeEeNTeEaQoTorloNSonÑeNBlaNonriNaÑriNÑeBloNoIoNTerTleIoNEelWuNilaEoqueTerSaneJioerRuiEoSienÑraNlaJaSiNaNeleeSTaTaMaEeNanRreBqueNeRuiaNonrienEoaunJuanEoloEeNaÑaronEelToNÑeBloSeÑieronenunJaIonllenoEeJaleNÑaZiZoTenNoelloZanaenÑerrarZiZoNeiSTreNionoÑanÑoqueEeNEeenÑonJeNEeÑeNÑolaNTraJÑiJaNSiliÑareNBlaRuerranoTorlaNeIeJuJioneNNinoTorlaeNTanÑoNaJoNÑuSMreEeenÑerrarZiZoNaloNWuNilaEoNnaEieNuToenÑonJeNenqueSoSenÑoeSTeQoaÑoJarlaNJaSTanaNenlaÑorreBaaBuEarleaSiNaalTaEreanÑonioiNaMelNuJeNorEeelJaJDorroBaJuiEarRalloNEeTeleaenelTaÑioEelaJaNaJuralJuanEoelJoronelRerinelEoSarqueQNeenÑeroloreTrenEioEuraSenÑeToreNÑaraTrenEienEooWiJioNreTuEiaEoNTorloNliMeraleNlaJueNÑionJonÑeNÑoeleNqueaSiSeTareJequeDeNaliEoJonNerZaEorloJreiaJoSoNiWueraunaEeÑerSinaJionEelaWaÑaliEaEelJoronelRerinelEoSarqueQeNJanEaliQaEoNeloJonÑoaurNulaSeIoraTroMoellaoIalaNeSeÑaEeJuraTaraqueEioNenÑreTorWinaeNÑaJaNaSuBTronÑoNeNuToqueelTaEreanÑonioiNaMelloeNÑaMaTreTaranEoTaralaTriSeraJoSunionleenNeUaMaelJaÑeJiNSoSienÑraNleaWeiÑaMaelTeNJueQoaloNRalloNleeVTliJaMaJoneIeSTloNNiSTleNSienÑraNTonianenNuNniEoNalaNRallinaNJlueJaNJoSoNeleoJurrioaEioNenelNeRunEoEiaEelaJreaJionqueloNTolloNNeWorSaranEenÑroEelDueZoEeNEeenÑonJeNSaniWeNÑaMaelTarroJoloNTriSeroNNinÑoSaNEelEelirioNenilquelolleZoaEeJiraUoNSaNÑarEequeTroMaMleSenÑeelEiaMloDaMiaRanaEolareMelionJonÑraEioNBqueeraaquelquieneNÑaMaNenÑaEoenelÑronoJeleNÑeNinreZelarNuZerEaEeraiEenÑiEaETaraaÑraTaraloNinJauÑoNWoRueaEoTorlainÑreTiEeQEeNuTreJeTÑorIoNearJaEioNeRunEolleRoenToJoNSeNeNaNerÑanEuJDoenSarÑinRalaNÑeoloRiJaNTaraJonWunEiralEeSonioJoSoEieNÑroenlaNÑraSTaNEelaRalleraaSaranÑaleDiQounÑraIeEelinoJonJuelloBJorMaÑaleJoSTrounTarEeQaTaÑoNMlanJoNBRraMoNunoSMreJonleÑraNEoraEaNenellaQoEelNirioEoNnoJDeNanÑeNEelaTriSeraJoSunionelTaEreanÑonioiNaMelNeenJerroJonelenlaNaJriNÑiaTaraJonWeNarloJonlaaBuEaEeunEiJJionarioEeTeJaEoNWueunaliNÑaÑanlarRaqueelanJianoTarroJoaJoNÑuSMraEoaaJoNÑarNealaNNeiNNequeEoEorSiEoenelNillonanÑeNEeÑerSinarelinÑerroRaÑorioWueTaraIoNearJaEioNeRunEounareZelaJionnoleNorTrenEioqueelTaEreleTreRunÑaraNiDaMiaDeJDoJoNaNSalaNJonSuIerBJonÑeNÑoDonraEaSenÑequenoTeroNeEeNJonJerÑoJonlaTreRunÑaEeNilaNDaMiaDeJDoJonaniSaleNelTriSerZierneNEeSaBoJoSulRoÑorÑuraEoTorlaJurioNiEaESaNÑarEeleDiQolaTreRunÑaaTeÑronioelenWerSoNaJriNÑanqueZiZiaenlaÑorreBqueNeRunEeJianNealiSenÑaMaEeSurJielaRoNBTeÑronioleJonNÑoeNqueDaBJriNÑianoNJorroSTiEoNqueDaJenNuNJoNaNJonlaNMurraNIoNearJaEioNeRunEoNiRuioEeSoNÑranEoÑanÑaJurioNiEaETiEioÑanÑaNeVTliJaJioneNqueTeÑronioTerEiolaTaJienJiaBoZoBloNSarÑeNenlanoJDeJonWeNoNiTroSeÑeNnoEeJirNeloanaEieeloÑroSarÑeNÑelleZoelSarÑeNNiRuienÑeeneWeJÑoTeÑronioMaIoEelaÑorreJonunManquiÑoEeSaEeraquenaEieNuToDaNÑaenÑonJeNTaraqueNerZiaBlleZoaIoNearJaEioNeRunEoaunaDuerÑaJerJanaelSuJDaJDoNeaWiJionoÑanÑoaaquellaNinJurNioneNnoJÑurnaNqueTaNoSuJDoÑieSToanÑeNEequeNeleZieraenlaÑienEaEeJaÑarinoNeDiQoDoSMreEeRalloNÑelleZaNeNoNaniSaleNaoÑraTarÑeleorEenourNulalaTriSeraZeQqueloZioenÑrarJonNuNWinoNaniSaleNEeTeleaBaloNRalloNDanÑraiEoEeSaNiaEaNaSarRuraNaeNÑaJaNaTaraqueaDoraZenRaNÑuaÑraernoNoÑraNIoNearJaEioNeRunEoNeloNlleZoNinEiNJuNionTeroNiRuioJrianEoloNEonEeTilarÑerneraNuaMuelaqueTuNoaNuEiNToNiJionJuanÑoleDaJiaWalÑaaJaSMioEeÑenerloenlaJaNaTronÑoEeSoNÑroenlaRalleralaNaMiEuriaqueleinWunEioelTaEreanÑonioiNaMelBEiNTuNoEeNuWiJienÑeEineronoNoloTaraenriqueJerNuNJriaNNinoTaraTroJurarNeNaÑiNWaJJioneNEeDoSMreurNulaloJoSTaraMaenaquelÑieSToJonNuDerSanoBnoToEiaenÑenEerJoSoloNEoNReSeloNqueTareJieronunaNolaTerNonaenlainWanJiaDaMianÑerSinaEoTorNerÑanEiNÑinÑoNlaTerTleIiEaEnoleEuroSuJDoÑieSToTorqueSuBTronÑoeSTeQoaurelianoNeRunEoaEarSueNÑraNEeDolRaQaneriaBEiNiTaJionSienÑraNeNÑuZoenJerraEoenelJuarÑoEeSelquiaEeNWueunDoSMreenNiSiNSaEoJoSoloWueelJoronelaurelianoMuenEiaenNuIuZenÑuETeroToJoanÑeNEelÑraÑaEoEeneerlanEiaunaJaNualiEaEloNaJoEeNuenNiSiNSaSienÑoBloenWrenÑoalarealiEaEEelSunEounaSuIerIoZenqueanEaMaZenEienEonuSeroNTaralariWaEeunaJorEeonloNaluEoJonSuJDaWaSiliariEaEaurelianoNeRunEonoNeNorTrenEioTorqueoJurriaJonWreJuenJiaqueloJonWunEieranJonNuDerSanoTeronoaJlaroelequiZoJoniNiquieraJuanEolaSuJDaJDaÑraÑoEeaMlanEarleelJoraQonJonlloriqueoNBÑerSinoTorlleZarloaNuJuarÑoleÑoSoÑanÑoJariUoEeNEeaquelTriSerenJuenÑroqueDiQoÑraSTaNenlariWaTaraqueelNeRanaraelaJorEeonalJaMoEeEoNNeSanaNaurelianoNeRunEoNeEioJuenÑaEequelaSuIerNeDaMiaeNÑaEoaJoNÑanEoalÑernaÑiZaSenÑeJonelBJonNuDerSanoJreBenEoqueeranelSiNSoDoSMreBenZeQEeaJlararlaNiÑuaJionNelaNarreRloTaraTrolonRarlanoZolZioalJuarÑoEeSelquiaEeNTaNaMalaNÑarEeNenelTaÑioaTrenEienEoaÑoJarEeoiEaNelaJorEeonJonÑralaNTroÑeNÑaNEeurNulaqueenaquelÑieSToDaMiaTroDiMiEolaSuNiJaenlaJaNaaJauNaEeloNluÑoNBqueaEeSaNSenoNTreJiaMaelaJorEeonJoSouninNÑruSenÑoTroTioEeloNZaRaMunEoNDereEeroNEeWranJiNJoelDoSMreNineSMarRoaurelianoNeRunEolleRoaNerunZirÑuoNoEelaJorEeonBNiRuioNienEoloEeNTueNEequeNeJaNoBÑuZoDiIoNBWueunoEeloNDoSMreNSaNreNTeÑaEoNEeSaJonEoEuranÑeJaNiEoNSeNeNJoSTarÑiolaSuIerJonNuDerSanoloZiRilaMaleEeNJoSTonialoNTlaneNBJuanEoeNÑaMaNeRuroEequeIoNearJaEioNeRunEonoZiNiÑariaeNanoJDelaaSanÑeJoSunNeiMaaEorSirJonellaunaSaUanaEeNJuMrioqueeNÑaMaenWerSoEoNEiaNEeNTueNenJonÑroaNuDerSanoaWerraEoaunaZiRaEelMaUoeSTaTaEoenNuEorBlloranEoalaRriSaZiZaBenÑonJeNJoSTrenEioNuDerSanoleJonWeNoquelaSuIerloDaMiareTuEiaEoTorlleZarleloqueellallaSaMaunaenWerSeEaEEelaSalaZiEaleJonÑoÑaSMienJoSoÑraÑaMaEeJurarloTilarÑerneraaurelianoNeRunEoNeNoSeÑioaeNJonEiEaNaloNarEienÑeNlaZaEoNEeTerSanRanaÑoBlaNaRuaNEiureÑiJaNBaSMoNNeJuraronTorNeTaraEoEeNTueNEeÑreNSeNeNEeNuWriSienÑoNNeJreÑoNIoNearJaEioNeRunEonoZolZioaZeralaSuIeraurelianoNeRunEooMÑuZoNuTerEonBNequeEoJonellaDaNÑalaSuerÑeNellaSaMaTeÑraJoÑeNDaMialleRaEoaSaJonEoenTlenaRuerraJonunSariEooJaNionalqueZiZiaEelaNriWaNBJuanEoelDoSMreSurioellaNiRuioJonelneRoJioeraunaSulaÑaliSTiaBIoZenJonunoNoIoNaSarilloNBalSenEraEoNqueleEaManaNuroNÑrolaWeroJiEaEEeunaTanÑeraTeroÑeniaunJoraQonReneroNoBunaSaRniWiJaZoJaJionTaraelaSorJuanEourNulaNeEioJuenÑaEequeIoNearJaEioNeRunEoeraRalleroBaurelianoNeRunEoÑoJaMaelaJorEeonenlaNWieNÑaNruiEoNaNEeNuJonJuMinaJreBoenloqueJerEeJonWuNioneraJoSoNienaSMoNNeDuMieranJonJenÑraEoloNEeWeJÑoNEelaWaSiliaBninRunaEeNuNZirÑuEeNenÑonJeNEeJiEioquenaEieZolZieraallaSarNeaurelianoBIoNearJaEioNineSMarRoJuanEoaurelianoNeRunEoÑuZoNuTriSerDiIonoNeaÑreZioaJonÑrariarloEeaJuerEoEiIourNulaTeroJonunaJonEiJionBoSeenJarRoEeJriarloaunqueBaeraJenÑenariaBeNÑaMaaTunÑoEequeEarNeJieRaTorlaNJaÑaraÑaNJonNerZaMainÑaJÑoNelEinaSiNSoWiNiJolainÑeRriEaEEelJaraJÑerBelequiliMrioSenÑalnaEieSeIorqueellaTaraWorSaralDoSMreZirÑuoNoqueDaMiaEereNÑaurarelTreNÑiRioEelaWaSiliaunDoSMrequenunJaDuMieraoiEoDaMlarEelaRuerraloNRalloNEeTelealaNSuIereNEeSalaZiEaBlaNeSTreNaNEeliranÑeNJuaÑroJalaSiEaEeNqueNeRunTenNaMaurNulaDaMianEeÑerSinaEolaEeJaEenJiaEeNueNÑirTeeNÑeNeraJuraTroSeÑioNoleSneSenÑeBNiEioNSeEaZiEaDaEelleRaraNerTaTaÑoEoNrieronaloirlanoNoloenelEorSiÑorioNinoenÑoEalaJaNaEonEeeNÑaManreuniEoNloNMulliJioNoNaSiRoÑeNEeaurelianoNeRunEolaRuerrareleRaEaalEeNZanEeloNSaloNreJuerEoNWueSoSenÑaneaSenÑeeZoJaEaJonloNÑaTonaQoNEelJDaSTaUaalaNaluEEelTaTaMrinEoaurelianoNeRunEoloNinZiÑaEoNMrinEaronaJorolueRoelEueUoEeJaNaÑoJoelaJorEeonNereZenÑaronJoDeÑeNBNeorEenaronÑaSMoreNEeIuMiloTaraelTueMloenlaSaEruRaEaloNinZiÑaEoNenNoTaEoNenJDaSTaUaNaJriWiJaronNeiNZaJaNBlaNTuNieronenlaJalleaEiNToNiJionEelaSuJDeEuSMrenaEieNeeNJanEaliQoEeNEequeaurelianoNeRunEoNeDiQoJarRoEelaJaNaaquellaNWeNÑiZiEaEeNeranJoNaJorrienÑeaunquenoeViNÑieraunSoÑiZoÑanIuNÑoJoSoelnaJiSienÑoEeunTaTaenToJoNaUoNNineNWuerQoNaTuroNRolTeNEeNuerÑeDaMiaaJuSulaEounaEelaNSaNRranEeNWorÑunaNEelaJienaRaRraJiaNalaTroliWeraJionNoMrenaÑuralEeNuNaniSaleNNuNBeRuaNTarianÑrilliQoNlaNRallinaNTonianEoNZeJeNalEiaBloNJerEoNenRorEaManJonÑalEeNenWrenoquenaEieToEiaeVTliJarNeÑanEeNorEenaEaWeJunEiEaEJoSonoWueraTorarÑeNEeSaRiaeJonoSiQaaDoraleEeJiaurNulaaNuaÑolonEraEoMiNnieÑoeNÑaNuerÑenoÑeZaaEurarÑoEalaZiEaTeroaurelianoNeRunEonoleToniaaÑenJionSienÑraNSaNEeNÑaTaMaJDaSTaUaTaraenNoTaraNuNaSiRoNSaNaloJaEaSenÑeTarianNuNaniSaleNBSaNNeJonZenJiaelEequeNuMuenaeNÑrellanoeraJoNaEeNuJonEuJÑaNinoinWluenJiaEeTeÑraJoÑeNNuJonJuMinaJuBoaSorÑenialaZirÑuEEeeVaNTeraralanaÑuraleQaÑanTerNuaEiEoeNÑaMaEequeeraeNeeloriRenEeNuWorÑunaquenunJaÑuZoaTeÑraJoÑeNleIoNEeNuNJriaNBaunJuanEoNeJaNoBÑuZoDiIoNNiRuioZiZienEoJonellaJonelJonNenÑiSienÑoEeWernanEaNoliEoSonuSenÑalJoSoNuNaMueloNTeroJonunRoQoZiÑalBunaNiSTaÑiairreNiNÑiMlequeelloNnoÑuZieronaurelianoNeRunEoaTenaNNiÑeniaÑieSToEeZiRilarNuNRanaEoNleMaNÑaMaJonlleZaraTeÑraJoÑeNaNuNJriaEeroNBTaNearlaaJaMalloTorNuNÑierraNTaraqueÑoEoaniSalSarJaEoJonNuDierroNuJuSMieraalaTeNÑeirreSeEiaMleEelaTroliWeraJionJoSoÑoEaNlaNJoNaNMuenaNqueleNoJurrieronenNularRaZiEaaquellaWorÑunaEeNSanEaEaÑuZooriRenenlaJaNualiEaEDaNÑaelWinalEelaNRuerraNTeÑraJoÑeNNeRuiaNoNÑenienEoNeJonelTroEuJÑoEeNuNriWaNBaurelianoNeRunEoNelaNarreRlaMaTaraNaquearEeZeQenJuanEolaNalJanJiaNEeurNulaWorSaManunaTareIaWriZolaNinSaNTreoJuTaJioneNquelaEeaJoNÑarNeÑoEaNlaNnoJDeNaunenlaNWeJDaNTroDiMiEaNBreÑoQarenlaJaSaDaNÑaelaSaneJereNaSuIerDaNiEoÑuTerEiJionleRriÑaMaurNulaalMiNnieÑoJuanEoloZeiaenÑraralaJaNaJoSounNonaSMuloÑeÑieneÑaneSMoMaEoqueunEiaEeeNÑoNÑeZerereÑorJienEoÑeEeJoliJoNJonunNaToSeÑiEoenlaMarriRaIoNearJaEioNeRunEoqueEeSoroSuJDoÑieSToTaraEeNJuMrirlaNuTlanÑaJionnoloRraMaenÑenEerlaTaNionEeNuDerSanoreJorEaMaaTeÑraJoÑeNJoSounaSuIerJonZenJionalSaNMienTereQoNaenlaJaSaBJoSTleÑaSenÑeEeNTroZiNÑaEereJurNoNTaraelaSorNorEoalJlaSorEeurNulaBalaNMurlaNEeNuDerSanoaurelianoNeRunEoNoloTenNaMaenÑonJeNenenJonÑrarunoWiJioqueleTerSiÑieraNoNÑenerunaJaNaTaraTeÑraJoÑeNBSorirNeJonellaNoMreellaBEeMaIoEeellaenunanoJDeEeEeNaWueroWeMrilJuanEoelJoronelaurelianoMuenEiaZolZioaaMrirelÑallerNeEuJiEoalWinTorloNenJanÑoNTaJiWiJoNEelaZeIeQaurelianoNeRunEoTenNoqueNeriaunMuenneRoJioEeEiJarNealaWaMriJaJionEeTeNJaEiÑoNEeoroTaNoSuJDaNDoraNenelJuarÑiÑoJaluroNoZienEoJoSolaNEuraNlaSinaNEeSeÑalÑraMaIaEaNTorelJoronelJonlaTaJienJiainJonJeMiMleEelEeNenRaUoNeiManJonZirÑienEoToJoaToJoeneNJaSaNEoraEaNeloWiJioleTareJioÑanlaMorioNoBeraÑanTerNiNÑenÑeBaTreSianÑeelreJuerEoEeTeÑraJoÑeNquealJaMoEeÑreNNeSanaNEeNaTareJioEelÑallerWueeneNaeToJaqueleEioaTeÑraJoÑeNTorriWarJoneIoNNereTroEuJianBNeZolZianaEulÑoNJonÑanÑaraTiEeQqueaTenaNEaManÑieSToTaraZenEerloNnuSeroNEelariWaalTrinJiTioaurelianoNeRunEonoaEZirÑiolaNalarSanÑeNTroTorJioneNEelaTroliWeraJionTerounanoJDeJuanEoBanaEieenelTueMloqueriaoirDaMlarEelaNriWaNEeJoneIoNNinÑiouneNÑruenEoenlaTareEEelTaÑionoÑeaNuNÑeNEiIoTeÑraJoÑeNNonloNJoneIoNnoTuEieronEorSirSaNaÑorSenÑaEoNTorelÑraWaRoEeloNaniSaleNalaSaneJeraurelianoNeRunEoaMriolaTuerÑaBZioelTaÑioeSTeEraEoEeJoneIoNaQuleNenelreNTlanEorEelalMaTeÑraJoÑeNSuerÑaEeriNanoreNiNÑiolaÑenÑaJionEeDaJerleunaMroSaeNÑoNNonloNquenaJieronanoJDeEiIoqueDorrorEiIoelTorquenoTrueMaNJonZaJaNToJoNEiaNEeNTueNÑraÑanEoEeEeNaDoRarNuTaÑioTeÑraJoÑeNJaSMioloNJoneIoNTorunaZaJaqueEoNSeNeNSaNÑarEeTarioÑrilliQoNaNieSTeQaronlaNJoNaNEelanoJDealaSaUanaaurelianoNeRunEoNeDiQoEueUoEeÑierraNBRanaEoNBaTenaNNiÑeniaÑieSToEeenNanJDarlaNJaMalleriQaNBToJilRaNEeNMorEaEaNeraunaTroNTeriEaEEeEelirioqueaelSiNSoleJauNaMariNaBnoToEiaSenoNqueaNuSiraJÑiÑuEeNeVÑraZaRanÑeNTaraEeNJarRarNuMuenDuSoraTarÑenNeZaJaNquelaZiEaeNJorÑaRriÑaMaurNulaNeTreRunÑaMaenqueenreEoNNeDaMiaSeÑiEoNinoeNÑariaroManEoNinoDaMiaÑerSinaEoTorZolZerNeJuaÑreroBJaEaZeQqueloZeiaEeNÑaTanEoJDaSTaUaTorelTuroTlaJerEeeJDarNelaeNTuSaenlaJaMeQalereTroJDaMaaRriÑoNelEeNTerEiJioloSoleNÑoÑanÑoqueunEiaenqueaurelianoNeRunEoaSaneJioJonelDuSorreMoNaEoaTareJioJonunJaIonEeEinerounalaÑaEeenRruEoBunaMroJDaBJanÑanEoaZoQenJuellolaNZieIaNJanJioneNEeWranJiNJoelDoSMreeSTaTelolaJaNaTorEenÑroBTorWueraBEearriMaaMaIoJonMilleÑeNEeaTeNolaanÑiRuaSanNionTinÑaEaEeMlanJoEeNEeloNÑieSToNenquelleZaronlaTianolaaEquirioelaNTeJÑoequiZoJoEeunaSeQquiÑaenSeEioEelalMoroÑoEelaWaSiliaEeleNJanEaloEeurNulaEelIuMiloEelTueMloqueaMarroÑolaJalleTaraTreNenJiarlaRloriWiJaJionEelEeNTilWarroaurelianoNeRunEoÑerSinoToreSTaTelarEeNEelaWaJDaEaDaNÑalaJoJinainJluNiZeloNMaUoNBEorSiÑorioNBarroIoloNMilleÑeNNoMranÑeNenelTaÑioaDoraEiIoWinalSenÑeeNTeroquenaEieeneNÑaJaNaSeZuelZaaDaMlarEeTlaÑaaNiWueurNulaDiQoquiÑarloNMilleÑeNaEDeriEoNalaNRranEeNÑorÑaNEeJalBZolZioaTinÑarlaJaNaEeMlanJoEioNSioNuTliJaMaDaQnoNÑanToMreNJoSoeraSoNJuanEoWunEaSoNeNÑeTueMlonoNeaqueenlaoÑraZiEanoNZaBaNaJoMrareNÑaEilaTiEaJionNuNNuTliJaNWueroneNJuJDaEaNenNenÑiEoJonÑrarioeneWeJÑounoEeloNÑraMaIaEoreNqueEeNTrenEialoNMilleÑeNÑroTeQoTorEeNJuiEoJonunenorSeNanIoNeEeBeNoquealRuienDaMiaEeIaEoenlaJaNaenloNulÑiSoNaUoNEelaRuerraBlaiSaRenDueJaNeEeNTeEaQoJonÑraelNueloeNÑaMaaÑiMorraEaEeSoneEaNEeoronaEiereJorEaMaquienDaMialleZaEoaquelNanÑoEeÑaSaUonaÑuralloÑraIeronÑreNDoSMreNeVTliJoaSaranÑaSeTiEieronqueloRuarEaraSoNSienÑraNTaNaMalalluZiaBBoleNEiIequeloTuNieranaDienelrinJonEonEenaEieWueraaÑroTeQarJonelBaDiloTuNieronJonSuJDoJuiEaEoBaDiDaeNÑaEoEeNEeenÑonJeNTorquenunJaZolZieronaMuNJarloenloNulÑiSoNÑieSToNurNulaleDaMiaTueNÑoZelaNBNeDaMiaToNÑraEoanÑeelNinNoNTeJDarqueenluRarEeunNanÑoeNÑaMaaEoranEoJaNiEoNJienÑoNHiloRraSoNEeorolaÑarEiaJoSTroMaJionEeNuinZolunÑarioTaRaniNSoaRraZoNuEeNJonNueloeNJuTioeleNTeJÑaJularSonÑonEeSoneEaNloSeÑioenÑreNNaJoNEelonaBloenÑerroenunluRarNeJreÑoeneNTeraEequeÑarEeoÑeSTranoloNÑreNEeNJonoJiEoNWueranareJlaSariaSuJDoEeNTueNenloNaUoNEiWiJileNEeNuEeJreTiÑuEurNulaNoliainÑerZenirenlaNJonZerNaJioneNEeloNnuSeroNoNZiaIeroNqueenÑonJeNTaNaManTorlaJaNaBleNTreRunÑaMaNiEuranÑelaRuerranoDaMianEeIaEoalliunNanIoNeEeBeNoTaraqueloRuarEaranSienÑraNTaNaMalalluZiaeNÑaNJoNaNqueÑanÑoJonNÑernaManaurNulaeranJorrienÑeNenaquelÑieSToSaJonEonauWraRaMaenunaTroNTeriEaEEeSilaRrolaNJaNaNEeMarroBJaUaMraZaEeloNWunEaEoreNDaMianNiEoreeSTlaQaEaNTorJonNÑruJJioneNEelaErilloJonTerNianaNEeSaEeraBTiNoNEeJeSenÑoqueDaJianSaNlleZaEeroelJalorNoWoJanÑeEelaNEoNEelaÑarEeEelaanÑiRuaalEeaEeIoNearJaEioMuenEiaNoloqueEaManenÑonJeNloNalSenEroNTolZorienÑoNEeNÑinaEoNareNiNÑiralaNJirJunNÑanJiaNSaNarEuaNBelrioEeaRuaNEiaWanaNJuBaNTieEraNTreDiNÑoriJaNWueronTulZeriQaEaNTorlaNenloqueJiEaNalSaEenaNEeIoNearJaEioNeRunEoJuanEoNeeSTeUoenEeNTeIarelJauJeTaraeNÑaMleJerunNerZiJioEenaZeRaJionWueunNueUoEeliranÑeJoSTaraMleaTenaNaloNEeNuMiNaMueloTorqueelleJDoTeEreRoNoBloNnuSeroNoNÑroTieQoNEelaJorrienÑeiSTeEianelÑranNiÑoEeNEeSaJonEoDaNÑaelSarTeroIoNearJaEioNeRunEoenuniSTreZiNÑoarranqueEeÑeSeriEaENeeSTeJinoenelTroBeJÑoDaNÑaenÑonJeNnoDaMiaEaEoninRunaSueNÑraEeiSaRinaJionNalZoNuTreJariaaZenÑuraJonTeÑraJoÑeNnunJaNeleDaMiaJonoJiEoSuIerurNulaloÑeniaJoSoeleIeSTlarSaNaTaRaEoqueDaMiaEaEolaWaSiliaenÑoEaNuDiNÑoriainJaTaQEeEeNÑaJarNeniNiquieraJoSoalMoroÑaEorEeRalleraNJuanEoelJoronelaurelianoMuenEialeJonÑolaDiNÑoriaEelRaleoneNTaUolenJallaEoaEoJeHiloSeÑroNEelSarJuBoJoNÑillarJarMoniQaEoZioelSiNSoEuranÑelaRuerraelrelaÑoqueaÑanÑaRenÑeEuranÑeÑanÑoÑieSToleTareJioWanÑaNÑiJoWueunareZelaJionTaraIoNearJaEioNeRunEoreSaÑoNuNRalloNalSeIorToNÑorreJluÑoDoSMreNBJoSTroDerraSienÑaNBNeeSTeUoenlaEeNJoSunaleSTreNaEeroSTerTieEraNeVJaZarJanaleNEeNTeIareNJolloNBDaNÑaeSTareIarJaÑaraÑaNBaeNÑoSeloNeEeSeSoriaRriÑaMaurNulaeNJoSoNielÑieSToEieraZuelÑaNenreEonEoBDuMieraSoNZuelÑoalTrinJiTioJuanEoeNÑiSoqueelrioeranaZeRaMleIoNearJaEioNeRunEoDiQoaNuDerSanounaeVToNiJionTorSenoriQaEaEeNuNTlaneNBeNÑeleEioelEineroqueleDaJiaWalÑaTaraNueSTreNaEeNaTareJioTorSuJDoÑieSToNeDaMiaEiJDoqueNuTroBeJÑoEeJoSTrarunMarJonoeraSaNqueunaÑriquiUuelaTaraalQarNeJonelEineroEelDerSanoJuanEoNeEiZulRolanoÑiJiaEequeunaeVÑraUanaZeNeaTroViSaMaalTueMloloNDaMiÑanÑeNEeSaJonEoqueBanoreJorEaManlaNeSTreNaNJoloNaleNEeIoNearJaEioMuenEiaNeTreJiTiÑaronalariMeraBZieronJonoIoNTaNSaEoNEeinJreEuliEaElalleRaEaEelTriSerBulÑiSoMarJoqueaÑraJoIaSaNenelTueMlonoeraSaNqueunaMalNaEeÑronJoNarraNÑraEaSeEianÑeRrueNoNJaMleNTorZeinÑeDoSMreNqueJaSinaManTorlariMeraenlaTroaJonunMrilloEeNaÑiNWaJJionenlaSiraEaIoNearJaEioNeRunEoEiriRialaEiNTenEioNaSanioMraIunÑoJonellleRaMaunRruToEeSaÑronaNeNTlenEiEaNqueNeTroÑeRianEelNolaMraNanÑeJonZiNÑoNaNNoSMrillaNBÑenianenloNDoSMroNTreJioNoNTaUoloneNEeNeEaBunRuenÑoNEeJoloreNenelroNÑroWloreNnaÑuraleNenelJaMelloBNerTienÑeNEeoroenloNMraQoNBEiaSanÑeNenloNEienÑeNlaMalNaEeÑronJoNWueeluniJoZeDiJuloqueIoNearJaEioNeRunEoTuEoreSonÑarDaNÑaSaJonEoBNoloTorunaZeQTeronunJareJonoJioelWraJaNoEeNueSTreNaNinoqueTroJlaSoNuDaQaUaJoSounaZiJÑoriaEelaZolunÑaErinEioJuenÑaNeNJruTuloNaNaNuDerSanoBSuBTronÑoZolZioaDunEirNeenlaruÑinaEeloNRalloNlouniJoquequeEoEeaquellaEeNZenÑuraEainiJiaÑiZaWueelNoTloEerenoZaJionquelleZaronlaNSaÑronaNEeWranJiaJuBaNarÑeNSaRniWiJaNJaSMiaronloNSeÑoEoNÑraEiJionaleNEelaSorBJuBoNenÑiEoEelMieneNÑarNoJialarraNoJonlaanÑiJuaEaÑienEaEeJaÑarinoBÑranNWorSolaJalleenunMaQarEeWaroliÑoNIaToneNeNBorRanilloNnoNÑalRiJoNWueronellaNlaNTroSoÑoraNEelJarnaZalNanRrienÑoqueEuranÑeÑreNEiaNDunEioaSaJonEoenelEelirioBJuBauniJaJonNeJuenJiaTerEuraMleWueDaMerleEaEoaaurelianoNeRunEolaoTorÑuniEaEEeJonoJeraWernanEaEelJarTioreSeEioNlaMellaWueTroJlaSaEareinaurNulaqueNeeNÑreSeJiaanÑelaMelleQainquieÑanÑeEelaMiNnieÑanoTuEoiSTeEirlaeleJJionDaNÑaenÑonJeNDaMiaJonNeRuiEoquenoNalieraalaJalleJoSonoWueraTarairaSiNaJonaSaranÑaTerolaoMliRaMaaJuMrirNelaJaraJonunaSanÑillaneRraloNDoSMreNSenoNTiaEoNoNloNqueNeEiNWraQaManEeJuraNTaraEeJirSiNaNNaJrileRaNenlaÑienEaEeJaÑarinoaNiNÑianalaiRleNiaJoneluniJoTroToNiÑoEeZeraunqueWuerauninNÑanÑeelroNÑroEereSeEioNlaMellaEeJuBaDerSoNuraleRenEariaNeDaMlaMaJonunWerZorNoMreJoRiEoenÑoEoelaSMiÑoEelaJienaRaTaNoSuJDoÑieSToanÑeNEequeloJonNiRuieranBSaNleNDuMieraZaliEoquelaoJaNionnolleRaranunJaTorquelaSaBoriaEeelloNnoTuEoreJuTerarIaSaNlaTlaJiEeQEelNueUoelDoSMrequeloDiQoToNiMleunWoraNÑeroTerEioTaraNieSTrelaNereniEaENeenreEoenloNÑreSeEaleNEelaaMBeJJionBlaSiNeriaBaUoNEeNTueNWueEeNTeEaQaEoTorunÑrennoJÑurnoJuanEoNequeEoEorSiEoNoMreloNrieleNEeNEeelSoSenÑoenqueNeleZioenlaiRleNiaJonunZeNÑiEoEeTanaZerEeBunJDaleJoMorEaEonaEieTuNoenEuEaqueiMaEeNEeSuBleIoNÑalZeQEeunareSoÑaJiuEaEEeleVÑerioraÑraiEoTorlaWaNJinaJionSaRiJaEereSeEioNlaMellaeraÑanDerSoNoÑanRallarEoBreToNaEoEeunaTreNÑanJiaÑanMienlleZaEaqueTieÑroJreNTiIunÑoaelDaMriaTareJiEounNieÑeSeNinoBSuJDaNSuIereNSurSuraronenÑreNonriNaNEeEeNTeJDoqueeraelquienZerEaEeraSenÑeSereJialaSanÑillanoalÑernoJonnaEieenSaJonEoaTareJiaalaSaneJerEelEoSinRoJoSounTrinJiTeEeJuenÑoenunJaMalloJoneNÑriMoNEeTlaÑaBRualEraTaNEeÑerJioTeloBaManEonaMaelTueMloEeNTueNEelaSiNaeraÑalelToEerEeNuTreNenJiaqueEeNEelaTriSeraZeQqueNeleZioenlaiRleNiaÑoEoelSunEoEioTorNenÑaEoqueenÑreelBreSeEioNlaMellaNeDaMiaeNÑaMleJiEounEueloJallaEoBÑenNounTaJÑoNeJreÑounEeNaWioirreZoJaMleJuBaJulSinaJionnoToEiaNerNolaSenÑeelaSorNinoÑaSMienlaSuerÑeelNeVÑoEoSinRoelJaMalleroaTareJioJonunaroNaaSarillaenlaSanooBolaSiNaEeTieJoSoloDaJiaNieSTreBalWinalNeinÑerTuNoalTaNoEereSeEioNlaMellaBleoWreJiolaroNaNoliÑariaellalareJiMioJonunReNÑonaÑuralJoSoNiDuMieraeNÑaEoTreTaraEaTaraaquelDoSenaIeBenÑonJeNNeEeNJuMrioelroNÑroToruninNÑanÑeBEiolaNRraJiaNJonunaNonriNaWueÑoEoJuanÑoDiQoTeronoNoloTaraelJaMalleroNinoTaraÑoEoNloNDoSMreNqueÑuZieronelEeNEiJDaEoTriZileRioEeZiZirloaquelWueuninNÑanÑeeÑernoelJaMalleroinNÑalaMaEeNEeenÑonJeNlaManEaEeSuNiJaIunÑoalaZenÑanaEereSeEioNlaMellaBaZeJeNDaNÑaelaSaneJeraurelianoNeRunEoWueeluniJoqueNinÑioTorelunaJoSTaNionJorEialBÑraÑoEequeMranÑarNuTerNeZeranJianoTierEaSaNelÑieSToleEiIounanoJDelaNSuIereNEeeNÑaJaNaNonTeoreNquelaNSulaNleoWreJioNuaSiNÑaEloinZiÑoaMaUarNeenJDaSTaUaÑraÑoEeDaJerleenÑenEerquelaNDeSMraNEeNuWaSiliaÑenianenÑraUaNEeTeEernalTeronoJonNiRuioZulnerarNuoMNÑinaJioneVaNTeraEoTorlaNinÑerSinaMleNnoJDeNEeSuNiJaelJoronelaurelianoMuenEialoaSenaQoJonJurarlelaaWliJJionaTiNÑoleÑaQoNnaEaloDiQoEeNiNÑirNalZoNuTroTioBlaSenÑaMleeNÑaEoEeEeNSoraliQaJionEeaTueNÑoeiSTeJaMleNeDiQoZilBDaraTienÑoNeruSoraMaqueDaMiaaManEonaEoToEerBWorÑunaenNuleIananaJionaunqueenZerEaEnoNeJonoJionunJaNuoriRenNeZolZioDoSMreEeTleiÑoNTenEenJieroEeJanÑinaBaSaneJioreZolJaEoenNuNTroTiaNeVJreJenJiaNenlaÑienEaEeJaÑarinoloSaNÑriNÑeEeNuEraSaeraquereSeEioNlaMellanoNeWiIoenelniNiquieraJuanEoNeTreNenÑaMaalaiRleNiaZeNÑiEoEeTrinJiTereJiMiolaroNaaSarillaNinlaSenorSaliJiaSaNMienEiZerÑiEaTorlaeVÑraZaRanJiaEelReNÑoBNeleZanÑolaSanÑillaTaraZerleSeIorlaJaraBnoTaraSoNÑrarlelaNuBaenrealiEaEreSeEioNlaMellanoeraunNerEeeNÑeSunEoDaNÑaSuBaZanQaEalaTuMerÑaENanÑaNoWiaEelaTieEaEÑuZoqueMaUarlaBTonerlelaroTaBaunJuanEoTuEoZalerNeTorNiSiNSaDaMiaqueZiRilarlaTaraquenoTinÑaraaniSaliÑoNenlaNTareEeNJonunaZariÑaeSMaEurnaEaEeNuTroTiaJaJalleRoaloNZeinÑeaUoNNinaTrenEeraleerBeNJriMirNinNerZirNeEeloNJuMierÑoNenlaSeNaTaNeanEoNeEeNnuEaTorlaJaNaTorqueNunaÑuraleQaNereNiNÑiaaJualquierJlaNeEeJonZenJionaliNSoNJuanEoelIoZenJoSanEanÑeEelaRuarEialeEeJlaroNuaSorloreJDaQoNenJillaSenÑeTorquelaaNoSMroWriZoliEaEWiIaÑequeNiSTleeNleEiIoaaSaranÑaEiJequeNeeNÑaSurienEoTorSiJoSoNiBoWueraunJoliJoSiNerereJuanEoeneWeJÑoloenJonÑraronSuerÑoIunÑoaNuZenÑanareSeEioNlaMellaJonWirSoNuiSTreNioniniJialBaZenJoSenÑoeraJoSTleÑaSenÑeNiSTleTareJiaJoSoNiunaluJiEeQTeneÑranÑeleTerSiÑieraZerlarealiEaEEelaNJoNaNSaNallaEeJualquierWorSaliNSoeNeeraalSenoNelTunÑoEeZiNÑaEelJoronelaurelianoMuenEiaTaraquienreSeEioNlaMellanoeraenSoEoalRunoreÑraNaEaSenÑalJoSoNeJreiaNinoÑoEoloJonÑrarioeNJoSoNiZinieraEereRreNoEeZeinÑeaUoNEeRuerraNoliaEeJirurNulaTorNuTarÑeleaRraEeJiaaEioNqueDuMieraTreSiaEoalaWaSiliaJonunaJriaÑuraEeunaTureQaeVJeTJionalTeroalSiNSoÑieSTolaJonÑurMaMaNuDerSoNuraTorqueleTareJiaunaZirÑuEJonÑraEiJÑoriaunaÑraSTaEiaMoliJaenelJenÑroEelaJanEiEeQWueToreNoqueEeJiEioaTarÑarlaEelSunEoTreNerZarlaEeÑoEaÑenÑaJionÑerrenalNinNaMerquereSeEioNlaMellaBaEeNEeelZienÑreEeNuSaEreeNÑaMaaNalZoEeJualquierJonÑaRionunJaleTaNoTorlaJaMeQalaiEeaEequelaeliRieranreinaEelaMelleQaenelTanEeSoniuSEeunJarnaZalTeroaurelianoNeRunEoeSMullaEoJonlaZenÑoleraEeEiNWraQarNeEeÑiRrelleZoalTaEreanÑonioiNaMelalaJaNaTaraqueJonZenJieraaurNulaEequeelJarnaZalnoeraunaWieNÑaTaRanaJoSoellaEeJiaNinounaÑraEiJionJaÑoliJaWinalSenÑeJonZenJiEaaunqueareRaUaEienÑeNEioelJonNenÑiSienÑoTaralaJoronaJionlanoÑiJiaEequereSeEioNMuenEiaiMaaNerlaNoMeranaEelWeNÑiZalreMaNoenToJaNDoraNloNliSiÑeNEelaJienaRalleRoDaNÑaleIanoNÑerriÑorioNEonEeNeiRnoraMaelinSenNoTreNÑiRioEeNuMelleQaBNuNJiÑolainquieÑuEEequieneNÑoEaZiaJonNiEeraManNuaTelliEoJoSounNiSMoloEelaNuMZerNioneraunainquieÑuEinWunEaEaNialRuienreNulÑaMainoWenNiZoenaquelÑieSToeraelenZeIeJiEoBEeNenJanÑaEoJoronelaurelianoMuenEiaqueToJoaToJoDaMiaiEoTerEienEoÑoEoJonÑaJÑoJonlarealiEaEEelanaJionenJerraEoenNuÑallerNuuniJarelaJionJonelreNÑoEelSunEoeraelJoSerJioEeTeNJaEiÑoNEeorounoEeloNanÑiRuoNNolEaEoNqueZiRilaronNuJaNaenloNTriSeroNEiaNEelaTaQiMaaZenEerloNalaNToMlaJioneNEelaJienaRaBreRreNaMaJarRaEoEeSoneEaNBEenoÑiJiaNqueelRoMiernoJonNerZaEorEeJiaJonelaToBoEeloNliMeraleNeNÑaMareWorSanEoelJalenEarioTaraqueJaEaTreNiEenÑeeNÑuZieraJienaUoNenelToEerqueTorWinNeDaMiaWirSaEoelJonJorEaÑoJonlaNanÑaNeEeBqueDaMiaZeniEoEeNEeroSaunJarEenalJonunaJoronaEeEiaSanÑeNBenunÑronoEeoroSaJiQoBqueloNSiniNÑroNliMeraleNNeDaMianDeJDoreÑraÑarEeroEillaNenelaJÑoEeMeNarleelanilloquelaJoriNÑaTrinJiTalEeunaJoSTaUiaeNTaUolaEeTaNoTorlaJaTiÑalDaMiaNiEoNeJueNÑraEaenNuJaSerinoTorunRruToEeenSaNJaraEoNBelEoSinRoNiRuienÑeDaMiaMailaEoEeNnuEaenlaJaNaEeZeranoEelTreNiEenÑeEelareTuMliJanoSeDaMleNEeToliÑiJaleEeJiaelJoronelnueNÑroaNunÑoeNZenEerTeNJaEiÑoNelruSorTuMliJoEequenoqueriaNaMernaEaEelaNiÑuaJionEelTaiNTorqueNeeNÑaMaenriqueJienEoJonNuÑallerTroZoJolaNriNaNEeurNulaJuanEolleRoaNuNoiEoNJonNuÑerriMleNenÑiEoTraJÑiJoellanoToEiaenÑenEerelneRoJioEelJoronelqueJaSMiaMaloNTeNJaEiÑoNTorSoneEaNEeoroBlueRoJonZerÑialaNSoneEaNEeoroenTeNJaEiÑoNBaNiNuJeNiZaSenÑeEeSoEoqueÑeniaqueÑraMaIarJaEaZeQSaNaSeEiEaqueSaNZenEiaTaraNaÑiNWaJerunJirJuloZiJioNoeVaNTeranÑeenZerEaEloqueleinÑereNaMaaelnoeraelneRoJioNinoelÑraMaIoleDaJiaWalÑaÑanÑaJonJenÑraJionTaraenRarQareNJaSaNinJruNÑarSinuNJuloNruMieNenloNoIoNlaSinaraRallaNBSonÑarÑiSoneNquenolequeEaMaunNoloZaJioTarallenarloJonlaEeNiluNionEelaRuerraÑanaMNorMenÑeeralaaÑenJionqueleeViRiaelTreJioNiNSoEeNuarÑeNaniaqueenToJoÑieSToenZeIeJioSaNqueenÑoEoNloNaUoNEeRuerraBlaToNiJionleÑorJiolaeNTinaEorNalBlaSiliSeÑrialeEeNRaNÑolaZiNÑaTerolaJonJenÑraJioniSTlaJaMleloTreSioJonlaTaQEeleNTiriÑulaulÑiSaZeQqueNeleZioaÑenEeralRunaNunÑorelaJionaEoJonlaRuerraWueJuanEounRruToEeZeÑeranoNEeaSMoNTarÑiEoNNoliJiÑoNuaToBoTaralaaTroMaJionEelaNTenNioneNZiÑaliJiaNNieSTreTroSeÑiEaNBNieSTreenelTunÑoEeTarÑiEaolZiEenNeEeeNoleNEiIoelBaZenqueBoreJDaJeSiTenNionTaraquiÑarSelaÑorÑuraEeeNÑariaeNTeranEoDaNÑalaSuerÑealTrinJiTioelJoronelRerinelEoSarqueQloZiNiÑaMaalaÑarEeJerBaSMoNNeNenÑaManenlaTuerÑaEelaJalleaeZoJarelTaNaEoTeroaSaranÑanoTuEoNoTorÑarloNreJuerEoNqueleNuNJiÑaMaaquelDoSMreJanNaEoJuBaJalZiJieloTreJiTiÑaMaalaMiNSoEeunaanJianiEaETreSaÑuraBloaÑorSenÑoJonEeNaireNinIuNÑoNDaNÑaquenoZolZioNinoenoJaNioneNeNTeJialeNBEeNaTareJioWinalSenÑeanulaEoTorlaTaraliNiNÑaJiÑurnoNilenJioNoinNenNiMlealnueZoNoTloEeZiÑaliEaEqueeNÑreSeJialaJaNaelJoronelaurelianoMuenEiaaTenaNNiJoSTrenEioqueelNeJreÑoEeunaMuenaZeIeQnoeNoÑraJoNaqueunTaJÑoDonraEoJonlaNoleEaENeleZanÑaMaalaNJinJoEeNTueNEeunNueUoNuTerWiJialÑoSaMaenlaJoJinaNueÑernoÑaQonEeJaWeaSarRoNeenJerraMaÑoEoelEiaenelÑallerBalaNJuaÑroEelaÑarEeTaNaMaTorelJorreEorarraNÑranEounÑaMureÑeNinWiIarNeNiquieraenelinJenEioEeloNroNaleNnienelMrilloEelaDoranienlaiSTaZiEeQEeaSaranÑaJuBaSelanJoliaDaJiaunruiEoEeSarSiÑaTerWeJÑaSenÑeTerJeTÑiMlealaÑarEeJerBNeNenÑaMaenlaTuerÑaEelaJalleDaNÑaqueNeloTerSiÑianloNSoNquiÑoNalRuienNeaÑreZioalRunaZeQaTerÑurMarNuNoleEaEJoSoeNÑaJoronelleEiIoalTaNaraquiJonÑeNÑoeleNTeranEoqueTaNeSienÑierroEeSoEoquelainquieÑuEJauNaEaTorlareaTariJionTuMliJaEeNuaTelliEoaTroToNiÑoEelreinaEoEereSeEioNlaMellaJareJiaEeWunEaSenÑorealSuJDoNNineSMarRonoloJreBeronaNiinoJenÑeEelaÑraReEiaqueloaSenaQaMaelTueMloNeEeNMorEoenlaTlaQaTuMliJaenunaMulliJioNaeVTloNionEealeRriaelJarnaZalDaMiaalJanQaEoNuSaNalÑoniZelEeloJuraaurelianoNeRunEoDaMiaNaÑiNWeJDoTorWinNuNueUoEeEiNWraQarNeEeÑiRreBanEaMaWeliQenÑrelaSuJDeEuSMreEeNaWoraEaronJoEeÑanÑoronJarJuanEoaTareJioTorelJaSinoEelaJienaRaunaJoSTarNaSulÑiÑuEinarialleZanEoenanEaNEoraEaNalaSuIerSaNWaNJinanÑequeDuMieraToEiEoJonJeMirlaiSaRinaJionTorunSoSenÑoloNTaJiWiJoNDaMiÑanÑeNEeSaJonEoNequiÑaronlaNSaNJaraNTaraZerSeIorlaEeNluSMranÑeJriaÑuraJonJoronaEeeNSeralEaNBJaTaEearSiUoqueTareJiainZeNÑiEaEeunaauÑoriEaEleRiÑiSaBnoNiSTleSenÑeEeunaNoMeraniaEelenÑeIuelaNBTaTelJreNTonnoWalÑoquienÑuZieralaNuWiJienÑeJlariZiEenJiaTaraNoNTeJDarqueNeÑraÑaMaEeunaTroZoJaJionTeroaurelianoNeRunEoNeNoMreTuNoEeinSeEiaÑoalaTerTleIiEaEEeJlaroDueNTeEeNEeDonoraloNreJienlleRaEoNBNenÑoNaloSoniJaSenÑeareSeEioNlaMellaBalareinainÑruNaenelSiNSoTeEeNÑalDaNÑalaSeEianoJDeloNWoraNÑeroNEiNWraQaEoNEeMeEuinoNTarÑiJiTaronEelEelirioBDaNÑaloenriqueJieronJonunaTiroÑeJniaNunÑuoNaBunaNZirÑuEeNaJroMaÑiJaNqueDiJieronTenNarenlaNarÑeNEeloNRiÑanoNEeTronÑoenelTaroViNSoEelaWieNÑaalRuienroSTioelEeliJaEoequiliMrioZiZaelTarÑiEoliMeralRriÑoZiZaelJoronelaurelianoMuenEialaNEeNJarRaNEeWuNileriaaDoRaroneleNTlenEorEeloNWueRoNarÑiWiJialeNBloNRriÑoNEeÑerroranularonlaSuNiJaBelIuMiloWueaniquilaEoTorelTaniJoSuJDoNaUoNEeNTueNNeRuiriaaWirSanEoNequelaRuarEiarealEelaNoMeranainÑruNaerauneNJuaEronEeleIerJiÑoreRularqueEeMaIoEeNuNriJaNJDilaMaNeNJonEianWuNileNEereRlaSenÑoelRoMiernoreJDaQoelJarRoenunManEoeVÑraorEinarioBTroSeÑiounainZeNÑiRaJionÑerSinanÑeEeleTiNoEioNanRrienÑoTerolaZerEaEnoNeeNJlareJionunJaBTreZaleJioTaraNieSTrelaZerNionEequelaRuarEiarealNinTroZoJaJionEeninRunainEoleÑoSoToNiJioneNEeJoSMaÑeaunaNeUaEeNuJoSanEanÑeBEiNTaroNinTieEaEJonÑralaSuJDeEuSMreJuanEoNereNÑaMleJiolaJalSanoqueEaMaenelTueMlounoNoloEeloNWalNoNMeEuinoNBqueEaronÑenEiEoNenlaTlaQaenÑreSuerÑoNBDeriEoNnueZeTaBaNoNJuaÑroJoloSMinaNEieJiNieÑereBeNEeMaraIaunEiaMloÑreNSuNiJoNEoNTareNEeWranJiaBÑreNeSTeraÑriJeNIaToneNaNenlaJonWuNionEelTaniJoIoNearJaEioNeRunEoloRroToneraNalZoareSeEioNlaMellaBaurelianoNeRunEolleZoenMraQoNalaJaNaalaNoMeranainÑruNaJonelÑraIeEeNRarraEoBlaJaTaEearSiUoeSMarraEaEeNanRreNellaSaMaWernanEaEelJarTiolaDaMianNeleJJionaEoJoSolaSaNDerSoNaenÑrelaNJinJoSilSuIereNSaNDerSoNaNEelTaiNBlaDaMianlleZaEoaSaJonEoJonlaTroSeNaEenoSMrarlareinaEeSaEaRaNJarurNulaNeoJuToEeellaJoSoNiWueraunaDiIaelTueMloenluRarEeTonerenEuEaNuinoJenJiaNeJoSTaEeJioEeNuJanEiEeQNeiNSeNeNEeNTueNEelaSaNaJreJuanEoNereNÑaMleJieronloNDeriEoNBNeSarJDiÑaronlaNulÑiSaNWloreNenlaWoNaJoSunaurelianoNeRunEoWueaMuNJarlaalaEiNÑanÑeJiuEaEEonEeZiZiaJonNuTaEreBNeJaNoJonellaenSaJonEoenunaWraRoroNaTarranEaEeZeinÑeEiaN\n"
     ]
    }
   ],
   "source": [
    "dic_permuta = {'A':'A', 'B':'B', 'C':'C', 'D':'D', 'E':'E', 'F':'F', 'G':'G', 'H':'H', 'I':'I', 'J':'J', \n",
    "               'K':'K', 'L':'L', 'M':'M', 'N':'N', 'Ñ':'Ñ', 'O':'O', 'P':'P', 'Q':'Q', 'R':'R', 'S':'S', \n",
    "               'T':'T', 'U':'U', 'V':'V', 'W':'W', 'X':'X', 'Y':'Y', 'Z':'Z'}\n",
    "\n",
    "dic_permuta['G'] = 'q'\n",
    "dic_permuta['C'] = 'u'\n",
    "dic_permuta['Y'] = 'e'\n",
    "\n",
    "dic_permuta['K'] = 'a'\n",
    "\n",
    "dic_permuta['A'] = 'n'\n",
    "dic_permuta['L'] = 'i'\n",
    "\n",
    "dic_permuta['P'] = 'r'\n",
    "dic_permuta['F'] = 'l'\n",
    "dic_permuta['X'] = 'o'\n",
    "\n",
    "text4_decrypt = cifra_sustitucion(text4, dic_permuta)\n",
    "print(text4_decrypt)"
   ]
  },
  {
   "cell_type": "markdown",
   "metadata": {},
   "source": [
    "<p style=\"color:blue;text-align:justify;\">Una vez situada la palabra \"QUE\", se buscan las ocurrencias de \"QU_E_\". Si encontramos una estructura de esta forma, suponemos que la palabra es \"QUIEN\" y realizamos la sustitución. Al principio del texto vemos la siguiente estructura \"auPeFianX\". Como la \"X\" encaja con la frecuencia que podría tener la \"O\" la palabra parece ser \"aureliano\", ya que tanto la \"P\" como la \"F\" tienen frecuencias que también encajan con la sustitución.</p>\n",
    "<p style=\"color:blue;text-align:justify;\">El texto, a partir de aquí, empieza a ser legible y se pueden detectar palabras para ir haciendo la sustitución y descifrar el texto.</p>"
   ]
  },
  {
   "cell_type": "code",
   "execution_count": 15,
   "metadata": {},
   "outputs": [
    {
     "name": "stdout",
     "output_type": "stream",
     "text": [
      "añosdespuesensulechodeagoniaaurelianosegundohabiaderecordarlalluviosatardedejunioenqueentroeneldormitorioaconocerasuprimerhijoaunqueeralanguidoylloronsinningunrasgodeunbuendianotuvoquepensardosvecesparaponerlenombresellamarajosearcadiodijofernandadelcarpiolahermosamujerconquiensehabiacasadoelañoanteriorestuvodeacuerdoencambioursulanopudoocultarunvagosentimientodezozobraenlalargahistoriadelafamilialatenazrepeticiondelosnombreslehabiapermitidosacarconclusionesqueleparecianterminantesmientraslosaurelianoseranretraidosperodementalidadlucidalosjosearcadioeranimpulsivosyemprendedoresperoestabanmarcadosporunsignotragicolosunicoscasosdeclasificacionimposibleeranlosdejosearcadiosegundoyaurelianosegundofuerontanparecidosytraviesosdurantelainfanciaquenilapropiasantasofiadelapiedadpodiadistinguirloseldiadelbautismoamarantalespusoesclavasconsusrespectivosnombresylosvistioconropasdecoloresdistintosmarcadasconlasinicialesdecadaunoperocuandoempezaronaasistiralaescuelaoptaronporcambiarselaropaylasesclavasyporllamarseellosmismosconlosnombrescruzadoselmaestromelchorescalonaacostumbradoaconocerajosearcadiosegundoporlacamisaverdeperdiolosestriboscuandodescubrioqueestetenialaesclavadeaurelianosegundoyqueelotrodeciallamarsesinembargoaurelianosegundoapesardequetenialacamisablancaylaesclavamarcadaconelnombredejosearcadiosegundodesdeentoncesnosesabiaconcertezaquieneraquienauncuandocrecieronylavidaloshizodiferentesursulaseguiapreguntandosesiellosmismosnohabriancometidounerrorenalgunmomentodesuintrincadojuegodeconfusionesyhabianquedadocambiadosparasiemprehastaelprincipiodelaadolescenciafuerondosmecanismossincronicosdespertabanalmismotiemposentiandeseosdeiralbañoalamismahorasufrianlosmismostrastornosdesaludyhastasonabanlasmismascosasenlacasadondesecreiaquecoordinabansusactosporelsimpledeseodeconfundirnadiesediocuentadelarealidadhastaundiaenquesantasofiadelapiedadledioaunounvasodelimonadaymastardoenprobarloqueelotroendecirquelefaltabaazucarsantasofiadelapiedadqueenefectohabiaolvidadoponerleazucaralalimonadaselocontoaursulaasisontodosdijoellasinsorpresalocosdenacimientoeltiempoacabodedesordenarlascosaselqueenlosjuegosdeconfusionsequedoconelnombredeaurelianosegundosevolviomonumentalcomoelabueloyelquesequedoconelnombredejosearcadiosegundosevolviooseocomoelcoronelylounicoqueconservaronencomunfueelairesolitariodelafamiliatalvezfueeseentrecruzamientodeestaturasnombresycaracteresloquelehizosospecharaursulaqueestabanbarajadosdesdelainfancialadiferenciadecisivasereveloenplenaguerracuandojosearcadiosegundolepidioalcoronelgerineldomarquezquelollevaraaverlosfusilamientoscontraelparecerdeursulasusdeseosfueronsatisfechosaurelianosegundoencambioseestremecioantelasolaideadepresenciarunaejecucionpreferialacasaalosdoceañoslepreguntoaursulaquehabiaenelcuartoclausuradopapeleslecontestoellasonloslibrosdemelquiadesylascosasrarasqueescribiaensusultimosañoslarespuestaenvezdetranquilizarloaumentosucuriosidadinsistiotantoprometiocontantoahinconomaltratarlascosasqueursulalediolasllavesnadiehabiavueltoaentraralcuartodesdequesacaronelcadaverdemelquiadesypusieronenlapuertaelcandadocuyaspiezassesoldaronconlaherrumbreperocuandoaurelianosegundoabriolasventanasentrounaluzfamiliarquepareciaacostumbradaailuminarelcuartotodoslosdiasynohabiaelmenorrastrodepolvootelarañasinoquetodoestababarridoylimpiomejorbarridoymaslimpioqueeldiadelentierroylatintanosehabiasecadoeneltinteronieloxidohabiaalteradoelbrillodelosmetalesnisehabiaextinguidoelrescoldodelatanordondejosearcadiobuendiavaporizoelmercurioenlosanaquelesestabanloslibrosempastadosenunamateriaacartonadaypalidacomolapielhumanacurtidayestabanlosmanuscritosintactosapesardelencierrodemuchosañoselairepareciamaspuroqueenelrestodelacasatodoeratanrecientequevariassemanasdespuescuandoursulaentroalcuartoconuncubodeaguayunaescobaparalavarlospisosnotuvonadaquehaceraurelianosegundoestabaabstraidoenlalecturadeunlibroaunquecareciadepastasyeltitulonoapareciaporningunaparteelniñogozabaconlahistoriadeunamujerquesesentabaalamesaysolocomiagranosdearrozqueprendiaconalfileresyconlahistoriadelpescadorquelepidioprestadoasuvecinounplomoparasuredyelpescadoconquelorecompensomastardeteniaundiamanteenelestomagoyconlalamparaquesatisfacialosdeseosylasalfombrasquevolabanasombradolepreguntoaursulasitodoaquelloeraverdadyellalecontentoquesiquemuchosañosanteslosgitanosllevabanamacondolaslamparasmaravillosasylasesterasvoladorasloquepasasuspiroesqueelmundosevaacabandopocoapocoyyanovienenesascosascuandoterminoellibromuchosdecuyoscuentosestabaninconclusosporquefaltabanpaginasaurelianosegundosedioalatareadedescifrarlosmanuscritosfueimposiblelasletrasparecianropapuestaasecarenunalambreyseasemejabanmasalaescrituramusicalquealaliterariaunmediodiaardientemientrasescrutabalosmanuscritossintioquenoestabasoloenelcuartocontralareverberaciondelaventanasentadoconlasmanosenlasrodillasestabamelquiadesnoteniamasdecuarentaañosllevabaelmismochalecoanacronicoyelsombrerodealasdecuervoyporsussienespalidaschorreabalagrasadelcabelloderretidaporelcalorcomolovieronaurelianoyjosearcadiocuandoeranniñosaurelianosegundoloreconociodeinmediatoporqueaquelrecuerdohereditariosehabiatransmitidodegeneracionengeneracionyhabiallegadoaeldesdelamemoriadesuabuelosaluddijoaurelianosegundosaludjovendijomelquiadesdesdeentoncesdurantevariosañossevieroncasitodaslastardesmelquiadeslehablabadelmundotratabadeinfundirlesuviejasabiduriaperosenegoatraducirlosmanuscritosnadiedebeconocersusentidomientrasnohayancumplidocienañosexplicoaurelianosegundoguardoparasiempreelsecretodeaquellasentrevistasenunaocasionsintioquesumundoprivadosederrumbabaporqueursulaentroenelmomentoenquemelquiadesestabaenelcuartoperoellanolovioconquienhablaslepreguntoconnadiedijoaurelianosegundoasieratubisabuelodijoursulatambienelhablabasolojosearcadiosegundomientrastantohabiasatisfecholailusiondeverunfusilamientoporelrestodesuvidarecordariaelfogonazolividodelosseisdisparossimultaneosyelecodelestampidoquesedespedazoporlosmontesylasonrisatristeylosojosperplejosdelfusiladoquepermanecioerguidomientraslacamisaseleempapabadesangreyqueseguiasonriendoauncuandolodesatarondelposteylometieronenuncajonllenodecalestavivopensoellovanaenterrarvivoseimpresionotantoquedesdeentoncesdetestolaspracticasmilitaresylaguerranoporlasejecucionessinoporlaespantosacostumbredeenterrarvivosalosfusiladosnadiesupoentoncesenquemomentoempezoatocarlascampanasenlatorreyaayudarleamisaalpadreantonioisabelsucesordeelcachorroyacuidargallosdepeleaenelpatiodelacasacuralcuandoelcoronelgerineldomarquezseenteroloreprendioduramenteporestaraprendiendooficiosrepudiadosporlosliberaleslacuestioncontestoelesqueamimeparecequehesalidoconservadorlocreiacomosifueraunadeterminaciondelafatalidadelcoronelgerineldomarquezescandalizadoselocontoaursulamejoraproboellaojalasemetadecuraparaquediosentreporfinaestacasamuyprontosesupoqueelpadreantonioisabelloestabapreparandoparalaprimeracomunionleenseñabaelcatecismomientrasleafeitabaelpescuezoalosgallosleexplicabaconejemplossimplesmientrasponianensusnidosalasgallinascluecascomoseleocurrioadiosenelsegundodiadelacreacionquelospollosseformarandentrodelhuevodesdeentoncesmanifestabaelparrocolosprimerossintomasdeldeliriosenilquelollevoadecirañosmastardequeprobablementeeldiablohabiaganadolarebelioncontradiosyqueeraaquelquienestabasentadoeneltronocelestesinrevelarsuverdaderaidentidadparaatraparalosincautosfogueadoporlaintrepidezdesupreceptorjosearcadiosegundollegoenpocosmesesasertanduchoenmartingalasteologicasparaconfundiraldemoniocomodiestroenlastrampasdelagalleraamarantalehizountrajedelinoconcuelloycorbatalecomprounpardezapatosblancosygrabosunombreconletrasdoradasenellazodelsiriodosnochesantesdelaprimeracomunionelpadreantonioisabelseencerroconelenlasacristiaparaconfesarloconlaayudadeundiccionariodepecadosfueunalistatanlargaqueelancianoparrocoacostumbradoaacostarsealasseissequedodormidoenelsillonantesdeterminarelinterrogatoriofueparajosearcadiosegundounarevelacionnolesorprendioqueelpadrelepreguntarasihabiahechocosasmalasconmujerycontestohonradamentequenoperosedesconcertoconlapreguntadesilashabiahechoconanimaleselprimerviernesdemayocomulgotorturadoporlacuriosidadmastardelehizolapreguntaapetronioelenfermosacristanqueviviaenlatorreyquesegundeciansealimentabademurcielagosypetronioleconstoesquehaycristianoscorrompidosquehacensuscosasconlasburrasjosearcadiosegundosiguiodemostrandotantacuriosidadpidiotantasexplicacionesquepetronioperdiolapacienciayovoylosmartesenlanocheconfesosiprometesnodecirseloanadieelotromartestellevoelmartessiguienteenefectopetroniobajodelatorreconunbanquitodemaderaquenadiesupohastaentoncesparaqueserviayllevoajosearcadiosegundoaunahuertacercanaelmuchachoseaficionotantoaaquellasincursionesnocturnasquepasomuchotiempoantesdequeselevieraenlatiendadecatarinosehizohombredegallostellevasesosanimalesaotraparteleordenoursulalaprimeravezquelovioentrarconsusfinosanimalesdepeleayalosgalloshantraidodemasiadasamargurasaestacasaparaqueahoravengastuatraernosotrasjosearcadiosegundoselosllevosindiscusionperosiguiocriandolosdondepilarternerasuabuelaquepusoasudisposicioncuantolehaciafaltaacambiodetenerloenlacasaprontodemostroenlagalleralasabiduriaqueleinfundioelpadreantonioisabelydispusodesuficientedineronosoloparaenriquecersuscriassinoparaprocurarsesatisfaccionesdehombreursulalocomparabaenaqueltiempoconsuhermanoynopodiaentendercomolosdosgemelosqueparecieronunasolapersonaenlainfanciahabianterminadoporsertandistintoslaperplejidadnoleduromuchotiempoporquemuyprontoempezoaurelianosegundoadarmuestrasdeholgazaneriaydisipacionmientrasestuvoencerradoenelcuartodemelquiadesfueunhombreensimismadocomolofueelcoronelaurelianobuendiaensujuventudperopocoantesdeltratadodeneerlandiaunacasualidadlosacodesuensimismamientoyloenfrentoalarealidaddelmundounamujerjovenqueandabavendiendonumerosparalarifadeunacordeonlosaludoconmuchafamiliaridadaurelianosegundonosesorprendioporqueocurriaconfrecuenciaqueloconfundieranconsuhermanoperonoaclaroelequivoconisiquieracuandolamuchachatratodeablandarleelcorazonconlloriqueosyterminoporllevarloasucuartoletomotantocariñodesdeaquelprimerencuentroquehizotrampasenlarifaparaqueelseganaraelacordeonalcabodedossemanasaurelianosegundosediocuentadequelamujersehabiaestadoacostandoalternativamenteconelyconsuhermanocreyendoqueeranelmismohombreyenvezdeaclararlasituacionselasarregloparaprolongarlanovolvioalcuartodemelquiadespasabalastardesenelpatioaprendiendoatocardeoidaselacordeoncontralasprotestasdeursulaqueenaqueltiempohabiaprohibidolamusicaenlacasaacausadeloslutosyqueademasmenospreciabaelacordeoncomouninstrumentopropiodelosvagabundosherederosdefranciscoelhombresinembargoaurelianosegundollegoaserunvirtuosodelacordeonysiguiosiendolodespuesdequesecasoytuvohijosyfueunodeloshombresmasrespetadosdemacondodurantecasidosmesescompartiolamujerconsuhermanolovigilabaledescomponialosplanesycuandoestabasegurodequejosearcadiosegundonovisitariaesanochelaamantecomunseibaadormirconellaunamañanadescubrioqueestabaenfermodosdiasdespuesencontroasuhermanoaferradoaunavigadelbañoempapadoensudoryllorandoalagrimavivayentoncescomprendiosuhermanoleconfesoquelamujerlohabiarepudiadoporllevarleloqueellallamabaunaenfermedaddelamalavidalecontotambiencomotratabadecurarlopilarterneraaurelianosegundosesometioaescondidasalosardienteslavadosdepermanganatoylasaguasdiureticasyambossecuraronporseparadodespuesdetresmesesdesufrimientossecretosjosearcadiosegundonovolvioaveralamujeraurelianosegundoobtuvosuperdonysequedoconellahastalamuertesellamabapetracoteshabiallegadoamacondoenplenaguerraconunmaridoocasionalqueviviadelasrifasycuandoelhombremurioellasiguioconelnegocioeraunamulatalimpiayjovenconunosojosamarillosyalmendradosqueledabanasurostrolaferocidaddeunapanteraperoteniauncorazongenerosoyunamagnificavocacionparaelamorcuandoursulasediocuentadequejosearcadiosegundoeragalleroyaurelianosegundotocabaelacordeonenlasfiestasruidosasdesuconcubinacreyoenloquecerdeconfusioneracomosienambossehubieranconcentradolosdefectosdelafamiliayningunadesusvirtudesentoncesdecidioquenadievolvieraallamarseaurelianoyjosearcadiosinembargocuandoaurelianosegundotuvosuprimerhijonoseatrevioacontrariarlodeacuerdodijoursulaperoconunacondicionyomeencargodecriarloaunqueyaeracentenariayestabaapuntodequedarseciegaporlascataratasconservabaintactoseldinamismofisicolaintegridaddelcaracteryelequilibriomentalnadiemejorqueellaparaformaralhombrevirtuosoquehabiaderestaurarelprestigiodelafamiliaunhombrequenuncahubieraoidohablardelaguerralosgallosdepelealasmujeresdemalavidaylasempresasdelirantescuatrocalamidadesquesegunpensabaursulahabiandeterminadoladecadenciadesuestirpeesteseracuraprometiosolemnementeysidiosmedavidahadellegaraserpapatodosrieronaloirlanosoloeneldormitoriosinoentodalacasadondeestabanreunidoslosbulliciososamigotesdeaurelianosegundolaguerrarelegadaaldesvandelosmalosrecuerdosfuemomentaneamenteevocadaconlostaponazosdelchampañaalasaluddelpapabrindoaurelianosegundolosinvitadosbrindaronacoroluegoeldueñodecasatocoelacordeonsereventaroncohetesyseordenarontamboresdejubiloparaelpuebloenlamadrugadalosinvitadosensopadosenchampañasacrificaronseisvacasylaspusieronenlacalleadisposiciondelamuchedumbrenadieseescandalizodesdequeaurelianosegundosehizocargodelacasaaquellasfestividadeserancosacorrienteaunquenoexistieraunmotivotanjustocomoelnacimientodeunpapaenpocosañossinesfuerzosapurosgolpesdesuertehabiaacumuladounadelasmasgrandesfortunasdelacienagagraciasalaproliferacionsobrenaturaldesusanimalessusyeguaspariantrillizoslasgallinasponiandosvecesaldiayloscerdosengordabancontaldesenfrenoquenadiepodiaexplicarsetandesordenadafecundidadcomonofueraporartesdemagiaeconomizaahoraledeciaursulaasuatolondradobisnietoestasuertenotevaadurartodalavidaperoaurelianosegundonoleponiaatencionmientrasmasdestapabachampañaparaensoparasusamigosmasalocadamentepariansusanimalesymasseconvenciaeldequesubuenaestrellanoeracosadesuconductasinoinfluenciadepetracotessuconcubinacuyoamortenialavirtuddeexasperaralanaturalezatanpersuadidoestabadequeeraeseelorigendesufortunaquenuncatuvoapetracoteslejosdesuscriasyauncuandosecasoytuvohijossiguioviviendoconellaconelconsentimientodefernandasolidomonumentalcomosusabuelosperoconungozovitalyunasimpatiairresistiblequeellosnotuvieronaurelianosegundoapenassiteniatiempodevigilarsusganadoslebastabaconllevarapetracotesasuscriaderosypasearlaacaballoporsustierrasparaquetodoanimalmarcadoconsuhierrosucumbieraalapesteirremediabledelaproliferacioncomotodaslascosasbuenasquelesocurrieronensulargavidaaquellafortunadesmandadatuvoorigenenlacasualidadhastaelfinaldelasguerraspetracotesseguiasosteniendoseconelproductodesusrifasyaurelianosegundoselasarreglabaparasaqueardevezencuandolasalcanciasdeursulaformabanunaparejafrivolasinmaspreocupacionesqueladeacostarsetodaslasnochesaunenlasfechasprohibidasyretozarenlacamahastaelamaneceresamujerhasidotuperdicionlegritabaursulaalbisnietocuandoloveiaentraralacasacomounsonambulotetienetanembobadoqueundiadeestostevereretorciendotedecolicosconunsapometidoenlabarrigajosearcadiosegundoquedemoromuchotiempoparadescubrirlasuplantacionnolograbaentenderlapasiondesuhermanorecordabaapetracotescomounamujerconvencionalmasbienperezosaenlacamaycompletamentedesprovistaderecursosparaelamorsordoalclamordeursulayalasburlasdesuhermanoaurelianosegundosolopensabaentoncesenencontrarunoficioquelepermitierasostenerunacasaparapetracotesymorirseconellasobreellaydebajodeellaenunanochededesafuerofebrilcuandoelcoronelaurelianobuendiavolvioaabrireltallerseducidoalfinporlosencantospacificosdelavejezaurelianosegundopensoqueseriaunbuennegociodedicarsealafabricaciondepescaditosdeoropasomuchashorasenelcuartitocalurosoviendocomolasduraslaminasdemetaltrabajadasporelcoronelconlapacienciainconcebibledeldesengañoseibanconvirtiendopocoapocoenescamasdoradaseloficiolepareciotanlaboriosoyeratanpersistenteyapremianteelrecuerdodepetracotesquealcabodetressemanasdesapareciodeltallerfueenesaepocaqueledioapetracotesporrifarconejossereproducianysevolvianadultoscontantarapidezqueapenasdabantiempoparavenderlosnumerosdelarifaalprincipioaurelianosegundonoadvirtiolasalarmantesproporcionesdelaproliferacionperounanochecuandoyanadieenelpuebloqueriaoirhablardelasrifasdeconejossintiounestruendoenlapareddelpationoteasustesdijopetracotessonlosconejosnopudierondormirmasatormentadosporeltrafagodelosanimalesalamaneceraurelianosegundoabriolapuertayvioelpatioempedradodeconejosazulesenelresplandordelalbapetracotesmuertaderisanoresistiolatentaciondehacerleunabromaestossonlosquenacieronanochedijoquehorrordijoelporquenopruebasconvacaspocosdiasdespuestratandodedesahogarsupatiopetracotescambiolosconejosporunavacaquedosmesesmastardepariotrillizosasiempezaronlascosasdelanochealamañanaaurelianosegundosehizodueñodetierrasyganadosyapenassiteniatiempodeensancharlascaballerizasypocilgasdesbordadaseraunaprosperidaddedelirioqueaelmismolecausabarisaynopodiamenosqueasumiractitudesextravagantesparadescargarsubuenhumorapartensevacasquelavidaescortagritabaursulasepreguntabaenqueenredossehabiametidosinoestariarobandosinohabiaterminadoporvolversecuatreroycadavezqueloveiadestapandochampañaporelpuroplacerdeecharselaespumaenlacabezalereprochabaagritoseldesperdiciolomolestotantoqueundiaenqueaurelianosegundoamanecioconelhumorrebosadoaparecioconuncajondedinerounalatadeengrudoyunabrochaycantandoavozencuellolasviejascancionesdefranciscoelhombreempapelolacasapordentroyporfueraydearribaabajoconbilletesdeapesolaantiguamansionpintadadeblancodesdelostiemposenquellevaronlapianolaadquirioelaspectoequivocodeunamezquitaenmediodelalborotodelafamiliadelescandalodeursuladeljubilodelpuebloqueabarrotolacalleparapresenciarlaglorificaciondeldespilfarroaurelianosegundoterminoporempapelardesdelafachadahastalacocinainclusivelosbañosydormitoriosyarrojolosbilletessobrantesenelpatioahoradijofinalmenteesperoquenadieenestacasamevuelvaahablardeplataasifueursulahizoquitarlosbilletesadheridosalasgrandestortasdecalyvolvioapintarlacasadeblancodiosmiosuplicabahaznostanpobrescomoeramoscuandofundamosestepueblonoseaqueenlaotravidanosvayasacobrarestadilapidacionsussuplicasfueronescuchadasensentidocontrarioenefectounodelostrabajadoresquedesprendialosbilletestropezopordescuidoconunenormesanjosedeyesoquealguienhabiadejadoenlacasaenlosultimosañosdelaguerraylaimagenhuecasedespedazocontraelsueloestabaatiborradademonedasdeoronadierecordabaquienhabiallevadoaquelsantodetamañonaturallotrajerontreshombresexplicoamarantamepidieronqueloguardaramosmientraspasabalalluviayyolesdijequelopusieranahienelrincondondenadiefueraatropezarconelyahilopusieronconmuchocuidadoyahihaestadodesdeentoncesporquenuncavolvieronabuscarloenlosultimostiemposursulalehabiapuestovelasysehabiapostradoanteelsinsospecharqueenlugardeunsantoestabaadorandocasidoscientoskilogramosdeorolatardiacomprobaciondesuinvoluntariopaganismoagravosudesconsueloescupioelespectacularmontondemonedaslometioentressacosdelonayloenterroenunlugarsecretoenesperadequetardeotempranolostresdesconocidosfueranareclamariamuchodespuesenlosañosdificilesdesudecrepitudursulasoliaintervenirenlasconversacionesdelosnumerososviajerosqueentoncespasabanporlacasaylespreguntabasidurantelaguerranohabiandejadoalliunsanjosedeyesoparaqueloguardaranmientraspasabalalluviaestascosasquetantoconsternabanaursulaerancorrientesenaqueltiempomacondonaufragabaenunaprosperidaddemilagrolascasasdebarroycañabravadelosfundadoreshabiansidoreemplazadasporconstruccionesdeladrilloconpersianasdemaderaypisosdecementoquehacianmasllevaderoelcalorsofocantedelasdosdelatardedelaantiguaaldeadejosearcadiobuendiasoloquedabanentonceslosalmendrospolvorientosdestinadosaresistiralascircunstanciasmasarduasyelriodeaguasdiafanascuyaspiedrasprehistoricasfueronpulverizadasporlasenloquecidasalmadenasdejosearcadiosegundocuandoseempeñoendespejarelcauceparaestablecerunserviciodenavegacionfueunsueñodelirantecomparableapenasalosdesubisabueloporqueellechopedregosoylosnumerosostropiezosdelacorrienteimpedianeltransitodesdemacondohastaelmarperojosearcadiosegundoenunimprevistoarranquedetemeridadseempecinoenelproyectohastaentoncesnohabiadadoningunamuestradeimaginacionsalvosuprecariaaventuraconpetracotesnuncaselehabiaconocidomujerursulaloteniacomoelejemplarmasapagadoquehabiadadolafamiliaentodasuhistoriaincapazdedestacarsenisiquieracomoalborotadordegallerascuandoelcoronelaurelianobuendialecontolahistoriadelgaleonespañolencalladoadocekilometrosdelmarcuyocostillarcarbonizadovioelmismodurantelaguerraelrelatoqueatantagentedurantetantotiempolepareciofantasticofueunarevelacionparajosearcadiosegundorematosusgallosalmejorpostorreclutohombresycomproherramientasyseempeñoenladescomunalempresaderomperpiedrasexcavarcanalesdespejarescollosyhastaemparejarcataratasyaestomelosedememoriagritabaursulaescomosieltiempodieravueltasenredondoyhubieramosvueltoalprincipiocuandoestimoqueelrioeranavegablejosearcadiosegundohizoasuhermanounaexposicionpormenorizadadesusplanesyesteledioeldineroquelehaciafaltaparasuempresadesapareciopormuchotiemposehabiadichoquesuproyectodecomprarunbarconoeramasqueunatriquiñuelaparaalzarseconeldinerodelhermanocuandosedivulgolanoticiadequeunaextrañanaveseaproximabaalpuebloloshabitantesdemacondoqueyanorecordabanlasempresascolosalesdejosearcadiobuendiaseprecipitaronalariberayvieronconojospasmadosdeincredulidadlallegadadelprimeryultimobarcoqueatracojamasenelpueblonoeramasqueunabalsadetroncosarrastradamediantegruesoscablesporveintehombresquecaminabanporlariberaenlaproaconunbrillodesatisfaccionenlamiradajosearcadiosegundodirigialadispendiosamaniobrajuntoconelllegabaungrupodematronasesplendidasqueseprotegiandelsolabrasanteconvistosassombrillasytenianenloshombrospreciosospañolonesdesedayunguentosdecoloresenelrostrofloresnaturalesenelcabelloyserpientesdeoroenlosbrazosydiamantesenlosdienteslabalsadetroncosfueelunicovehiculoquejosearcadiosegundopudoremontarhastamacondoysoloporunavezperonuncareconocioelfracasodesuempresasinoqueproclamosuhazañacomounavictoriadelavoluntadrindiocuentasescrupulosasasuhermanoymuyprontovolvioahundirseenlarutinadelosgalloslounicoquequedodeaquelladesventuradainiciativafueelsoploderenovacionquellevaronlasmatronasdefranciacuyasartesmagnificascambiaronlosmetodostradicionalesdelamorycuyosentidodelbienestarsocialarrasoconlaanticuadatiendadecatarinoytransformolacalleenunbazardefarolitosjaponesesyorganillosnostalgicosfueronellaslaspromotorasdelcarnavalsangrientoquedurantetresdiashundioamacondoeneldelirioycuyaunicaconsecuenciaperdurablefuehaberledadoaaurelianosegundolaoportunidaddeconocerafernandadelcarpioremedioslabellafueproclamadareinaursulaqueseestremeciaantelabellezainquietantedelabisnietanopudoimpedirlaeleccionhastaentonceshabiaconseguidoquenosalieraalacallecomonofueraparairamisaconamarantaperolaobligabaacubrirselacaraconunamantillanegraloshombresmenospiadososlosquesedisfrazabandecurasparadecirmisassacrilegasenlatiendadecatarinoasistianalaiglesiaconelunicopropositodeveraunquefuerauninstanteelrostroderemedioslabelladecuyahermosuralegendariasehablabaconunfervorsobrecogidoentodoelambitodelacienagapasomuchotiempoantesdequeloconsiguieranymasleshubieravalidoquelaocasionnollegaranuncaporquelamayoriadeellosnopudorecuperarjamaslaplacidezdelsueñoelhombrequelohizoposibleunforasteroperdioparasiemprelaserenidadseenredoenlostremedalesdelaabyeccionylamiseriayañosdespuesfuedespedazadoporuntrennocturnocuandosequedodormidosobrelosrielesdesdeelmomentoenqueselevioenlaiglesiaconunvestidodepanaverdeyunchalecobordadonadiepusoendudaqueibadesdemuylejostalvezdeunaremotaciudaddelexterioratraidoporlafascinacionmagicaderemedioslabellaeratanhermosotangallardoyreposadodeunaprestanciatanbienllevadaquepietrocrespijuntoaelhabriaparecidounsietemesinoymuchasmujeresmurmuraronentresonrisasdedespechoqueeraelquienverdaderamentemerecialamantillanoalternoconnadieenmacondoapareciaalamanecerdeldomingocomounprincipedecuentoenuncaballoconestribosdeplataygualdrapasdeterciopeloyabandonabaelpueblodespuesdelamisaeratalelpoderdesupresenciaquedesdelaprimeravezqueselevioenlaiglesiatodoelmundodioporsentadoqueentreelyremedioslabellasehabiaestablecidounduelocalladoytensounpactosecretoundesafioirrevocablecuyaculminacionnopodiasersolamenteelamorsinotambienlamuerteelsextodomingoelcaballeroaparecioconunarosaamarillaenlamanooyolamisadepiecomolohaciasiempreyalfinalseinterpusoalpasoderemedioslabellayleofreciolarosasolitariaellalarecibioconungestonaturalcomosihubieraestadopreparadaparaaquelhomenajeyentoncessedescubrioelrostroporuninstanteydiolasgraciasconunasonrisafuetodocuantohizoperonosoloparaelcaballerosinoparatodosloshombresquetuvieroneldesdichadoprivilegiodevivirloaquelfueuninstanteeternoelcaballeroinstalabadesdeentonceslabandademusicajuntoalaventanaderemedioslabellayaveceshastaelamaneceraurelianosegundofueelunicoquesintioporelunacompasioncordialytratodequebrantarsuperseverancianopierdamaseltiempoledijounanochelasmujeresdeestacasasonpeoresquelasmulasleofreciosuamistadloinvitoabañarseenchampañatratodehacerleentenderquelashembrasdesufamiliatenianentrañasdepedernalperonoconsiguiovulnerarsuobstinacionexasperadoporlasinterminablesnochesdemusicaelcoronelaurelianobuendialoamenazoconcurarlelaafliccionapistoletazosnadalohizodesistirsalvosupropioylamentableestadodedesmoralizaciondeapuestoeimpecablesehizovilyharapientoserumorabaquehabiaabandonadopoderyfortunaensulejananacionaunqueenverdadnoseconocionuncasuorigensevolviohombredepleitospendencierodecantinayamaneciorevolcadoensuspropiasexcrecenciasenlatiendadecatarinolomastristedesudramaeraqueremedioslabellanosefijoenelnisiquieracuandosepresentabaalaiglesiavestidodeprinciperecibiolarosaamarillasinlamenormaliciamasbiendivertidaporlaextravaganciadelgestoyselevantolamantillaparaverlemejorlacaraynoparamostrarlelasuyaenrealidadremedioslabellanoeraunserdeestemundohastamuyavanzadalapubertadsantasofiadelapiedadtuvoquebañarlayponerlelaropayauncuandopudovalerseporsimismahabiaquevigilarlaparaquenopintaraanimalitosenlasparedesconunavaritaembadurnadadesupropiacacallegoalosveinteañossinaprenderaleeryescribirsinservirsedeloscubiertosenlamesapaseandosedesnudaporlacasaporquesunaturalezaseresistiaacualquierclasedeconvencionalismoscuandoeljovencomandantedelaguardialedeclarosuamorlorechazosencillamenteporquelaasombrofrivolidadfijatequesimpleesledijoaamarantadicequeseestamuriendopormicomosiyofuerauncolicomisererecuandoenefectoloencontraronmuertojuntoasuventanaremedioslabellaconfirmosuimpresioninicialyavencomentoeracompletamentesimplepareciacomosiunalucidezpenetrantelepermitieraverlarealidaddelascosasmasalladecualquierformalismoeseeraalmenoselpuntodevistadelcoronelaurelianobuendiaparaquienremedioslabellanoeraenmodoalgunoretrasadamentalcomosecreiasinotodolocontrarioescomosivinieraderegresodeveinteañosdeguerrasoliadecirursulaporsuparteleagradeciaadiosquehubierapremiadoalafamiliaconunacriaturadeunapurezaexcepcionalperoalmismotiempolaconturbabasuhermosuraporquelepareciaunavirtudcontradictoriaunatrampadiabolicaenelcentrodelacandidezfueporesoquedecidioapartarladelmundopreservarladetodatentacionterrenalsinsaberqueremedioslabellayadesdeelvientredesumadreestabaasalvodecualquiercontagionuncalepasoporlacabezalaideadequelaeligieranreinadelabellezaenelpandemoniumdeuncarnavalperoaurelianosegundoembulladoconlaventoleradedisfrazarsedetigrellevoalpadreantonioisabelalacasaparaqueconvencieraaursuladequeelcarnavalnoeraunafiestapaganacomoelladeciasinounatradicioncatolicafinalmenteconvencidaaunquearegañadientesdioelconsentimientoparalacoronacionlanoticiadequeremediosbuendiaibaaserlasoberanadelfestivalrebasoenpocashorasloslimitesdelacienagallegohastalejanosterritoriosdondeseignorabaelinmensoprestigiodesubellezaysuscitolainquietuddequienestodaviaconsiderabansuapellidocomounsimbolodelasubversioneraunainquietudinfundadasialguienresultabainofensivoenaqueltiempoeraelenvejecidoydesencantadocoronelaurelianobuendiaquepocoapocohabiaidoperdiendotodocontactoconlarealidaddelanacionencerradoensutallersuunicarelacionconelrestodelmundoeraelcomerciodepescaditosdeorounodelosantiguossoldadosquevigilaronsucasaenlosprimerosdiasdelapazibaavenderlosalaspoblacionesdelacienagayregresabacargadodemonedasydenoticiasqueelgobiernoconservadordeciaconelapoyodelosliberalesestabareformandoelcalendarioparaquecadapresidenteestuvieracienañosenelpoderqueporfinsehabiafirmadoelconcordatoconlasantasedeyquehabiavenidodesderomauncardenalconunacoronadediamantesyenuntronodeoromacizoyquelosministrosliberalessehabianhechoretratarderodillasenelactodebesarleelanilloquelacoristaprincipaldeunacompañiaespañoladepasoporlacapitalhabiasidosecuestradaensucamerinoporungrupodeenmascaradosyeldomingosiguientehabiabailadodesnudaenlacasadeveranodelpresidentedelarepublicanomehablesdepoliticaledeciaelcoronelnuestroasuntoesvenderpescaditoselrumorpublicodequenoqueriasabernadadelasituaciondelpaisporqueseestabaenriqueciendoconsutallerprovocolasrisasdeursulacuandollegoasusoidosconsuterriblesentidopracticoellanopodiaentenderelnegociodelcoronelquecambiabalospescaditospormonedasdeoroyluegoconvertialasmonedasdeoroenpescaditosyasisucesivamentedemodoqueteniaquetrabajarcadavezmasamedidaquemasvendiaparasatisfaceruncirculoviciosoexasperanteenverdadloqueleinteresabaaelnoeraelnegociosinoeltrabajolehaciafaltatantaconcentracionparaengarzarescamasincrustarminusculosrubiesenlosojoslaminaragallasymontartimonesquenolequedabaunsolovacioparallenarloconladesilusiondelaguerratanabsorbenteeralaatencionqueleexigiaelpreciosismodesuartesaniaqueenpocotiempoenvejeciomasqueentodoslosañosdeguerraylaposicionletorciolaespinadorsalylamilimetrialedesgastolavistaperolaconcentracionimplacablelopremioconlapazdelespiritulaultimavezqueselevioatenderalgunasuntorelacionadoconlaguerrafuecuandoungrupodeveteranosdeambospartidossolicitosuapoyoparalaaprobaciondelaspensionesvitaliciassiempreprometidasysiempreenelpuntodepartidaolvidensedeesolesdijoelyavenqueyorechacemipensionparaquitarmelatorturadeestariaesperandohastalamuertealprincipioelcoronelgerineldomarquezlovisitabaalatardeceryambossesentabanenlapuertadelacalleaevocarelpasadoperoamarantanopudosoportarlosrecuerdosquelesuscitabaaquelhombrecansadocuyacalvicieloprecipitabaalabismodeunaancianidadprematurayloatormentocondesairesinjustoshastaquenovolviosinoenocasionesespecialesydesapareciofinalmenteanuladoporlaparalisistaciturnosilenciosoinsensiblealnuevosoplodevitalidadqueestremecialacasaelcoronelaurelianobuendiaapenassicomprendioqueelsecretodeunabuenavejeznoesotracosaqueunpactohonradoconlasoledadselevantabaalascincodespuesdeunsueñosuperficialtomabaenlacocinasueternotazondecafeamargoseencerrabatodoeldiaeneltalleryalascuatrodelatardepasabaporelcorredorarrastrandountaburetesinfijarsesiquieraenelincendiodelosrosalesnienelbrillodelahoranienlaimpavidezdeamarantacuyamelancoliahaciaunruidodemarmitaperfectamenteperceptiblealatardecerysesentabaenlapuertadelacallehastaqueselopermitianlosmosquitosalguienseatrevioalgunavezaperturbarsusoledadcomoestacoronelledijoalpasaraquicontestoelesperandoquepasemientierrodemodoquelainquietudcausadaporlareaparicionpublicadesuapellidoapropositodelreinadoderemedioslabellacareciadefundamentorealmuchossinembargonolocreyeronasiinocentedelatragediaqueloamenazabaelpueblosedesbordoenlaplazapublicaenunabulliciosaexplosiondealegriaelcarnavalhabiaalcanzadosumasaltoniveldelocuraaurelianosegundohabiasatisfechoporfinsusueñodedisfrazarsedetigreyandabafelizentrelamuchedumbredesaforadaroncodetantoroncarcuandoaparecioporelcaminodelacienagaunacomparsamultitudinariallevandoenandasdoradasalamujermasfascinantequehubierapodidoconcebirlaimaginacionporunmomentolospacificoshabitantesdemacondosequitaronlasmascarasparavermejorladeslumbrantecriaturaconcoronadeesmeraldasycapadearmiñoquepareciainvestidadeunaautoridadlegitimaynosimplementedeunasoberaniadelentejuelasypapelcresponnofaltoquientuvieralasuficienteclarividenciaparasospecharquesetratabadeunaprovocacionperoaurelianosegundosesobrepusodeinmediatoalaperplejidaddeclarohuespedesdehonoralosrecienllegadosysentosalomonicamentearemedioslabellayalareinaintrusaenelmismopedestalhastalamedianochelosforasterosdisfrazadosdebeduinosparticiparondeldelirioyhastaloenriquecieronconunapirotecniasuntuosayunasvirtudesacrobaticasquehicieronpensarenlasartesdelosgitanosdeprontoenelparoxismodelafiestaalguienrompioeldelicadoequilibriovivaelpartidoliberalgritovivaelcoronelaurelianobuendialasdescargasdefusileriaahogaronelesplendordelosfuegosartificialesylosgritosdeterroranularonlamusicayeljubilofueaniquiladoporelpanicomuchosañosdespuesseguiriaafirmandosequelaguardiarealdelasoberanaintrusaeraunescuadrondelejercitoregularquedebajodesusricaschilabasescondianfusilesdereglamentoelgobiernorechazoelcargoenunbandoextraordinarioyprometiounainvestigacionterminantedelepisodiosangrientoperolaverdadnoseesclarecionuncayprevalecioparasiemprelaversiondequelaguardiarealsinprovocaciondeningunaindoletomoposicionesdecombateaunaseñadesucomandanteydisparosinpiedadcontralamuchedumbrecuandoserestableciolacalmanoquedabaenelpueblounosolodelosfalsosbeduinosyquedarontendidosenlaplazaentremuertosyheridosnuevepayasoscuatrocolombinasdiecisietereyesdebarajaundiablotresmusicosdosparesdefranciaytresemperatricesjaponesasenlaconfusiondelpanicojosearcadiosegundologroponerasalvoaremedioslabellayaurelianosegundollevoenbrazosalacasaalasoberanaintrusaconeltrajedesgarradoylacapadearmiñoembarradadesangresellamabafernandadelcarpiolahabianseleccionadocomolamashermosaentrelascincomilmujeresmashermosasdelpaisylahabianllevadoamacondoconlapromesadenombrarlareinademadagascarursulaseocupodeellacomosifueraunahijaelpuebloenlugardeponerendudasuinocenciasecompadeciodesucandidezseismesesdespuesdelamasacrecuandoserestablecieronlosheridosysemarchitaronlasultimasfloresenlafosacomunaurelianosegundofueabuscarlaaladistanteciudaddondeviviaconsupadreysecasoconellaenmacondoenunafragorosaparrandadeveintedias\n"
     ]
    }
   ],
   "source": [
    "dic_permuta = {'A':'n', 'B':'y', 'C':'u', 'D':'h', 'E':'d', 'F':'l', 'G':'q', 'H':'k', 'I':'j', 'J':'c', \n",
    "               'K':'a', 'L':'i', 'M':'b', 'N':'s', 'Ñ':'t', 'O':'w', 'P':'r', 'Q':'z', 'R':'g', 'S':'m', \n",
    "               'T':'p', 'U':'ñ', 'V':'x', 'W':'f', 'X':'o', 'Y':'e', 'Z':'v'}\n",
    "\n",
    "text4_decrypt = cifra_sustitucion(text4, dic_permuta)\n",
    "print(text4_decrypt)"
   ]
  },
  {
   "cell_type": "markdown",
   "metadata": {},
   "source": [
    "<p style=\"color:blue;text-align:justify;\">El texto pertenece a \"Cien Años de Soledad\", libro de Gabriel García Márquez.</p>"
   ]
  }
 ],
 "metadata": {
  "kernelspec": {
   "display_name": "Python 3",
   "language": "python",
   "name": "python3"
  },
  "language_info": {
   "codemirror_mode": {
    "name": "ipython",
    "version": 3
   },
   "file_extension": ".py",
   "mimetype": "text/x-python",
   "name": "python",
   "nbconvert_exporter": "python",
   "pygments_lexer": "ipython3",
   "version": "3.7.1"
  }
 },
 "nbformat": 4,
 "nbformat_minor": 2
}
