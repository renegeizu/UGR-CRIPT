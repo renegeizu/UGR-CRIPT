{
 "cells": [
  {
   "cell_type": "markdown",
   "metadata": {},
   "source": [
    "# Cuaderno Jupyter"
   ]
  },
  {
   "cell_type": "markdown",
   "metadata": {},
   "source": [
    "<p>Jupyter es una aplicación web de código abierto que ha sido desarrollada utilizando lenguaje HTML. Con esto se ha conseguido que los usuarios podamos crear, compartir y editar documentos en los que se puede ejecutar código Python en nuestro navegador. También podremos hacer anotaciones, insertar ecuaciones, visualizar resultados y documentar funcionalidades.</p>\n",
    "<p>Si con anterioridad hemos instalado Anaconda Distribution ya tendremos instalado Jupyter Notebook. Por lo que podremos ejecutarlo desde la terminal (Ctrl+Alt+T) escribiendo:</p>\n",
    "<br>\n",
    "<code style=\"margin-left:23px\">jupyter-notebook</code>\n",
    "<p>En caso de que no querer instalar Anaconda Distribution tendremos la opción de poder instalar Jupyter Notebook utilizando pip de Python. Para ello, solo tendremos que abrir una terminal (Ctrl+Alt+T) y ejecutar el siguiente comando:</p>\n",
    "<br>\n",
    "<code style=\"margin-left:23px\">pip install notebook</code>\n",
    "<p>Una vez terminada la instalación, ya podremos lanzar el programa utilizando el siguiente comando en la misma terminal:</p>\n",
    "<br>\n",
    "<code style=\"margin-left:23px\">jupyter-notebook</code>\n",
    "<p>Sólo queda importar el archivo con extensión \".ipynb\" y podra ser modificado y ejecutado el código que contiene. La forma más rápida y cómoda, y que evita errores, es seleccionar en el menú superior \"Kernel\" la opción \"Restart & Run All\"</p>"
   ]
  },
  {
   "cell_type": "markdown",
   "metadata": {},
   "source": [
    "# Practica 01 - Primalidad"
   ]
  },
  {
   "cell_type": "code",
   "execution_count": 1,
   "metadata": {},
   "outputs": [],
   "source": [
    "import time\n",
    "from random import randint\n",
    "\n",
    "def potenciaModular(base, exponente, modulo):\n",
    "    aux = 1\n",
    "    while (exponente > 0):\n",
    "        if (exponente%2 == 1):\n",
    "            aux = (aux*base)%modulo\n",
    "        exponente = exponente//2\n",
    "        base = (base*base)%modulo\n",
    "    return aux"
   ]
  },
  {
   "cell_type": "markdown",
   "metadata": {},
   "source": [
    "## Ejercicio 01\n",
    "##### Dado un número impar n tenemos que decidir si n es primo o no (con un pequeño margen de error). Para esto, usaremos el test de Miller-Rabin, y tenemos que decidir cuántos testigos elegimos para que la probabilidad de error sea pequeña. Si se quiere, antes de pasar el test de Miller-Rabin podemos probar a dividir el número n por los primeros números primos. Si en algún caso la división es exacta, ya tendríamos que el número no es primo."
   ]
  },
  {
   "cell_type": "code",
   "execution_count": 2,
   "metadata": {},
   "outputs": [],
   "source": [
    "# Pinta la Tabla de Testigos\n",
    "def crearTabla(base, modulo):\n",
    "    aux = modulo-1\n",
    "    print(\"a **\", aux, \"mod\", modulo, \"=\", potenciaModular(base, aux, modulo))\n",
    "    while (aux%2 == 0):\n",
    "        aux = aux//2\n",
    "        print(\"a **\", aux, \"mod\", modulo, \"=\", potenciaModular(base, aux, modulo))\n",
    "    if(aux != 1):\n",
    "        print(\"a ** 1\", \"mod\", modulo, \"=\", potenciaModular(base, aux, modulo))\n",
    "\n",
    "# Validaciones del Test de Miller-Rabin\n",
    "def MRvalidate(base, modulo, b):\n",
    "    if (base == 1 or base == modulo-1):\n",
    "        return True\n",
    "    else:\n",
    "        for i in range(1, b):\n",
    "            base = (base*base)%modulo\n",
    "            if (base == modulo-1):\n",
    "                return True\n",
    "            elif (base == 1):\n",
    "                return False\n",
    "    return False\n",
    "\n",
    "# Mostrar Resultados con Testigos y su Decision\n",
    "def resultTestigos(result, a, p):\n",
    "    if result == 0:\n",
    "        print(\"Para el testigo a = \", a, \", p = \", p, \"No es primo\")\n",
    "    elif result == 1:\n",
    "        print(\"Para el testigo a = \", a, \", p = \", p, \"Es probable primo\")"
   ]
  },
  {
   "cell_type": "code",
   "execution_count": 3,
   "metadata": {},
   "outputs": [],
   "source": [
    "# Funcion Test de Miller-Rabin\n",
    "def testMillerRabin(p, n_testigos, pintarTabla = False, function = None):\n",
    "    b = 1\n",
    "    if (p%2 != 0 and p >= 5):\n",
    "        s = (p-1)//2\n",
    "        while (s%2 == 0):\n",
    "            s = s//2\n",
    "            b += 1\n",
    "        for i in range(0, n_testigos): \n",
    "            a = randint(2, p-2)\n",
    "            if (pintarTabla == True):\n",
    "                print(\"\\n\")\n",
    "                crearTabla(a, p)\n",
    "            a_1 = potenciaModular(a, s, p)\n",
    "            result = MRvalidate(a_1, p, b)\n",
    "            if(function != None):\n",
    "                function(result, a, p)\n",
    "            else:\n",
    "                if (result == 0):\n",
    "                    return False\n",
    "        if(function == None):\n",
    "            return True\n",
    "    else:\n",
    "        if(function != None):\n",
    "            print(\"\\nValor de P no valido\")\n",
    "        else:\n",
    "            return False"
   ]
  },
  {
   "cell_type": "code",
   "execution_count": 4,
   "metadata": {},
   "outputs": [
    {
     "name": "stdout",
     "output_type": "stream",
     "text": [
      "Para el testigo a =  370408335251652924 , p =  576460752303424907 Es probable primo\n",
      "Para el testigo a =  245459807757052040 , p =  576460752303424907 Es probable primo\n",
      "Para el testigo a =  250077803215031832 , p =  576460752303424907 Es probable primo\n",
      "Para el testigo a =  224141773337124 , p =  576460752303424907 Es probable primo\n",
      "Para el testigo a =  501506426329901404 , p =  576460752303424907 Es probable primo\n",
      "Para el testigo a =  374791796878387033 , p =  576460752303424907 Es probable primo\n",
      "Para el testigo a =  23705472157173938 , p =  576460752303424907 Es probable primo\n",
      "Para el testigo a =  189069168019985782 , p =  576460752303424907 Es probable primo\n",
      "Para el testigo a =  525065437649075065 , p =  576460752303424907 Es probable primo\n",
      "Para el testigo a =  511206900318595002 , p =  576460752303424907 Es probable primo\n",
      "\n",
      "Tiempo en Segundos:  0.0009965896606445312\n"
     ]
    }
   ],
   "source": [
    "p = 576460752303424907\n",
    "n_testigos = 10\n",
    "tIni = time.time()\n",
    "testMillerRabin(p, n_testigos, False, resultTestigos)\n",
    "print(\"\\nTiempo en Segundos: \", time.time()-tIni)"
   ]
  },
  {
   "cell_type": "markdown",
   "metadata": {},
   "source": [
    "## Ejercicio 02.\n",
    "#### Tenemos que implementar una versión del test de Miller-Rabin que nos permita hacer pruebas. Hay que poder decidir para un número n compuesto e impar, si un número a es un falso testigo o no lo es."
   ]
  },
  {
   "cell_type": "code",
   "execution_count": 5,
   "metadata": {},
   "outputs": [
    {
     "name": "stdout",
     "output_type": "stream",
     "text": [
      "\n",
      "\n",
      "a ** 576460752303424906 mod 576460752303424907 = 1\n",
      "a ** 288230376151712453 mod 576460752303424907 = 1\n",
      "a ** 1 mod 576460752303424907 = 1\n",
      "Para el testigo a =  34965189790610580 , p =  576460752303424907 Es probable primo\n",
      "\n",
      "\n",
      "a ** 576460752303424906 mod 576460752303424907 = 1\n",
      "a ** 288230376151712453 mod 576460752303424907 = 1\n",
      "a ** 1 mod 576460752303424907 = 1\n",
      "Para el testigo a =  493106494133892416 , p =  576460752303424907 Es probable primo\n",
      "\n",
      "\n",
      "a ** 576460752303424906 mod 576460752303424907 = 1\n",
      "a ** 288230376151712453 mod 576460752303424907 = 576460752303424906\n",
      "a ** 1 mod 576460752303424907 = 576460752303424906\n",
      "Para el testigo a =  317821989212146767 , p =  576460752303424907 Es probable primo\n",
      "\n",
      "\n",
      "a ** 576460752303424906 mod 576460752303424907 = 1\n",
      "a ** 288230376151712453 mod 576460752303424907 = 576460752303424906\n",
      "a ** 1 mod 576460752303424907 = 576460752303424906\n",
      "Para el testigo a =  489298240407641406 , p =  576460752303424907 Es probable primo\n",
      "\n",
      "\n",
      "a ** 576460752303424906 mod 576460752303424907 = 1\n",
      "a ** 288230376151712453 mod 576460752303424907 = 1\n",
      "a ** 1 mod 576460752303424907 = 1\n",
      "Para el testigo a =  144167700537430240 , p =  576460752303424907 Es probable primo\n",
      "\n",
      "\n",
      "a ** 576460752303424906 mod 576460752303424907 = 1\n",
      "a ** 288230376151712453 mod 576460752303424907 = 1\n",
      "a ** 1 mod 576460752303424907 = 1\n",
      "Para el testigo a =  291721519210828342 , p =  576460752303424907 Es probable primo\n",
      "\n",
      "\n",
      "a ** 576460752303424906 mod 576460752303424907 = 1\n",
      "a ** 288230376151712453 mod 576460752303424907 = 1\n",
      "a ** 1 mod 576460752303424907 = 1\n",
      "Para el testigo a =  148674078240727945 , p =  576460752303424907 Es probable primo\n",
      "\n",
      "\n",
      "a ** 576460752303424906 mod 576460752303424907 = 1\n",
      "a ** 288230376151712453 mod 576460752303424907 = 576460752303424906\n",
      "a ** 1 mod 576460752303424907 = 576460752303424906\n",
      "Para el testigo a =  568451105883112779 , p =  576460752303424907 Es probable primo\n",
      "\n",
      "\n",
      "a ** 576460752303424906 mod 576460752303424907 = 1\n",
      "a ** 288230376151712453 mod 576460752303424907 = 576460752303424906\n",
      "a ** 1 mod 576460752303424907 = 576460752303424906\n",
      "Para el testigo a =  460043216645461054 , p =  576460752303424907 Es probable primo\n",
      "\n",
      "\n",
      "a ** 576460752303424906 mod 576460752303424907 = 1\n",
      "a ** 288230376151712453 mod 576460752303424907 = 1\n",
      "a ** 1 mod 576460752303424907 = 1\n",
      "Para el testigo a =  395832356957766552 , p =  576460752303424907 Es probable primo\n",
      "\n",
      "Tiempo en Segundos:  0.008976221084594727\n"
     ]
    }
   ],
   "source": [
    "p = 576460752303424907\n",
    "n_testigos = 10\n",
    "tIni = time.time()\n",
    "testMillerRabin(p, n_testigos, True, resultTestigos)\n",
    "print(\"\\nTiempo en Segundos: \", time.time()-tIni)"
   ]
  },
  {
   "cell_type": "markdown",
   "metadata": {},
   "source": [
    "## Ejericio 03.\n",
    "#### Hay que hacer una función que, dado un número n, calcule el siguiente número primo (mejor dicho, el siguiente probable primo)."
   ]
  },
  {
   "cell_type": "code",
   "execution_count": 6,
   "metadata": {},
   "outputs": [],
   "source": [
    "def nextPrimo(m, n_testigos, fuerte = False):\n",
    "    candidato = m\n",
    "    if(candidato%2 == 0):\n",
    "        candidato += 1\n",
    "    else:\n",
    "        candidato += 2\n",
    "    if(fuerte == False):\n",
    "        while ((testMillerRabin(candidato, n_testigos)) == 0):\n",
    "            candidato += 2\n",
    "        print(\"El siguiente primo probable es: \", candidato)\n",
    "    else:\n",
    "        while True:\n",
    "            if ((testMillerRabin(candidato, n_testigos)) == 1):\n",
    "                if ((testMillerRabin((candidato-1)//2, n_testigos)) == 1):\n",
    "                    break\n",
    "            candidato += 2\n",
    "        print(\"El siguiente primo fuerte probable es: \", candidato)"
   ]
  },
  {
   "cell_type": "code",
   "execution_count": 7,
   "metadata": {},
   "outputs": [
    {
     "name": "stdout",
     "output_type": "stream",
     "text": [
      "El siguiente primo probable es:  77029\n",
      "\n",
      "Tiempo en Segundos:  0.0009989738464355469\n"
     ]
    }
   ],
   "source": [
    "m = 77023\n",
    "n_testigos = 10\n",
    "tIni = time.time()\n",
    "nextPrimo(m, n_testigos)\n",
    "print(\"\\nTiempo en Segundos: \", time.time()-tIni)"
   ]
  },
  {
   "cell_type": "markdown",
   "metadata": {},
   "source": [
    "## Ejercicio 04.\n",
    "#### Hay que hacer una función que, dado un número n, calcule el siguiente número primo fuerte. Un número p es un primo fuerte si tanto él como $ \\frac{p-1}{2} $ son números primos."
   ]
  },
  {
   "cell_type": "code",
   "execution_count": 8,
   "metadata": {},
   "outputs": [
    {
     "name": "stdout",
     "output_type": "stream",
     "text": [
      "El siguiente primo fuerte probable es:  77279\n"
     ]
    }
   ],
   "source": [
    "m = 77023\n",
    "n_testigos = 10\n",
    "state = True\n",
    "nextPrimo(m, n_testigos, state)"
   ]
  },
  {
   "cell_type": "markdown",
   "metadata": {},
   "source": [
    "<p>Se ha utilizado la función modificada anteriormente. Al pasarle la variable fuerte en True accedemos a esta función que comprueba si un número es primo fuerte o no y va incrementando el candidato a primo hasta encontrar uno que sea posible primo fuerte, que es el que devuelve. Este caso difiere del anterior en la comprobacion de que ademas de posible primo, sea fuerte.</p>"
   ]
  },
  {
   "cell_type": "markdown",
   "metadata": {},
   "source": [
    "## Ejercicio 05.\n",
    "#### Dado un número n hay que calcular un número primo (fuerte) con n bits (es decir, un primo p tal que $ 2^{n-1} \\leq p < 2^{n} $)."
   ]
  },
  {
   "cell_type": "code",
   "execution_count": 9,
   "metadata": {},
   "outputs": [],
   "source": [
    "def nextPrimoBits(m, n_testigos, writeInit = False, aleatorio = True):\n",
    "    lowValor = 2**(m-1)+3\n",
    "    highValor = 2**m\n",
    "    if(aleatorio):\n",
    "        candidato = randint(lowValor, highValor)\n",
    "    else:\n",
    "        candidato = lowValor\n",
    "    state = False\n",
    "    while candidato < highValor:\n",
    "        if ((testMillerRabin(candidato, n_testigos)) == 1):\n",
    "            if(((testMillerRabin((candidato-1)//2, n_testigos)) == 1)):\n",
    "                break\n",
    "        candidato += 4\n",
    "    if(writeInit == True):\n",
    "        print(\"El valor inicial del candidato aleatorio es:\", candidato)\n",
    "    if(candidato >= highValor):\n",
    "        print(\"No existe primo fuerte con los bits dados\")\n",
    "    else:\n",
    "        print(\"El primo fuerte probable con bits n = \", m, \" es \", candidato)"
   ]
  },
  {
   "cell_type": "code",
   "execution_count": 10,
   "metadata": {},
   "outputs": [
    {
     "name": "stdout",
     "output_type": "stream",
     "text": [
      "El valor inicial del candidato aleatorio es: 524387\n",
      "El primo fuerte probable con bits n =  20  es  524387\n",
      "\n",
      "Tiempo en Segundos:  0.001001596450805664\n"
     ]
    }
   ],
   "source": [
    "m = 20\n",
    "n_testigos = 10\n",
    "tIni = time.time()\n",
    "nextPrimoBits(m, n_testigos, True, aleatorio = False)\n",
    "print(\"\\nTiempo en Segundos: \", time.time()-tIni)"
   ]
  },
  {
   "cell_type": "markdown",
   "metadata": {},
   "source": [
    "<p>Se ha utilizado la función modificada anteriormente. Se busca un posible primo fuerte comprobando los valores dentro del rango especificado. Si no se encontrara ninguno, devolvería dicho mensaje. En este caso, cuanto mayor es el número especificado, mayor es el rango y mas costoso resulta encontrar un posible primo fuerte.</p>"
   ]
  },
  {
   "cell_type": "markdown",
   "metadata": {},
   "source": [
    "## Ejercicio 06.\n",
    "#### Elegimos un número de la siguiente lista: \n",
    "#### 6601   8911   10585   15841   29341\n",
    "#### Para el número elegido tenemos que encontrar todos los falsos testigos."
   ]
  },
  {
   "cell_type": "code",
   "execution_count": 11,
   "metadata": {},
   "outputs": [],
   "source": [
    "def falsosTestigos(p, n_testigos):\n",
    "    b = 1\n",
    "    contador = 0\n",
    "    falseResults = ''\n",
    "    if (p%2 != 0 and p >= 5):\n",
    "        s = (p-1)//2\n",
    "        while (s%2 == 0):\n",
    "            s = s//2\n",
    "            b += 1\n",
    "        if(n_testigos == p-5):\n",
    "            a = 2\n",
    "            while (a < p-2):\n",
    "                a_1 = potenciaModular(a, s, p)\n",
    "                result = MRvalidate(a_1, p, b)\n",
    "                if result == 1:\n",
    "                    falseResults = falseResults + str(a) + ', '\n",
    "                    contador += 1\n",
    "                a += 1\n",
    "        else:\n",
    "            for i in range(0, n_testigos):\n",
    "                a = randint(2, p-2)\n",
    "                a_1 = potenciaModular(a, s, p)\n",
    "                result = MRvalidate(a_1, p, b)\n",
    "                if result == 1:\n",
    "                    falseResults = falseResults + str(a) + ', '\n",
    "                    contador += 1\n",
    "        if(len(falseResults) == 0):\n",
    "            print(\"No se han obtenido falsos testigos\")\n",
    "        else:\n",
    "            print(falseResults[0:len(falseResults)-2])\n",
    "            print(\"\\nEn total, se han obtenido \", contador, \" falsos testigos de \", n_testigos)\n",
    "    else:\n",
    "        print(\"\\nValor de P no valido\")"
   ]
  },
  {
   "cell_type": "code",
   "execution_count": 12,
   "metadata": {},
   "outputs": [
    {
     "name": "stdout",
     "output_type": "stream",
     "text": [
      "16, 18, 40, 45, 66, 78, 100, 122, 141, 165, 195, 242, 250, 256, 286, 288, 303, 305, 318, 324, 327, 332, 338, 433, 474, 482, 508, 517, 523, 573, 605, 611, 619, 625, 640, 652, 715, 720, 739, 769, 795, 804, 810, 821, 824, 830, 843, 845, 877, 898, 927, 961, 983, 1002, 1056, 1082, 1091, 1108, 1111, 1117, 1132, 1147, 1166, 1185, 1188, 1193, 1199, 1205, 1248, 1270, 1289, 1313, 1369, 1378, 1404, 1417, 1451, 1453, 1466, 1513, 1527, 1576, 1581, 1600, 1630, 1644, 1671, 1682, 1691, 1721, 1738, 1753, 1762, 1767, 1773, 1779, 1788, 1800, 1868, 1887, 1931, 1952, 1964, 1972, 1993, 2008, 2010, 2025, 2027, 2054, 2060, 2075, 2101, 2109, 2131, 2174, 2196, 2204, 2218, 2245, 2256, 2259, 2312, 2347, 2396, 2483, 2491, 2505, 2526, 2538, 2543, 2567, 2584, 2601, 2614, 2634, 2640, 2661, 2705, 2729, 2770, 2813, 2830, 2869, 2888, 2907, 2915, 2927, 2936, 2948, 2962, 2970, 3057, 3079, 3091, 3117, 3120, 3139, 3156, 3175, 3188, 3202, 3249, 3298, 3303, 3352, 3399, 3413, 3426, 3445, 3462, 3481, 3484, 3510, 3522, 3544, 3631, 3639, 3653, 3665, 3674, 3686, 3694, 3713, 3732, 3771, 3788, 3831, 3872, 3896, 3940, 3961, 3967, 3987, 4000, 4017, 4034, 4058, 4063, 4075, 4096, 4110, 4118, 4205, 4254, 4289, 4342, 4345, 4356, 4383, 4397, 4405, 4427, 4470, 4492, 4500, 4526, 4541, 4547, 4574, 4576, 4591, 4593, 4608, 4629, 4637, 4649, 4670, 4714, 4733, 4801, 4813, 4822, 4828, 4834, 4839, 4848, 4863, 4880, 4910, 4919, 4930, 4957, 4971, 5001, 5020, 5025, 5074, 5088, 5135, 5148, 5150, 5184, 5197, 5223, 5232, 5288, 5312, 5331, 5353, 5396, 5402, 5408, 5413, 5416, 5435, 5454, 5469, 5484, 5490, 5493, 5510, 5519, 5545, 5599, 5618, 5640, 5674, 5703, 5724, 5756, 5758, 5771, 5777, 5780, 5791, 5797, 5806, 5832, 5862, 5881, 5886, 5949, 5961, 5976, 5982, 5990, 5996, 6028, 6078, 6084, 6093, 6119, 6127, 6168, 6263, 6269, 6274, 6277, 6283, 6296, 6298, 6313, 6315, 6345, 6351, 6359, 6406, 6436, 6460, 6479, 6501, 6523, 6535, 6556, 6561, 6583, 6585\n",
      "\n",
      "En total, se han obtenido  328  falsos testigos de  6596\n",
      "\n",
      "Tiempo en Segundos:  0.028986215591430664\n"
     ]
    }
   ],
   "source": [
    "p = 6601\n",
    "n_testigos = p-5\n",
    "tIni = time.time()\n",
    "falsosTestigos(p, n_testigos)\n",
    "print(\"\\nTiempo en Segundos: \", time.time()-tIni)"
   ]
  },
  {
   "cell_type": "markdown",
   "metadata": {},
   "source": [
    "## Ejercicio 07.\n",
    "#### Elegimos dos números compuestos grandes (uno que sea producto de varios números primos pequeños y otro que sea producto de dos números primos grandes. Para elegir estos primos usaremos alguna de las funciones que hemos implementado en los aparatados 3, 4 ó 5). Para estos dos primos, elegiremos al azar doscientos testigos y veremos cuáles son falsos."
   ]
  },
  {
   "cell_type": "code",
   "execution_count": 13,
   "metadata": {},
   "outputs": [
    {
     "name": "stdout",
     "output_type": "stream",
     "text": [
      "El siguiente primo probable es:  101\n",
      "El siguiente primo probable es:  211\n",
      "El siguiente primo probable es:  307\n"
     ]
    }
   ],
   "source": [
    "m = 100\n",
    "n_testigos = 10\n",
    "nextPrimo(m, n_testigos)\n",
    "m = 200\n",
    "nextPrimo(m, n_testigos)\n",
    "m = 300\n",
    "nextPrimo(m, n_testigos)"
   ]
  },
  {
   "cell_type": "code",
   "execution_count": 14,
   "metadata": {},
   "outputs": [
    {
     "name": "stdout",
     "output_type": "stream",
     "text": [
      "Valor de P:  6542477\n",
      "No se han obtenido falsos testigos\n",
      "\n",
      "Tiempo en Segundos:  0.00299835205078125\n"
     ]
    }
   ],
   "source": [
    "p = 101*211*307\n",
    "n_testigos = 200\n",
    "print(\"Valor de P: \", p)\n",
    "tIni = time.time()\n",
    "falsosTestigos(p, n_testigos)\n",
    "print(\"\\nTiempo en Segundos: \", time.time()-tIni)"
   ]
  },
  {
   "cell_type": "code",
   "execution_count": 15,
   "metadata": {},
   "outputs": [
    {
     "name": "stdout",
     "output_type": "stream",
     "text": [
      "El siguiente primo probable es:  1000003\n",
      "El siguiente primo probable es:  2000003\n",
      "El siguiente primo probable es:  3000017\n"
     ]
    }
   ],
   "source": [
    "m = 1000000\n",
    "n_testigos = 10\n",
    "nextPrimo(m, n_testigos)\n",
    "m = 2000000\n",
    "nextPrimo(m, n_testigos)\n",
    "m = 3000000\n",
    "nextPrimo(m, n_testigos)"
   ]
  },
  {
   "cell_type": "code",
   "execution_count": 16,
   "metadata": {},
   "outputs": [
    {
     "name": "stdout",
     "output_type": "stream",
     "text": [
      "Valor de P:  6000061000180000153\n",
      "No se han obtenido falsos testigos\n",
      "\n",
      "Tiempo en Segundos:  0.01000833511352539\n"
     ]
    }
   ],
   "source": [
    "p = 1000003*2000003*3000017\n",
    "n_testigos = 200\n",
    "print(\"Valor de P: \", p)\n",
    "tIni = time.time()\n",
    "falsosTestigos(p, n_testigos)\n",
    "print(\"\\nTiempo en Segundos: \", time.time()-tIni)"
   ]
  },
  {
   "cell_type": "markdown",
   "metadata": {},
   "source": [
    "## Ejercicio 08.\n",
    "#### Repetimos el apartado anterior pero con los números $ n_{1} $ = 3215031751 y $ n_{2} $ = 2199733160881"
   ]
  },
  {
   "cell_type": "code",
   "execution_count": 20,
   "metadata": {},
   "outputs": [
    {
     "name": "stdout",
     "output_type": "stream",
     "text": [
      "2538471694, 2081448325, 2555654023, 3013782613, 516842345, 1859294115, 3107693296, 2078386535, 2944981819, 86366343, 592125052, 1930545496, 606962621, 1261798226, 2154116959, 948490667, 3136777486, 1983695123, 639403741, 585881468, 884053121, 1615549931, 2426210177, 1847887330, 2082637981, 303356200, 2719925884, 323791291, 3034879711, 1521702862, 2176414566, 463640695, 1799218662, 1708325971, 1533939841, 1359552779, 2091922409, 2860362363, 2023273840, 1202929841, 1388302882, 995949830\n",
      "\n",
      "En total, se han obtenido  42  falsos testigos de  200\n",
      "\n",
      "Tiempo en Segundos:  0.005999088287353516\n"
     ]
    }
   ],
   "source": [
    "p = 3215031751\n",
    "n_testigos = 200\n",
    "tIni = time.time()\n",
    "falsosTestigos(p, n_testigos)\n",
    "print(\"\\nTiempo en Segundos: \", time.time()-tIni)"
   ]
  },
  {
   "cell_type": "code",
   "execution_count": 21,
   "metadata": {},
   "outputs": [
    {
     "name": "stdout",
     "output_type": "stream",
     "text": [
      "561745486754, 1489822420125, 1059594462534, 1079546529644, 4197693190, 935621392357, 2142096691059, 1308074815730, 995438380514, 1992433771902, 918926494809\n",
      "\n",
      "En total, se han obtenido  11  falsos testigos de  200\n",
      "\n",
      "Tiempo en Segundos:  0.005982637405395508\n"
     ]
    }
   ],
   "source": [
    "p = 2199733160881\n",
    "n_testigos = 200\n",
    "tIni = time.time()\n",
    "falsosTestigos(p, n_testigos)\n",
    "print(\"\\nTiempo en Segundos: \", time.time()-tIni)"
   ]
  }
 ],
 "metadata": {
  "kernelspec": {
   "display_name": "Python 3",
   "language": "python",
   "name": "python3"
  },
  "language_info": {
   "codemirror_mode": {
    "name": "ipython",
    "version": 3
   },
   "file_extension": ".py",
   "mimetype": "text/x-python",
   "name": "python",
   "nbconvert_exporter": "python",
   "pygments_lexer": "ipython3",
   "version": "3.7.1"
  }
 },
 "nbformat": 4,
 "nbformat_minor": 2
}
