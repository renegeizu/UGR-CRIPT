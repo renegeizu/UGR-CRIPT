{
 "cells": [
  {
   "cell_type": "markdown",
   "metadata": {},
   "source": [
    "# Cuaderno Jupyter"
   ]
  },
  {
   "cell_type": "markdown",
   "metadata": {},
   "source": [
    "<p>Jupyter es una aplicación web de código abierto que ha sido desarrollada utilizando lenguaje HTML. Con esto se ha conseguido que los usuarios podamos crear, compartir y editar documentos en los que se puede ejecutar código Python en nuestro navegador. También podremos hacer anotaciones, insertar ecuaciones, visualizar resultados y documentar funcionalidades.</p>\n",
    "<p>Si con anterioridad hemos instalado Anaconda Distribution ya tendremos instalado Jupyter Notebook. Por lo que podremos ejecutarlo desde la terminal (Ctrl+Alt+T) escribiendo:</p>\n",
    "<br>\n",
    "<code style=\"margin-left:23px\">jupyter-notebook</code>\n",
    "<p>En caso de que no querer instalar Anaconda Distribution tendremos la opción de poder instalar Jupyter Notebook utilizando pip de Python. Para ello, solo tendremos que abrir una terminal (Ctrl+Alt+T) y ejecutar el siguiente comando:</p>\n",
    "<br>\n",
    "<code style=\"margin-left:23px\">pip install notebook</code>\n",
    "<p>Una vez terminada la instalación, ya podremos lanzar el programa utilizando el siguiente comando en la misma terminal:</p>\n",
    "<br>\n",
    "<code style=\"margin-left:23px\">jupyter-notebook</code>\n",
    "<p>Sólo queda importar el archivo con extensión \".ipynb\" y podra ser modificado y ejecutado el código que contiene. La forma más rápida y cómoda, y que evita errores, es seleccionar en el menú superior \"Kernel\" la opción \"Restart & Run All\"</p>"
   ]
  },
  {
   "cell_type": "markdown",
   "metadata": {},
   "source": [
    "# Practica 01 - Primalidad"
   ]
  },
  {
   "cell_type": "code",
   "execution_count": 1,
   "metadata": {},
   "outputs": [],
   "source": [
    "import numpy as np\n",
    "import time\n",
    "from random import randint\n",
    "\n",
    "def potenciaModular(base, exponente, modulo):\n",
    "    aux = 1\n",
    "    while (exponente > 0):\n",
    "        if (exponente%2 == 1):\n",
    "            aux = (aux*base)%modulo\n",
    "        exponente = exponente//2\n",
    "        base = (base*base)%modulo\n",
    "    return aux"
   ]
  },
  {
   "cell_type": "markdown",
   "metadata": {},
   "source": [
    "## Ejercicio 01\n",
    "##### Dado un número impar n tenemos que decidir si n es primo o no (con un pequeño margen de error). Para esto, usaremos el test de Miller-Rabin, y tenemos que decidir cuántos testigos elegimos para que la probabilidad de error sea pequeña. Si se quiere, antes de pasar el test de Miller-Rabin podemos probar a dividir el número n por los primeros números primos. Si en algún caso la división es exacta, ya tendríamos que el número no es primo."
   ]
  },
  {
   "cell_type": "code",
   "execution_count": 2,
   "metadata": {},
   "outputs": [],
   "source": [
    "def crearTabla(base, modulo):\n",
    "    aux = int(modulo-1)\n",
    "    print(\"\\na **\", aux, \" mod \", modulo, \"= \\t\", potenciaModular(base, aux, modulo))\n",
    "    while (aux%2 == 0):\n",
    "        aux = int(aux/2)\n",
    "        print(\"a **\", aux, \" mod \", modulo, \" = \\t\", potenciaModular(base, aux, modulo))\n",
    "    if(aux != 1):\n",
    "        print(\"a ** 1 = \\t\", base)\n",
    "\n",
    "def MRvalidate(base, modulo, b):\n",
    "    result = False\n",
    "    if (base == 1 or base == modulo-1):\n",
    "        result = True\n",
    "    else:\n",
    "        for i in range(1, b):\n",
    "            base = potenciaModular(base, 2, modulo)\n",
    "            aux = base\n",
    "            if (base == modulo-1):\n",
    "                result = True\n",
    "                break\n",
    "            elif (base == 1):\n",
    "                result = False\n",
    "                break\n",
    "    return result\n",
    "    \n",
    "def testMillerRabin(p, testigos, function = None):\n",
    "    b = 1\n",
    "    s = 0\n",
    "    if (p%2 != 0 and p >= 5):\n",
    "        aux = (p-1)/2\n",
    "        while (aux%2 == 0):\n",
    "            aux /= 2\n",
    "            b += 1\n",
    "        s = int(aux)\n",
    "        for a in testigos:\n",
    "            if (function != None):\n",
    "                function(a, p)\n",
    "            a_1 = potenciaModular(a, s, p)\n",
    "            result = MRvalidate(a_1, p, b)\n",
    "            if result == 0:\n",
    "                print(\"Para el testigo a = \", a, \", p = \", p, \"No es primo\")\n",
    "            elif result == 1:\n",
    "                print(\"Para el testigo a = \", a, \", p = \", p, \"Es probable primo\")\n",
    "    else:\n",
    "        print(\"\\nValor de P no valido\")"
   ]
  },
  {
   "cell_type": "code",
   "execution_count": 3,
   "metadata": {},
   "outputs": [
    {
     "name": "stdout",
     "output_type": "stream",
     "text": [
      "Para el testigo a =  20655 , p =  31307 Es probable primo\n",
      "Para el testigo a =  25939 , p =  31307 Es probable primo\n",
      "Para el testigo a =  678 , p =  31307 Es probable primo\n",
      "Para el testigo a =  26633 , p =  31307 Es probable primo\n",
      "Para el testigo a =  18948 , p =  31307 Es probable primo\n",
      "Para el testigo a =  1809 , p =  31307 Es probable primo\n",
      "Para el testigo a =  31304 , p =  31307 Es probable primo\n",
      "Para el testigo a =  13551 , p =  31307 Es probable primo\n",
      "Para el testigo a =  3223 , p =  31307 Es probable primo\n",
      "Para el testigo a =  2439 , p =  31307 Es probable primo\n"
     ]
    }
   ],
   "source": [
    "p = 31307 # Es Primo\n",
    "n_testigos = 10\n",
    "testigos = np.random.randint(2, p-2, size = n_testigos).tolist()\n",
    "testMillerRabin(p, testigos)"
   ]
  },
  {
   "cell_type": "markdown",
   "metadata": {},
   "source": [
    "<p>El número utilizado, 31307, es primo. El test de Miller-Rabin arroja que es un probable primo. Se han utilizado para ello 10 testigos aleatorios generados con Numpy.</p>"
   ]
  },
  {
   "cell_type": "code",
   "execution_count": 4,
   "metadata": {},
   "outputs": [
    {
     "name": "stdout",
     "output_type": "stream",
     "text": [
      "Para el testigo a =  17613 , p =  52151 No es primo\n",
      "Para el testigo a =  45447 , p =  52151 No es primo\n",
      "Para el testigo a =  18871 , p =  52151 No es primo\n",
      "Para el testigo a =  48442 , p =  52151 No es primo\n",
      "Para el testigo a =  23968 , p =  52151 No es primo\n",
      "Para el testigo a =  26249 , p =  52151 No es primo\n",
      "Para el testigo a =  17414 , p =  52151 No es primo\n",
      "Para el testigo a =  35432 , p =  52151 No es primo\n",
      "Para el testigo a =  1221 , p =  52151 No es primo\n",
      "Para el testigo a =  33447 , p =  52151 No es primo\n"
     ]
    }
   ],
   "source": [
    "p = 52151 # No Es Primo\n",
    "n_testigos = 10\n",
    "testigos = np.random.randint(2, p-2, size = n_testigos).tolist()\n",
    "testMillerRabin(p, testigos)"
   ]
  },
  {
   "cell_type": "markdown",
   "metadata": {},
   "source": [
    "<p>El número utilizado, 52151, no es primo. El test de Miller-Rabin arroja que no es un número primo. Se han utilizado para ello 10 testigos aleatorios generados con Numpy.</p>"
   ]
  },
  {
   "cell_type": "markdown",
   "metadata": {},
   "source": [
    "## Ejercicio 02.\n",
    "#### Tenemos que implementar una versión del test de Miller-Rabin que nos permita hacer pruebas. Hay que poder decidir para un número n compuesto e impar, si un número a es un falso testigo o no lo es."
   ]
  },
  {
   "cell_type": "code",
   "execution_count": 5,
   "metadata": {},
   "outputs": [
    {
     "name": "stdout",
     "output_type": "stream",
     "text": [
      "\n",
      "a ** 60372  mod  60373 = \t 1\n",
      "a ** 30186  mod  60373  = \t 1\n",
      "a ** 15093  mod  60373  = \t 1\n",
      "a ** 1 = \t 51697\n",
      "Para el testigo a =  51697 , p =  60373 Es probable primo\n",
      "\n",
      "a ** 60372  mod  60373 = \t 1\n",
      "a ** 30186  mod  60373  = \t 60372\n",
      "a ** 15093  mod  60373  = \t 59596\n",
      "a ** 1 = \t 23247\n",
      "Para el testigo a =  23247 , p =  60373 Es probable primo\n",
      "\n",
      "a ** 60372  mod  60373 = \t 1\n",
      "a ** 30186  mod  60373  = \t 1\n",
      "a ** 15093  mod  60373  = \t 60372\n",
      "a ** 1 = \t 20872\n",
      "Para el testigo a =  20872 , p =  60373 Es probable primo\n",
      "\n",
      "a ** 60372  mod  60373 = \t 1\n",
      "a ** 30186  mod  60373  = \t 1\n",
      "a ** 15093  mod  60373  = \t 1\n",
      "a ** 1 = \t 16274\n",
      "Para el testigo a =  16274 , p =  60373 Es probable primo\n",
      "\n",
      "a ** 60372  mod  60373 = \t 1\n",
      "a ** 30186  mod  60373  = \t 60372\n",
      "a ** 15093  mod  60373  = \t 777\n",
      "a ** 1 = \t 35337\n",
      "Para el testigo a =  35337 , p =  60373 Es probable primo\n",
      "\n",
      "a ** 60372  mod  60373 = \t 1\n",
      "a ** 30186  mod  60373  = \t 1\n",
      "a ** 15093  mod  60373  = \t 1\n",
      "a ** 1 = \t 27264\n",
      "Para el testigo a =  27264 , p =  60373 Es probable primo\n",
      "\n",
      "a ** 60372  mod  60373 = \t 1\n",
      "a ** 30186  mod  60373  = \t 60372\n",
      "a ** 15093  mod  60373  = \t 59596\n",
      "a ** 1 = \t 24661\n",
      "Para el testigo a =  24661 , p =  60373 Es probable primo\n",
      "\n",
      "a ** 60372  mod  60373 = \t 1\n",
      "a ** 30186  mod  60373  = \t 60372\n",
      "a ** 15093  mod  60373  = \t 777\n",
      "a ** 1 = \t 18393\n",
      "Para el testigo a =  18393 , p =  60373 Es probable primo\n",
      "\n",
      "a ** 60372  mod  60373 = \t 1\n",
      "a ** 30186  mod  60373  = \t 1\n",
      "a ** 15093  mod  60373  = \t 1\n",
      "a ** 1 = \t 54318\n",
      "Para el testigo a =  54318 , p =  60373 Es probable primo\n",
      "\n",
      "a ** 60372  mod  60373 = \t 1\n",
      "a ** 30186  mod  60373  = \t 60372\n",
      "a ** 15093  mod  60373  = \t 777\n",
      "a ** 1 = \t 45800\n",
      "Para el testigo a =  45800 , p =  60373 Es probable primo\n"
     ]
    }
   ],
   "source": [
    "p = 60373 # Es Primo\n",
    "n_testigos = 10\n",
    "testigos = np.random.randint(2, p-2, size = n_testigos).tolist()\n",
    "testMillerRabin(p, testigos, crearTabla)"
   ]
  },
  {
   "cell_type": "code",
   "execution_count": 6,
   "metadata": {},
   "outputs": [
    {
     "name": "stdout",
     "output_type": "stream",
     "text": [
      "\n",
      "a ** 60370  mod  60371 = \t 18669\n",
      "a ** 30185  mod  60371  = \t 34484\n",
      "a ** 1 = \t 1182\n",
      "Para el testigo a =  1182 , p =  60371 No es primo\n",
      "\n",
      "a ** 60370  mod  60371 = \t 39309\n",
      "a ** 30185  mod  60371  = \t 38126\n",
      "a ** 1 = \t 6137\n",
      "Para el testigo a =  6137 , p =  60371 No es primo\n",
      "\n",
      "a ** 60370  mod  60371 = \t 28662\n",
      "a ** 30185  mod  60371  = \t 50392\n",
      "a ** 1 = \t 54188\n",
      "Para el testigo a =  54188 , p =  60371 No es primo\n",
      "\n",
      "a ** 60370  mod  60371 = \t 54189\n",
      "a ** 30185  mod  60371  = \t 29552\n",
      "a ** 1 = \t 53191\n",
      "Para el testigo a =  53191 , p =  60371 No es primo\n",
      "\n",
      "a ** 60370  mod  60371 = \t 7135\n",
      "a ** 30185  mod  60371  = \t 20103\n",
      "a ** 1 = \t 14614\n",
      "Para el testigo a =  14614 , p =  60371 No es primo\n",
      "\n",
      "a ** 60370  mod  60371 = \t 53033\n",
      "a ** 30185  mod  60371  = \t 53091\n",
      "a ** 1 = \t 40812\n",
      "Para el testigo a =  40812 , p =  60371 No es primo\n",
      "\n",
      "a ** 60370  mod  60371 = \t 30079\n",
      "a ** 30185  mod  60371  = \t 24549\n",
      "a ** 1 = \t 20178\n",
      "Para el testigo a =  20178 , p =  60371 No es primo\n",
      "\n",
      "a ** 60370  mod  60371 = \t 57162\n",
      "a ** 30185  mod  60371  = \t 5235\n",
      "a ** 1 = \t 12015\n",
      "Para el testigo a =  12015 , p =  60371 No es primo\n",
      "\n",
      "a ** 60370  mod  60371 = \t 12068\n",
      "a ** 30185  mod  60371  = \t 22205\n",
      "a ** 1 = \t 50323\n",
      "Para el testigo a =  50323 , p =  60371 No es primo\n",
      "\n",
      "a ** 60370  mod  60371 = \t 51709\n",
      "a ** 30185  mod  60371  = \t 881\n",
      "a ** 1 = \t 35425\n",
      "Para el testigo a =  35425 , p =  60371 No es primo\n"
     ]
    }
   ],
   "source": [
    "p = 60371 # No Es Primo\n",
    "n_testigos = 10\n",
    "testigos = np.random.randint(2, p-2, size = n_testigos).tolist()\n",
    "testMillerRabin(p, testigos, crearTabla)"
   ]
  },
  {
   "cell_type": "markdown",
   "metadata": {},
   "source": [
    "<p>Se ha incluido una función que muestra la tabla de cálculos para poder comprobar si son falsos testigos.</p>"
   ]
  },
  {
   "cell_type": "markdown",
   "metadata": {},
   "source": [
    "## Ejericio 03.\n",
    "#### Hay que hacer una función que, dado un número n, calcule el siguiente número primo (mejor dicho, el siguiente probable primo)."
   ]
  },
  {
   "cell_type": "code",
   "execution_count": 7,
   "metadata": {},
   "outputs": [],
   "source": [
    "def posiblePrimo(p, testigos):\n",
    "    b = 1\n",
    "    s = 0\n",
    "    state = 1\n",
    "    if (p%2 != 0 and p >= 5):\n",
    "        aux = (p-1)/2\n",
    "        while (aux%2 == 0):\n",
    "            aux /= 2\n",
    "            b += 1\n",
    "        s = int(aux)\n",
    "        for a in testigos:\n",
    "            a_1 = potenciaModular(a, s, p)\n",
    "            result = MRvalidate(a_1, p, b)\n",
    "            if result == 0:\n",
    "                state = 0\n",
    "                break\n",
    "        return state\n",
    "    else:\n",
    "        return 0\n",
    "        \n",
    "def nextPrimo(m, n_testigos, fuerte = False):\n",
    "    candidato = m\n",
    "    if(candidato%2 == 0):\n",
    "        candidato += 1\n",
    "    else:\n",
    "        candidato += 2\n",
    "    testigos = np.random.randint(2, candidato-2, size = n_testigos).tolist()\n",
    "    if(fuerte == False):\n",
    "        while ((posiblePrimo(candidato, testigos)) == 0):\n",
    "            candidato += 2\n",
    "            testigos = np.random.randint(2, candidato-2, size = n_testigos).tolist()\n",
    "        print(\"El siguiente primo probable es: \", candidato)\n",
    "    else:\n",
    "        estado = posiblePrimo(candidato, testigos)\n",
    "        while True:\n",
    "            if estado == 1:\n",
    "                if posiblePrimo(int((candidato-1)/2), testigos) == 1:\n",
    "                    break\n",
    "            candidato += 2\n",
    "            testigos = np.random.randint(2, candidato-2, size = n_testigos).tolist()\n",
    "            estado = posiblePrimo(candidato, testigos)\n",
    "        print(\"El siguiente primo fuerte probable es: \", candidato)"
   ]
  },
  {
   "cell_type": "code",
   "execution_count": 8,
   "metadata": {},
   "outputs": [
    {
     "name": "stdout",
     "output_type": "stream",
     "text": [
      "El siguiente primo probable es:  77029\n"
     ]
    }
   ],
   "source": [
    "m = 77023 # El siguiente Primo es 77029\n",
    "n_testigos = 10\n",
    "nextPrimo(m, n_testigos)"
   ]
  },
  {
   "cell_type": "markdown",
   "metadata": {},
   "source": [
    "<p>Se ha modificado la función de manera que devuelve 0 si no es primo y 1 si es un posible primo. Al pasarle la variable fuerte en Falso accedemos a esta función que comprueba si un número es primo o no y va incrementando el candidato a primo hasta encontrar uno que sea posible primo, que es el que devuelve.</p>"
   ]
  },
  {
   "cell_type": "markdown",
   "metadata": {},
   "source": [
    "## Ejercicio 04.\n",
    "#### Hay que hacer una función que, dado un número n, calcule el siguiente número primo fuerte. Un número p es un primo fuerte si tanto él como $ \\frac{p-1}{2} $ son números primos."
   ]
  },
  {
   "cell_type": "code",
   "execution_count": 9,
   "metadata": {},
   "outputs": [
    {
     "name": "stdout",
     "output_type": "stream",
     "text": [
      "El siguiente primo fuerte probable es:  94727\n"
     ]
    }
   ],
   "source": [
    "m = 94651\n",
    "n_testigos = 10\n",
    "state = True\n",
    "nextPrimo(m, n_testigos, state)"
   ]
  },
  {
   "cell_type": "markdown",
   "metadata": {},
   "source": [
    "<p>Se ha utilizado la función modificada anteriormente. Al pasarle la variable fuerte en True accedemos a esta función que comprueba si un número es primo fuerte o no y va incrementando el candidato a primo hasta encontrar uno que sea posible primo fuerte, que es el que devuelve. Este caso difiere del anterior en la comprobacion de que ademas de posible primo, sea fuerte.</p>"
   ]
  },
  {
   "cell_type": "markdown",
   "metadata": {},
   "source": [
    "## Ejercicio 05.\n",
    "#### Dado un número n hay que calcular un número primo (fuerte) con n bits (es decir, un primo p tal que $ 2^{n-1} \\leq p < 2^{n} $)."
   ]
  },
  {
   "cell_type": "code",
   "execution_count": 10,
   "metadata": {},
   "outputs": [],
   "source": [
    "def nextPrimoBits(m, n_testigos):\n",
    "    candidato = m\n",
    "    lowValor = 2**(m-1)\n",
    "    highValor = 2**m\n",
    "    state = False\n",
    "    if(lowValor == 0):\n",
    "        candidato = lowValor+1\n",
    "    else:\n",
    "        candidato == lowValor\n",
    "    testigos = np.random.randint(2, candidato-2, size = n_testigos).tolist()\n",
    "    estado = posiblePrimo(candidato, testigos)\n",
    "    while candidato < highValor:\n",
    "        if estado == 1:\n",
    "            if (lowValor <= candidato and candidato < highValor):\n",
    "                if posiblePrimo(int((candidato-1)/2), testigos) == 1:\n",
    "                    state = True\n",
    "                    break\n",
    "        candidato += 2\n",
    "        testigos = np.random.randint(2, candidato-2, size = n_testigos).tolist()\n",
    "        estado = posiblePrimo(candidato, testigos)\n",
    "    if(state):\n",
    "        print(\"El siguiente primo fuerte probable con bits n = \", m, \" es \", candidato)\n",
    "    else:\n",
    "        print(\"No existe primo fuerte con los bits dados\")"
   ]
  },
  {
   "cell_type": "code",
   "execution_count": 11,
   "metadata": {},
   "outputs": [
    {
     "name": "stdout",
     "output_type": "stream",
     "text": [
      "El siguiente primo fuerte probable con bits n =  11  es  1187\n"
     ]
    }
   ],
   "source": [
    "m = 11\n",
    "n_testigos = 10\n",
    "nextPrimoBits(m, n_testigos)"
   ]
  },
  {
   "cell_type": "markdown",
   "metadata": {},
   "source": [
    "<p>Se ha utilizado la función modificada anteriormente. Se busca un posible primo fuerte comprobando los valores dentro del rango especificado. Si no se encontrara ninguno, devolvería dicho mensaje. En este caso, cuanto mayor es el número especificado, mayor es el rango y mas costoso resulta encontrar un posible primo fuerte.</p>"
   ]
  },
  {
   "cell_type": "markdown",
   "metadata": {},
   "source": [
    "## Ejercicio 06.\n",
    "#### Elegimos un número de la siguiente lista: \n",
    "#### 6601   8911   10585   15841   29341\n",
    "#### Para el número elegido tenemos que encontrar todos los falsos testigos."
   ]
  },
  {
   "cell_type": "code",
   "execution_count": 12,
   "metadata": {},
   "outputs": [],
   "source": [
    "def testMillerRabinFalsos(p, testigos, function = None):\n",
    "    b = 1\n",
    "    s = 0\n",
    "    falseResults = ''\n",
    "    contador = 0\n",
    "    if (p%2 != 0 and p >= 5):\n",
    "        aux = (p-1)/2\n",
    "        while (aux%2 == 0):\n",
    "            aux /= 2\n",
    "            b += 1\n",
    "        s = int(aux)\n",
    "        for a in testigos:\n",
    "            if (function != None):\n",
    "                function(a, p)\n",
    "            a_1 = potenciaModular(a, s, p)\n",
    "            result = MRvalidate(a_1, p, b)\n",
    "            if result == 1:\n",
    "                falseResults = falseResults + str(a) + ', '\n",
    "                contador += 1\n",
    "        if(len(falseResults) == 0):\n",
    "            print(\"No se han obtenido falsos testigos\")\n",
    "        else:\n",
    "            print(falseResults[0:len(falseResults)-2])\n",
    "            print(\"\\nEn total, se han obtenido \", contador, \" falsos testigos de \", len(testigos))\n",
    "    else:\n",
    "        print(\"\\nValor de P no valido\")"
   ]
  },
  {
   "cell_type": "code",
   "execution_count": 13,
   "metadata": {},
   "outputs": [
    {
     "name": "stdout",
     "output_type": "stream",
     "text": [
      "16, 18, 40, 45, 66, 78, 100, 122, 141, 165, 195, 242, 250, 256, 286, 288, 303, 305, 318, 324, 327, 332, 338, 433, 474, 482, 508, 517, 523, 573, 605, 611, 619, 625, 640, 652, 715, 720, 739, 769, 795, 804, 810, 821, 824, 830, 843, 845, 877, 898, 927, 961, 983, 1002, 1056, 1082, 1091, 1108, 1111, 1117, 1132, 1147, 1166, 1185, 1188, 1193, 1199, 1205, 1248, 1270, 1289, 1313, 1369, 1378, 1404, 1417, 1451, 1453, 1466, 1513, 1527, 1576, 1581, 1600, 1630, 1644, 1671, 1682, 1691, 1721, 1738, 1753, 1762, 1767, 1773, 1779, 1788, 1800, 1868, 1887, 1931, 1952, 1964, 1972, 1993, 2008, 2010, 2025, 2027, 2054, 2060, 2075, 2101, 2109, 2131, 2174, 2196, 2204, 2218, 2245, 2256, 2259, 2312, 2347, 2396, 2483, 2491, 2505, 2526, 2538, 2543, 2567, 2584, 2601, 2614, 2634, 2640, 2661, 2705, 2729, 2770, 2813, 2830, 2869, 2888, 2907, 2915, 2927, 2936, 2948, 2962, 2970, 3057, 3079, 3091, 3117, 3120, 3139, 3156, 3175, 3188, 3202, 3249, 3298, 3303, 3352, 3399, 3413, 3426, 3445, 3462, 3481, 3484, 3510, 3522, 3544, 3631, 3639, 3653, 3665, 3674, 3686, 3694, 3713, 3732, 3771, 3788, 3831, 3872, 3896, 3940, 3961, 3967, 3987, 4000, 4017, 4034, 4058, 4063, 4075, 4096, 4110, 4118, 4205, 4254, 4289, 4342, 4345, 4356, 4383, 4397, 4405, 4427, 4470, 4492, 4500, 4526, 4541, 4547, 4574, 4576, 4591, 4593, 4608, 4629, 4637, 4649, 4670, 4714, 4733, 4801, 4813, 4822, 4828, 4834, 4839, 4848, 4863, 4880, 4910, 4919, 4930, 4957, 4971, 5001, 5020, 5025, 5074, 5088, 5135, 5148, 5150, 5184, 5197, 5223, 5232, 5288, 5312, 5331, 5353, 5396, 5402, 5408, 5413, 5416, 5435, 5454, 5469, 5484, 5490, 5493, 5510, 5519, 5545, 5599, 5618, 5640, 5674, 5703, 5724, 5756, 5758, 5771, 5777, 5780, 5791, 5797, 5806, 5832, 5862, 5881, 5886, 5949, 5961, 5976, 5982, 5990, 5996, 6028, 6078, 6084, 6093, 6119, 6127, 6168, 6263, 6269, 6274, 6277, 6283, 6296, 6298, 6313, 6315, 6345, 6351, 6359, 6406, 6436, 6460, 6479, 6501, 6523, 6535, 6556, 6561, 6583, 6585\n",
      "\n",
      "En total, se han obtenido  328  falsos testigos de  6597\n"
     ]
    }
   ],
   "source": [
    "p = 6601\n",
    "n_testigos = p-5\n",
    "aux = 2\n",
    "testigos = np.array([aux])\n",
    "for i in range(n_testigos):\n",
    "    aux += 1\n",
    "    testigos = np.append(testigos, [aux], axis = 0)\n",
    "testMillerRabinFalsos(p, testigos)"
   ]
  },
  {
   "cell_type": "markdown",
   "metadata": {},
   "source": [
    "<p>Se ha modificado la función para mostrar todos los falsos testigos.</p>"
   ]
  },
  {
   "cell_type": "markdown",
   "metadata": {},
   "source": [
    "## Ejercicio 07.\n",
    "#### Elegimos dos números compuestos grandes (uno que sea producto de varios números primos pequeños y otro que sea producto de dos números primos grandes. Para elegir estos primos usaremos alguna de las funciones que hemos implementado en los aparatados 3, 4 ó 5). Para estos dos primos, elegiremos al azar doscientos testigos y veremos cuáles son falsos."
   ]
  },
  {
   "cell_type": "code",
   "execution_count": 14,
   "metadata": {},
   "outputs": [
    {
     "name": "stdout",
     "output_type": "stream",
     "text": [
      "El siguiente primo fuerte probable es:  107\n",
      "El siguiente primo fuerte probable es:  227\n",
      "El siguiente primo fuerte probable es:  347\n"
     ]
    }
   ],
   "source": [
    "m = 100\n",
    "n_testigos = 10\n",
    "state = True\n",
    "nextPrimo(m, n_testigos, state)\n",
    "m = 200\n",
    "nextPrimo(m, n_testigos, state)\n",
    "m = 300\n",
    "nextPrimo(m, n_testigos, state)"
   ]
  },
  {
   "cell_type": "code",
   "execution_count": 15,
   "metadata": {},
   "outputs": [
    {
     "name": "stdout",
     "output_type": "stream",
     "text": [
      "Valor de P:  8428283\n",
      "No se han obtenido falsos testigos\n"
     ]
    }
   ],
   "source": [
    "p = 107*227*347\n",
    "n_testigos = 200\n",
    "testigos = np.random.randint(2, p-2, size = n_testigos, dtype = 'int64').tolist()\n",
    "print(\"Valor de P: \", p)\n",
    "testMillerRabinFalsos(p, testigos)"
   ]
  },
  {
   "cell_type": "code",
   "execution_count": 16,
   "metadata": {},
   "outputs": [
    {
     "name": "stdout",
     "output_type": "stream",
     "text": [
      "El siguiente primo fuerte probable es:  1000667\n",
      "El siguiente primo fuerte probable es:  2000303\n",
      "El siguiente primo fuerte probable es:  3000539\n"
     ]
    }
   ],
   "source": [
    "m = 1000000\n",
    "n_testigos = 10\n",
    "state = True\n",
    "nextPrimo(m, n_testigos, state)\n",
    "m = 2000000\n",
    "nextPrimo(m, n_testigos, state)\n",
    "m = 3000000\n",
    "nextPrimo(m, n_testigos, state)"
   ]
  },
  {
   "cell_type": "code",
   "execution_count": 17,
   "metadata": {},
   "outputs": [
    {
     "name": "stdout",
     "output_type": "stream",
     "text": [
      "Valor de P:  6005990488754932439\n",
      "No se han obtenido falsos testigos\n"
     ]
    }
   ],
   "source": [
    "p = 1000667*2000303*3000539\n",
    "n_testigos = 200\n",
    "testigos = np.random.randint(2, p-2, size = n_testigos, dtype = 'int64').tolist()\n",
    "print(\"Valor de P: \", p)\n",
    "testMillerRabinFalsos(p, testigos)"
   ]
  },
  {
   "cell_type": "markdown",
   "metadata": {},
   "source": [
    "## Ejercicio 08.\n",
    "#### Repetimos el apartado anterior pero con los números $ n_{1} $ = 3215031751 y $ n_{2} $ = 2199733160881"
   ]
  },
  {
   "cell_type": "code",
   "execution_count": 18,
   "metadata": {},
   "outputs": [
    {
     "name": "stdout",
     "output_type": "stream",
     "text": [
      "1286673480, 1586783633, 2489023551, 1033655637, 2040374407, 91457007, 861117149, 222947802, 2586346337, 2033462373, 2921861851, 709991674, 1343100456, 2225067761, 646747271, 1737568457, 3194938597, 14081556, 944703366, 2244019579, 1236458100, 2037289935, 1484557224, 2513810700, 2552782221, 1080714718, 3137055690, 766655560, 1480402395, 340668510, 759410872, 1473715708, 288614357, 1223353920, 1170312199, 1543416776, 2897011296, 2592371990, 1144734878, 2216052231, 2916280521, 2727031433, 144058075, 3049212614, 967638576, 2534443174, 2471525340, 756783323, 1746693732, 531151874, 3102374903, 929942361\n",
      "\n",
      "En total, se han obtenido  52  falsos testigos de  200\n"
     ]
    }
   ],
   "source": [
    "p = 3215031751\n",
    "n_testigos = 200\n",
    "testigos = np.random.randint(2, p-2, size = n_testigos, dtype = 'int64').tolist()\n",
    "testMillerRabinFalsos(p, testigos)"
   ]
  },
  {
   "cell_type": "code",
   "execution_count": 19,
   "metadata": {},
   "outputs": [
    {
     "name": "stdout",
     "output_type": "stream",
     "text": [
      "205526214885, 2108631049409, 1317617320649, 1571330057997, 236286787415, 355662436575, 1422162817436, 45697831188, 1809852635490, 2190129530507, 536728807211, 1349168995834, 49230377747, 1954290055426, 174844278692, 2034738380392, 177780446452, 1354466091635, 766595874338\n",
      "\n",
      "En total, se han obtenido  19  falsos testigos de  200\n"
     ]
    }
   ],
   "source": [
    "p = 2199733160881\n",
    "n_testigos = 200\n",
    "testigos = np.random.randint(2, p-2, size = n_testigos, dtype = 'int64').tolist()\n",
    "testMillerRabinFalsos(p, testigos)"
   ]
  }
 ],
 "metadata": {
  "kernelspec": {
   "display_name": "Python 3",
   "language": "python",
   "name": "python3"
  },
  "language_info": {
   "codemirror_mode": {
    "name": "ipython",
    "version": 3
   },
   "file_extension": ".py",
   "mimetype": "text/x-python",
   "name": "python",
   "nbconvert_exporter": "python",
   "pygments_lexer": "ipython3",
   "version": "3.7.1"
  }
 },
 "nbformat": 4,
 "nbformat_minor": 2
}
